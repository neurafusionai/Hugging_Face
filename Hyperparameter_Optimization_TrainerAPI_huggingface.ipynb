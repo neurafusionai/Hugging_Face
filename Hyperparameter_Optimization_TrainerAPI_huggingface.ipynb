{
  "nbformat": 4,
  "nbformat_minor": 0,
  "metadata": {
    "colab": {
      "provenance": [],
      "gpuType": "T4"
    },
    "kernelspec": {
      "name": "python3",
      "display_name": "Python 3"
    },
    "language_info": {
      "name": "python"
    },
    "accelerator": "GPU",
    "widgets": {
      "application/vnd.jupyter.widget-state+json": {
        "098e7843cae24951adb7c87307c895cf": {
          "model_module": "@jupyter-widgets/controls",
          "model_name": "VBoxModel",
          "model_module_version": "1.5.0",
          "state": {
            "_dom_classes": [],
            "_model_module": "@jupyter-widgets/controls",
            "_model_module_version": "1.5.0",
            "_model_name": "VBoxModel",
            "_view_count": null,
            "_view_module": "@jupyter-widgets/controls",
            "_view_module_version": "1.5.0",
            "_view_name": "VBoxView",
            "box_style": "",
            "children": [
              "IPY_MODEL_8a5f655ba18a4a6b87f65709fe6f828c",
              "IPY_MODEL_6ef7c9375dec495290a4fccc6a474c30",
              "IPY_MODEL_989484f70e844d78a2dcccda89dd5d6e",
              "IPY_MODEL_70a0dfd6f737417fb8d1769fb164852b"
            ],
            "layout": "IPY_MODEL_09e8efc02bea4183b1a00d73bf3bcbc0"
          }
        },
        "97f3ee34aff24269bcc4f715c6f28622": {
          "model_module": "@jupyter-widgets/controls",
          "model_name": "HTMLModel",
          "model_module_version": "1.5.0",
          "state": {
            "_dom_classes": [],
            "_model_module": "@jupyter-widgets/controls",
            "_model_module_version": "1.5.0",
            "_model_name": "HTMLModel",
            "_view_count": null,
            "_view_module": "@jupyter-widgets/controls",
            "_view_module_version": "1.5.0",
            "_view_name": "HTMLView",
            "description": "",
            "description_tooltip": null,
            "layout": "IPY_MODEL_55fb1ecc5f924ec78bfb9916f1d2317e",
            "placeholder": "​",
            "style": "IPY_MODEL_8a6ac2e48f654e3880d0d60d6dc53cc7",
            "value": "<center> <img\nsrc=https://huggingface.co/front/assets/huggingface_logo-noborder.svg\nalt='Hugging Face'> <br> Copy a token from <a\nhref=\"https://huggingface.co/settings/tokens\" target=\"_blank\">your Hugging Face\ntokens page</a> and paste it below. <br> Immediately click login after copying\nyour token or it might be stored in plain text in this notebook file. </center>"
          }
        },
        "01bc142df34c4c61a32bdd07e3c1143e": {
          "model_module": "@jupyter-widgets/controls",
          "model_name": "PasswordModel",
          "model_module_version": "1.5.0",
          "state": {
            "_dom_classes": [],
            "_model_module": "@jupyter-widgets/controls",
            "_model_module_version": "1.5.0",
            "_model_name": "PasswordModel",
            "_view_count": null,
            "_view_module": "@jupyter-widgets/controls",
            "_view_module_version": "1.5.0",
            "_view_name": "PasswordView",
            "continuous_update": true,
            "description": "Token:",
            "description_tooltip": null,
            "disabled": false,
            "layout": "IPY_MODEL_a5c66ce9ed4947b1ac6d67f189ea6184",
            "placeholder": "​",
            "style": "IPY_MODEL_7ccd6e18f08d44b39b055db5e8e47e7d",
            "value": ""
          }
        },
        "72c07d2c0888440ba3cd02fa7dc17cbc": {
          "model_module": "@jupyter-widgets/controls",
          "model_name": "CheckboxModel",
          "model_module_version": "1.5.0",
          "state": {
            "_dom_classes": [],
            "_model_module": "@jupyter-widgets/controls",
            "_model_module_version": "1.5.0",
            "_model_name": "CheckboxModel",
            "_view_count": null,
            "_view_module": "@jupyter-widgets/controls",
            "_view_module_version": "1.5.0",
            "_view_name": "CheckboxView",
            "description": "Add token as git credential?",
            "description_tooltip": null,
            "disabled": false,
            "indent": true,
            "layout": "IPY_MODEL_637f181bf81946c382428c22f8d279ce",
            "style": "IPY_MODEL_4d04083e292e471ab1b511752a534594",
            "value": true
          }
        },
        "60b387b129484633b1bc46d5bc8e5b69": {
          "model_module": "@jupyter-widgets/controls",
          "model_name": "ButtonModel",
          "model_module_version": "1.5.0",
          "state": {
            "_dom_classes": [],
            "_model_module": "@jupyter-widgets/controls",
            "_model_module_version": "1.5.0",
            "_model_name": "ButtonModel",
            "_view_count": null,
            "_view_module": "@jupyter-widgets/controls",
            "_view_module_version": "1.5.0",
            "_view_name": "ButtonView",
            "button_style": "",
            "description": "Login",
            "disabled": false,
            "icon": "",
            "layout": "IPY_MODEL_6fedf5f1c8ea4a218fbc71e626e4e143",
            "style": "IPY_MODEL_0d9897f3f4804f55ace6815f2759638f",
            "tooltip": ""
          }
        },
        "70dee29e278f434ea9fbfbb813cfc7a4": {
          "model_module": "@jupyter-widgets/controls",
          "model_name": "HTMLModel",
          "model_module_version": "1.5.0",
          "state": {
            "_dom_classes": [],
            "_model_module": "@jupyter-widgets/controls",
            "_model_module_version": "1.5.0",
            "_model_name": "HTMLModel",
            "_view_count": null,
            "_view_module": "@jupyter-widgets/controls",
            "_view_module_version": "1.5.0",
            "_view_name": "HTMLView",
            "description": "",
            "description_tooltip": null,
            "layout": "IPY_MODEL_11ad298fe7b44657bd5fbafcfafbc5be",
            "placeholder": "​",
            "style": "IPY_MODEL_b7a87ccb440b417ca05626e7e4f5981d",
            "value": "\n<b>Pro Tip:</b> If you don't already have one, you can create a dedicated\n'notebooks' token with 'write' access, that you can then easily reuse for all\nnotebooks. </center>"
          }
        },
        "09e8efc02bea4183b1a00d73bf3bcbc0": {
          "model_module": "@jupyter-widgets/base",
          "model_name": "LayoutModel",
          "model_module_version": "1.2.0",
          "state": {
            "_model_module": "@jupyter-widgets/base",
            "_model_module_version": "1.2.0",
            "_model_name": "LayoutModel",
            "_view_count": null,
            "_view_module": "@jupyter-widgets/base",
            "_view_module_version": "1.2.0",
            "_view_name": "LayoutView",
            "align_content": null,
            "align_items": "center",
            "align_self": null,
            "border": null,
            "bottom": null,
            "display": "flex",
            "flex": null,
            "flex_flow": "column",
            "grid_area": null,
            "grid_auto_columns": null,
            "grid_auto_flow": null,
            "grid_auto_rows": null,
            "grid_column": null,
            "grid_gap": null,
            "grid_row": null,
            "grid_template_areas": null,
            "grid_template_columns": null,
            "grid_template_rows": null,
            "height": null,
            "justify_content": null,
            "justify_items": null,
            "left": null,
            "margin": null,
            "max_height": null,
            "max_width": null,
            "min_height": null,
            "min_width": null,
            "object_fit": null,
            "object_position": null,
            "order": null,
            "overflow": null,
            "overflow_x": null,
            "overflow_y": null,
            "padding": null,
            "right": null,
            "top": null,
            "visibility": null,
            "width": "50%"
          }
        },
        "55fb1ecc5f924ec78bfb9916f1d2317e": {
          "model_module": "@jupyter-widgets/base",
          "model_name": "LayoutModel",
          "model_module_version": "1.2.0",
          "state": {
            "_model_module": "@jupyter-widgets/base",
            "_model_module_version": "1.2.0",
            "_model_name": "LayoutModel",
            "_view_count": null,
            "_view_module": "@jupyter-widgets/base",
            "_view_module_version": "1.2.0",
            "_view_name": "LayoutView",
            "align_content": null,
            "align_items": null,
            "align_self": null,
            "border": null,
            "bottom": null,
            "display": null,
            "flex": null,
            "flex_flow": null,
            "grid_area": null,
            "grid_auto_columns": null,
            "grid_auto_flow": null,
            "grid_auto_rows": null,
            "grid_column": null,
            "grid_gap": null,
            "grid_row": null,
            "grid_template_areas": null,
            "grid_template_columns": null,
            "grid_template_rows": null,
            "height": null,
            "justify_content": null,
            "justify_items": null,
            "left": null,
            "margin": null,
            "max_height": null,
            "max_width": null,
            "min_height": null,
            "min_width": null,
            "object_fit": null,
            "object_position": null,
            "order": null,
            "overflow": null,
            "overflow_x": null,
            "overflow_y": null,
            "padding": null,
            "right": null,
            "top": null,
            "visibility": null,
            "width": null
          }
        },
        "8a6ac2e48f654e3880d0d60d6dc53cc7": {
          "model_module": "@jupyter-widgets/controls",
          "model_name": "DescriptionStyleModel",
          "model_module_version": "1.5.0",
          "state": {
            "_model_module": "@jupyter-widgets/controls",
            "_model_module_version": "1.5.0",
            "_model_name": "DescriptionStyleModel",
            "_view_count": null,
            "_view_module": "@jupyter-widgets/base",
            "_view_module_version": "1.2.0",
            "_view_name": "StyleView",
            "description_width": ""
          }
        },
        "a5c66ce9ed4947b1ac6d67f189ea6184": {
          "model_module": "@jupyter-widgets/base",
          "model_name": "LayoutModel",
          "model_module_version": "1.2.0",
          "state": {
            "_model_module": "@jupyter-widgets/base",
            "_model_module_version": "1.2.0",
            "_model_name": "LayoutModel",
            "_view_count": null,
            "_view_module": "@jupyter-widgets/base",
            "_view_module_version": "1.2.0",
            "_view_name": "LayoutView",
            "align_content": null,
            "align_items": null,
            "align_self": null,
            "border": null,
            "bottom": null,
            "display": null,
            "flex": null,
            "flex_flow": null,
            "grid_area": null,
            "grid_auto_columns": null,
            "grid_auto_flow": null,
            "grid_auto_rows": null,
            "grid_column": null,
            "grid_gap": null,
            "grid_row": null,
            "grid_template_areas": null,
            "grid_template_columns": null,
            "grid_template_rows": null,
            "height": null,
            "justify_content": null,
            "justify_items": null,
            "left": null,
            "margin": null,
            "max_height": null,
            "max_width": null,
            "min_height": null,
            "min_width": null,
            "object_fit": null,
            "object_position": null,
            "order": null,
            "overflow": null,
            "overflow_x": null,
            "overflow_y": null,
            "padding": null,
            "right": null,
            "top": null,
            "visibility": null,
            "width": null
          }
        },
        "7ccd6e18f08d44b39b055db5e8e47e7d": {
          "model_module": "@jupyter-widgets/controls",
          "model_name": "DescriptionStyleModel",
          "model_module_version": "1.5.0",
          "state": {
            "_model_module": "@jupyter-widgets/controls",
            "_model_module_version": "1.5.0",
            "_model_name": "DescriptionStyleModel",
            "_view_count": null,
            "_view_module": "@jupyter-widgets/base",
            "_view_module_version": "1.2.0",
            "_view_name": "StyleView",
            "description_width": ""
          }
        },
        "637f181bf81946c382428c22f8d279ce": {
          "model_module": "@jupyter-widgets/base",
          "model_name": "LayoutModel",
          "model_module_version": "1.2.0",
          "state": {
            "_model_module": "@jupyter-widgets/base",
            "_model_module_version": "1.2.0",
            "_model_name": "LayoutModel",
            "_view_count": null,
            "_view_module": "@jupyter-widgets/base",
            "_view_module_version": "1.2.0",
            "_view_name": "LayoutView",
            "align_content": null,
            "align_items": null,
            "align_self": null,
            "border": null,
            "bottom": null,
            "display": null,
            "flex": null,
            "flex_flow": null,
            "grid_area": null,
            "grid_auto_columns": null,
            "grid_auto_flow": null,
            "grid_auto_rows": null,
            "grid_column": null,
            "grid_gap": null,
            "grid_row": null,
            "grid_template_areas": null,
            "grid_template_columns": null,
            "grid_template_rows": null,
            "height": null,
            "justify_content": null,
            "justify_items": null,
            "left": null,
            "margin": null,
            "max_height": null,
            "max_width": null,
            "min_height": null,
            "min_width": null,
            "object_fit": null,
            "object_position": null,
            "order": null,
            "overflow": null,
            "overflow_x": null,
            "overflow_y": null,
            "padding": null,
            "right": null,
            "top": null,
            "visibility": null,
            "width": null
          }
        },
        "4d04083e292e471ab1b511752a534594": {
          "model_module": "@jupyter-widgets/controls",
          "model_name": "DescriptionStyleModel",
          "model_module_version": "1.5.0",
          "state": {
            "_model_module": "@jupyter-widgets/controls",
            "_model_module_version": "1.5.0",
            "_model_name": "DescriptionStyleModel",
            "_view_count": null,
            "_view_module": "@jupyter-widgets/base",
            "_view_module_version": "1.2.0",
            "_view_name": "StyleView",
            "description_width": ""
          }
        },
        "6fedf5f1c8ea4a218fbc71e626e4e143": {
          "model_module": "@jupyter-widgets/base",
          "model_name": "LayoutModel",
          "model_module_version": "1.2.0",
          "state": {
            "_model_module": "@jupyter-widgets/base",
            "_model_module_version": "1.2.0",
            "_model_name": "LayoutModel",
            "_view_count": null,
            "_view_module": "@jupyter-widgets/base",
            "_view_module_version": "1.2.0",
            "_view_name": "LayoutView",
            "align_content": null,
            "align_items": null,
            "align_self": null,
            "border": null,
            "bottom": null,
            "display": null,
            "flex": null,
            "flex_flow": null,
            "grid_area": null,
            "grid_auto_columns": null,
            "grid_auto_flow": null,
            "grid_auto_rows": null,
            "grid_column": null,
            "grid_gap": null,
            "grid_row": null,
            "grid_template_areas": null,
            "grid_template_columns": null,
            "grid_template_rows": null,
            "height": null,
            "justify_content": null,
            "justify_items": null,
            "left": null,
            "margin": null,
            "max_height": null,
            "max_width": null,
            "min_height": null,
            "min_width": null,
            "object_fit": null,
            "object_position": null,
            "order": null,
            "overflow": null,
            "overflow_x": null,
            "overflow_y": null,
            "padding": null,
            "right": null,
            "top": null,
            "visibility": null,
            "width": null
          }
        },
        "0d9897f3f4804f55ace6815f2759638f": {
          "model_module": "@jupyter-widgets/controls",
          "model_name": "ButtonStyleModel",
          "model_module_version": "1.5.0",
          "state": {
            "_model_module": "@jupyter-widgets/controls",
            "_model_module_version": "1.5.0",
            "_model_name": "ButtonStyleModel",
            "_view_count": null,
            "_view_module": "@jupyter-widgets/base",
            "_view_module_version": "1.2.0",
            "_view_name": "StyleView",
            "button_color": null,
            "font_weight": ""
          }
        },
        "11ad298fe7b44657bd5fbafcfafbc5be": {
          "model_module": "@jupyter-widgets/base",
          "model_name": "LayoutModel",
          "model_module_version": "1.2.0",
          "state": {
            "_model_module": "@jupyter-widgets/base",
            "_model_module_version": "1.2.0",
            "_model_name": "LayoutModel",
            "_view_count": null,
            "_view_module": "@jupyter-widgets/base",
            "_view_module_version": "1.2.0",
            "_view_name": "LayoutView",
            "align_content": null,
            "align_items": null,
            "align_self": null,
            "border": null,
            "bottom": null,
            "display": null,
            "flex": null,
            "flex_flow": null,
            "grid_area": null,
            "grid_auto_columns": null,
            "grid_auto_flow": null,
            "grid_auto_rows": null,
            "grid_column": null,
            "grid_gap": null,
            "grid_row": null,
            "grid_template_areas": null,
            "grid_template_columns": null,
            "grid_template_rows": null,
            "height": null,
            "justify_content": null,
            "justify_items": null,
            "left": null,
            "margin": null,
            "max_height": null,
            "max_width": null,
            "min_height": null,
            "min_width": null,
            "object_fit": null,
            "object_position": null,
            "order": null,
            "overflow": null,
            "overflow_x": null,
            "overflow_y": null,
            "padding": null,
            "right": null,
            "top": null,
            "visibility": null,
            "width": null
          }
        },
        "b7a87ccb440b417ca05626e7e4f5981d": {
          "model_module": "@jupyter-widgets/controls",
          "model_name": "DescriptionStyleModel",
          "model_module_version": "1.5.0",
          "state": {
            "_model_module": "@jupyter-widgets/controls",
            "_model_module_version": "1.5.0",
            "_model_name": "DescriptionStyleModel",
            "_view_count": null,
            "_view_module": "@jupyter-widgets/base",
            "_view_module_version": "1.2.0",
            "_view_name": "StyleView",
            "description_width": ""
          }
        },
        "8faf24e049c54b0783486db00d43b143": {
          "model_module": "@jupyter-widgets/controls",
          "model_name": "LabelModel",
          "model_module_version": "1.5.0",
          "state": {
            "_dom_classes": [],
            "_model_module": "@jupyter-widgets/controls",
            "_model_module_version": "1.5.0",
            "_model_name": "LabelModel",
            "_view_count": null,
            "_view_module": "@jupyter-widgets/controls",
            "_view_module_version": "1.5.0",
            "_view_name": "LabelView",
            "description": "",
            "description_tooltip": null,
            "layout": "IPY_MODEL_edf5c155161e4eb69ef5fb0d887aadab",
            "placeholder": "​",
            "style": "IPY_MODEL_1c5f032efda04d2ea5cbca43f12cd367",
            "value": "Connecting..."
          }
        },
        "edf5c155161e4eb69ef5fb0d887aadab": {
          "model_module": "@jupyter-widgets/base",
          "model_name": "LayoutModel",
          "model_module_version": "1.2.0",
          "state": {
            "_model_module": "@jupyter-widgets/base",
            "_model_module_version": "1.2.0",
            "_model_name": "LayoutModel",
            "_view_count": null,
            "_view_module": "@jupyter-widgets/base",
            "_view_module_version": "1.2.0",
            "_view_name": "LayoutView",
            "align_content": null,
            "align_items": null,
            "align_self": null,
            "border": null,
            "bottom": null,
            "display": null,
            "flex": null,
            "flex_flow": null,
            "grid_area": null,
            "grid_auto_columns": null,
            "grid_auto_flow": null,
            "grid_auto_rows": null,
            "grid_column": null,
            "grid_gap": null,
            "grid_row": null,
            "grid_template_areas": null,
            "grid_template_columns": null,
            "grid_template_rows": null,
            "height": null,
            "justify_content": null,
            "justify_items": null,
            "left": null,
            "margin": null,
            "max_height": null,
            "max_width": null,
            "min_height": null,
            "min_width": null,
            "object_fit": null,
            "object_position": null,
            "order": null,
            "overflow": null,
            "overflow_x": null,
            "overflow_y": null,
            "padding": null,
            "right": null,
            "top": null,
            "visibility": null,
            "width": null
          }
        },
        "1c5f032efda04d2ea5cbca43f12cd367": {
          "model_module": "@jupyter-widgets/controls",
          "model_name": "DescriptionStyleModel",
          "model_module_version": "1.5.0",
          "state": {
            "_model_module": "@jupyter-widgets/controls",
            "_model_module_version": "1.5.0",
            "_model_name": "DescriptionStyleModel",
            "_view_count": null,
            "_view_module": "@jupyter-widgets/base",
            "_view_module_version": "1.2.0",
            "_view_name": "StyleView",
            "description_width": ""
          }
        },
        "8a5f655ba18a4a6b87f65709fe6f828c": {
          "model_module": "@jupyter-widgets/controls",
          "model_name": "LabelModel",
          "model_module_version": "1.5.0",
          "state": {
            "_dom_classes": [],
            "_model_module": "@jupyter-widgets/controls",
            "_model_module_version": "1.5.0",
            "_model_name": "LabelModel",
            "_view_count": null,
            "_view_module": "@jupyter-widgets/controls",
            "_view_module_version": "1.5.0",
            "_view_name": "LabelView",
            "description": "",
            "description_tooltip": null,
            "layout": "IPY_MODEL_48d8f54f05434de1b38d18037bc2081a",
            "placeholder": "​",
            "style": "IPY_MODEL_157752e0fd944350b18696e52526d8a8",
            "value": "Token is valid (permission: fineGrained)."
          }
        },
        "6ef7c9375dec495290a4fccc6a474c30": {
          "model_module": "@jupyter-widgets/controls",
          "model_name": "LabelModel",
          "model_module_version": "1.5.0",
          "state": {
            "_dom_classes": [],
            "_model_module": "@jupyter-widgets/controls",
            "_model_module_version": "1.5.0",
            "_model_name": "LabelModel",
            "_view_count": null,
            "_view_module": "@jupyter-widgets/controls",
            "_view_module_version": "1.5.0",
            "_view_name": "LabelView",
            "description": "",
            "description_tooltip": null,
            "layout": "IPY_MODEL_b3dd0d31e77847f091ff60f58315dbf9",
            "placeholder": "​",
            "style": "IPY_MODEL_7117ea7e3c8641af91661d13dfcf7b03",
            "value": "Your token has been saved in your configured git credential helpers (store)."
          }
        },
        "989484f70e844d78a2dcccda89dd5d6e": {
          "model_module": "@jupyter-widgets/controls",
          "model_name": "LabelModel",
          "model_module_version": "1.5.0",
          "state": {
            "_dom_classes": [],
            "_model_module": "@jupyter-widgets/controls",
            "_model_module_version": "1.5.0",
            "_model_name": "LabelModel",
            "_view_count": null,
            "_view_module": "@jupyter-widgets/controls",
            "_view_module_version": "1.5.0",
            "_view_name": "LabelView",
            "description": "",
            "description_tooltip": null,
            "layout": "IPY_MODEL_3949019778934fa881513e0adbedbb41",
            "placeholder": "​",
            "style": "IPY_MODEL_56ff606c0fdb47d3800fb7c4a5fe69cc",
            "value": "Your token has been saved to /root/.cache/huggingface/token"
          }
        },
        "70a0dfd6f737417fb8d1769fb164852b": {
          "model_module": "@jupyter-widgets/controls",
          "model_name": "LabelModel",
          "model_module_version": "1.5.0",
          "state": {
            "_dom_classes": [],
            "_model_module": "@jupyter-widgets/controls",
            "_model_module_version": "1.5.0",
            "_model_name": "LabelModel",
            "_view_count": null,
            "_view_module": "@jupyter-widgets/controls",
            "_view_module_version": "1.5.0",
            "_view_name": "LabelView",
            "description": "",
            "description_tooltip": null,
            "layout": "IPY_MODEL_48a95f678d3a46ad94dfa677ae743c20",
            "placeholder": "​",
            "style": "IPY_MODEL_ccc7da5f4f79419cbb8384311d6d5877",
            "value": "Login successful"
          }
        },
        "48d8f54f05434de1b38d18037bc2081a": {
          "model_module": "@jupyter-widgets/base",
          "model_name": "LayoutModel",
          "model_module_version": "1.2.0",
          "state": {
            "_model_module": "@jupyter-widgets/base",
            "_model_module_version": "1.2.0",
            "_model_name": "LayoutModel",
            "_view_count": null,
            "_view_module": "@jupyter-widgets/base",
            "_view_module_version": "1.2.0",
            "_view_name": "LayoutView",
            "align_content": null,
            "align_items": null,
            "align_self": null,
            "border": null,
            "bottom": null,
            "display": null,
            "flex": null,
            "flex_flow": null,
            "grid_area": null,
            "grid_auto_columns": null,
            "grid_auto_flow": null,
            "grid_auto_rows": null,
            "grid_column": null,
            "grid_gap": null,
            "grid_row": null,
            "grid_template_areas": null,
            "grid_template_columns": null,
            "grid_template_rows": null,
            "height": null,
            "justify_content": null,
            "justify_items": null,
            "left": null,
            "margin": null,
            "max_height": null,
            "max_width": null,
            "min_height": null,
            "min_width": null,
            "object_fit": null,
            "object_position": null,
            "order": null,
            "overflow": null,
            "overflow_x": null,
            "overflow_y": null,
            "padding": null,
            "right": null,
            "top": null,
            "visibility": null,
            "width": null
          }
        },
        "157752e0fd944350b18696e52526d8a8": {
          "model_module": "@jupyter-widgets/controls",
          "model_name": "DescriptionStyleModel",
          "model_module_version": "1.5.0",
          "state": {
            "_model_module": "@jupyter-widgets/controls",
            "_model_module_version": "1.5.0",
            "_model_name": "DescriptionStyleModel",
            "_view_count": null,
            "_view_module": "@jupyter-widgets/base",
            "_view_module_version": "1.2.0",
            "_view_name": "StyleView",
            "description_width": ""
          }
        },
        "b3dd0d31e77847f091ff60f58315dbf9": {
          "model_module": "@jupyter-widgets/base",
          "model_name": "LayoutModel",
          "model_module_version": "1.2.0",
          "state": {
            "_model_module": "@jupyter-widgets/base",
            "_model_module_version": "1.2.0",
            "_model_name": "LayoutModel",
            "_view_count": null,
            "_view_module": "@jupyter-widgets/base",
            "_view_module_version": "1.2.0",
            "_view_name": "LayoutView",
            "align_content": null,
            "align_items": null,
            "align_self": null,
            "border": null,
            "bottom": null,
            "display": null,
            "flex": null,
            "flex_flow": null,
            "grid_area": null,
            "grid_auto_columns": null,
            "grid_auto_flow": null,
            "grid_auto_rows": null,
            "grid_column": null,
            "grid_gap": null,
            "grid_row": null,
            "grid_template_areas": null,
            "grid_template_columns": null,
            "grid_template_rows": null,
            "height": null,
            "justify_content": null,
            "justify_items": null,
            "left": null,
            "margin": null,
            "max_height": null,
            "max_width": null,
            "min_height": null,
            "min_width": null,
            "object_fit": null,
            "object_position": null,
            "order": null,
            "overflow": null,
            "overflow_x": null,
            "overflow_y": null,
            "padding": null,
            "right": null,
            "top": null,
            "visibility": null,
            "width": null
          }
        },
        "7117ea7e3c8641af91661d13dfcf7b03": {
          "model_module": "@jupyter-widgets/controls",
          "model_name": "DescriptionStyleModel",
          "model_module_version": "1.5.0",
          "state": {
            "_model_module": "@jupyter-widgets/controls",
            "_model_module_version": "1.5.0",
            "_model_name": "DescriptionStyleModel",
            "_view_count": null,
            "_view_module": "@jupyter-widgets/base",
            "_view_module_version": "1.2.0",
            "_view_name": "StyleView",
            "description_width": ""
          }
        },
        "3949019778934fa881513e0adbedbb41": {
          "model_module": "@jupyter-widgets/base",
          "model_name": "LayoutModel",
          "model_module_version": "1.2.0",
          "state": {
            "_model_module": "@jupyter-widgets/base",
            "_model_module_version": "1.2.0",
            "_model_name": "LayoutModel",
            "_view_count": null,
            "_view_module": "@jupyter-widgets/base",
            "_view_module_version": "1.2.0",
            "_view_name": "LayoutView",
            "align_content": null,
            "align_items": null,
            "align_self": null,
            "border": null,
            "bottom": null,
            "display": null,
            "flex": null,
            "flex_flow": null,
            "grid_area": null,
            "grid_auto_columns": null,
            "grid_auto_flow": null,
            "grid_auto_rows": null,
            "grid_column": null,
            "grid_gap": null,
            "grid_row": null,
            "grid_template_areas": null,
            "grid_template_columns": null,
            "grid_template_rows": null,
            "height": null,
            "justify_content": null,
            "justify_items": null,
            "left": null,
            "margin": null,
            "max_height": null,
            "max_width": null,
            "min_height": null,
            "min_width": null,
            "object_fit": null,
            "object_position": null,
            "order": null,
            "overflow": null,
            "overflow_x": null,
            "overflow_y": null,
            "padding": null,
            "right": null,
            "top": null,
            "visibility": null,
            "width": null
          }
        },
        "56ff606c0fdb47d3800fb7c4a5fe69cc": {
          "model_module": "@jupyter-widgets/controls",
          "model_name": "DescriptionStyleModel",
          "model_module_version": "1.5.0",
          "state": {
            "_model_module": "@jupyter-widgets/controls",
            "_model_module_version": "1.5.0",
            "_model_name": "DescriptionStyleModel",
            "_view_count": null,
            "_view_module": "@jupyter-widgets/base",
            "_view_module_version": "1.2.0",
            "_view_name": "StyleView",
            "description_width": ""
          }
        },
        "48a95f678d3a46ad94dfa677ae743c20": {
          "model_module": "@jupyter-widgets/base",
          "model_name": "LayoutModel",
          "model_module_version": "1.2.0",
          "state": {
            "_model_module": "@jupyter-widgets/base",
            "_model_module_version": "1.2.0",
            "_model_name": "LayoutModel",
            "_view_count": null,
            "_view_module": "@jupyter-widgets/base",
            "_view_module_version": "1.2.0",
            "_view_name": "LayoutView",
            "align_content": null,
            "align_items": null,
            "align_self": null,
            "border": null,
            "bottom": null,
            "display": null,
            "flex": null,
            "flex_flow": null,
            "grid_area": null,
            "grid_auto_columns": null,
            "grid_auto_flow": null,
            "grid_auto_rows": null,
            "grid_column": null,
            "grid_gap": null,
            "grid_row": null,
            "grid_template_areas": null,
            "grid_template_columns": null,
            "grid_template_rows": null,
            "height": null,
            "justify_content": null,
            "justify_items": null,
            "left": null,
            "margin": null,
            "max_height": null,
            "max_width": null,
            "min_height": null,
            "min_width": null,
            "object_fit": null,
            "object_position": null,
            "order": null,
            "overflow": null,
            "overflow_x": null,
            "overflow_y": null,
            "padding": null,
            "right": null,
            "top": null,
            "visibility": null,
            "width": null
          }
        },
        "ccc7da5f4f79419cbb8384311d6d5877": {
          "model_module": "@jupyter-widgets/controls",
          "model_name": "DescriptionStyleModel",
          "model_module_version": "1.5.0",
          "state": {
            "_model_module": "@jupyter-widgets/controls",
            "_model_module_version": "1.5.0",
            "_model_name": "DescriptionStyleModel",
            "_view_count": null,
            "_view_module": "@jupyter-widgets/base",
            "_view_module_version": "1.2.0",
            "_view_name": "StyleView",
            "description_width": ""
          }
        },
        "885769e8301c45a8bee5e0f3091af8fe": {
          "model_module": "@jupyter-widgets/controls",
          "model_name": "VBoxModel",
          "model_module_version": "1.5.0",
          "state": {
            "_dom_classes": [],
            "_model_module": "@jupyter-widgets/controls",
            "_model_module_version": "1.5.0",
            "_model_name": "VBoxModel",
            "_view_count": null,
            "_view_module": "@jupyter-widgets/controls",
            "_view_module_version": "1.5.0",
            "_view_name": "VBoxView",
            "box_style": "",
            "children": [
              "IPY_MODEL_3ac9d9c2160d47fb88da2bd74e19e48f",
              "IPY_MODEL_8332a4bbe7a94bff8cc6529145011fc7"
            ],
            "layout": "IPY_MODEL_bfa05c111ddf45278f269d80808903ed"
          }
        },
        "3ac9d9c2160d47fb88da2bd74e19e48f": {
          "model_module": "@jupyter-widgets/controls",
          "model_name": "LabelModel",
          "model_module_version": "1.5.0",
          "state": {
            "_dom_classes": [],
            "_model_module": "@jupyter-widgets/controls",
            "_model_module_version": "1.5.0",
            "_model_name": "LabelModel",
            "_view_count": null,
            "_view_module": "@jupyter-widgets/controls",
            "_view_module_version": "1.5.0",
            "_view_name": "LabelView",
            "description": "",
            "description_tooltip": null,
            "layout": "IPY_MODEL_f34723a9ede640cb8ab22654f6d6e4e5",
            "placeholder": "​",
            "style": "IPY_MODEL_1f4c6096f9824b49a326ee8a2484c23f",
            "value": "0.026 MB of 0.026 MB uploaded\r"
          }
        },
        "8332a4bbe7a94bff8cc6529145011fc7": {
          "model_module": "@jupyter-widgets/controls",
          "model_name": "FloatProgressModel",
          "model_module_version": "1.5.0",
          "state": {
            "_dom_classes": [],
            "_model_module": "@jupyter-widgets/controls",
            "_model_module_version": "1.5.0",
            "_model_name": "FloatProgressModel",
            "_view_count": null,
            "_view_module": "@jupyter-widgets/controls",
            "_view_module_version": "1.5.0",
            "_view_name": "ProgressView",
            "bar_style": "",
            "description": "",
            "description_tooltip": null,
            "layout": "IPY_MODEL_24975d3eafbf4be9bc614ee8e89028e5",
            "max": 1,
            "min": 0,
            "orientation": "horizontal",
            "style": "IPY_MODEL_afc7436c5e804d3c9613f302fa4585dc",
            "value": 1
          }
        },
        "bfa05c111ddf45278f269d80808903ed": {
          "model_module": "@jupyter-widgets/base",
          "model_name": "LayoutModel",
          "model_module_version": "1.2.0",
          "state": {
            "_model_module": "@jupyter-widgets/base",
            "_model_module_version": "1.2.0",
            "_model_name": "LayoutModel",
            "_view_count": null,
            "_view_module": "@jupyter-widgets/base",
            "_view_module_version": "1.2.0",
            "_view_name": "LayoutView",
            "align_content": null,
            "align_items": null,
            "align_self": null,
            "border": null,
            "bottom": null,
            "display": null,
            "flex": null,
            "flex_flow": null,
            "grid_area": null,
            "grid_auto_columns": null,
            "grid_auto_flow": null,
            "grid_auto_rows": null,
            "grid_column": null,
            "grid_gap": null,
            "grid_row": null,
            "grid_template_areas": null,
            "grid_template_columns": null,
            "grid_template_rows": null,
            "height": null,
            "justify_content": null,
            "justify_items": null,
            "left": null,
            "margin": null,
            "max_height": null,
            "max_width": null,
            "min_height": null,
            "min_width": null,
            "object_fit": null,
            "object_position": null,
            "order": null,
            "overflow": null,
            "overflow_x": null,
            "overflow_y": null,
            "padding": null,
            "right": null,
            "top": null,
            "visibility": null,
            "width": null
          }
        },
        "f34723a9ede640cb8ab22654f6d6e4e5": {
          "model_module": "@jupyter-widgets/base",
          "model_name": "LayoutModel",
          "model_module_version": "1.2.0",
          "state": {
            "_model_module": "@jupyter-widgets/base",
            "_model_module_version": "1.2.0",
            "_model_name": "LayoutModel",
            "_view_count": null,
            "_view_module": "@jupyter-widgets/base",
            "_view_module_version": "1.2.0",
            "_view_name": "LayoutView",
            "align_content": null,
            "align_items": null,
            "align_self": null,
            "border": null,
            "bottom": null,
            "display": null,
            "flex": null,
            "flex_flow": null,
            "grid_area": null,
            "grid_auto_columns": null,
            "grid_auto_flow": null,
            "grid_auto_rows": null,
            "grid_column": null,
            "grid_gap": null,
            "grid_row": null,
            "grid_template_areas": null,
            "grid_template_columns": null,
            "grid_template_rows": null,
            "height": null,
            "justify_content": null,
            "justify_items": null,
            "left": null,
            "margin": null,
            "max_height": null,
            "max_width": null,
            "min_height": null,
            "min_width": null,
            "object_fit": null,
            "object_position": null,
            "order": null,
            "overflow": null,
            "overflow_x": null,
            "overflow_y": null,
            "padding": null,
            "right": null,
            "top": null,
            "visibility": null,
            "width": null
          }
        },
        "1f4c6096f9824b49a326ee8a2484c23f": {
          "model_module": "@jupyter-widgets/controls",
          "model_name": "DescriptionStyleModel",
          "model_module_version": "1.5.0",
          "state": {
            "_model_module": "@jupyter-widgets/controls",
            "_model_module_version": "1.5.0",
            "_model_name": "DescriptionStyleModel",
            "_view_count": null,
            "_view_module": "@jupyter-widgets/base",
            "_view_module_version": "1.2.0",
            "_view_name": "StyleView",
            "description_width": ""
          }
        },
        "24975d3eafbf4be9bc614ee8e89028e5": {
          "model_module": "@jupyter-widgets/base",
          "model_name": "LayoutModel",
          "model_module_version": "1.2.0",
          "state": {
            "_model_module": "@jupyter-widgets/base",
            "_model_module_version": "1.2.0",
            "_model_name": "LayoutModel",
            "_view_count": null,
            "_view_module": "@jupyter-widgets/base",
            "_view_module_version": "1.2.0",
            "_view_name": "LayoutView",
            "align_content": null,
            "align_items": null,
            "align_self": null,
            "border": null,
            "bottom": null,
            "display": null,
            "flex": null,
            "flex_flow": null,
            "grid_area": null,
            "grid_auto_columns": null,
            "grid_auto_flow": null,
            "grid_auto_rows": null,
            "grid_column": null,
            "grid_gap": null,
            "grid_row": null,
            "grid_template_areas": null,
            "grid_template_columns": null,
            "grid_template_rows": null,
            "height": null,
            "justify_content": null,
            "justify_items": null,
            "left": null,
            "margin": null,
            "max_height": null,
            "max_width": null,
            "min_height": null,
            "min_width": null,
            "object_fit": null,
            "object_position": null,
            "order": null,
            "overflow": null,
            "overflow_x": null,
            "overflow_y": null,
            "padding": null,
            "right": null,
            "top": null,
            "visibility": null,
            "width": null
          }
        },
        "afc7436c5e804d3c9613f302fa4585dc": {
          "model_module": "@jupyter-widgets/controls",
          "model_name": "ProgressStyleModel",
          "model_module_version": "1.5.0",
          "state": {
            "_model_module": "@jupyter-widgets/controls",
            "_model_module_version": "1.5.0",
            "_model_name": "ProgressStyleModel",
            "_view_count": null,
            "_view_module": "@jupyter-widgets/base",
            "_view_module_version": "1.2.0",
            "_view_name": "StyleView",
            "bar_color": null,
            "description_width": ""
          }
        },
        "a249fa8dc886441995db4138f316225a": {
          "model_module": "@jupyter-widgets/controls",
          "model_name": "VBoxModel",
          "model_module_version": "1.5.0",
          "state": {
            "_dom_classes": [],
            "_model_module": "@jupyter-widgets/controls",
            "_model_module_version": "1.5.0",
            "_model_name": "VBoxModel",
            "_view_count": null,
            "_view_module": "@jupyter-widgets/controls",
            "_view_module_version": "1.5.0",
            "_view_name": "VBoxView",
            "box_style": "",
            "children": [
              "IPY_MODEL_6e4ec4d3cc5c4036a2d349d3e5437691",
              "IPY_MODEL_44e84c8a63754e10b5d75412cac1b044"
            ],
            "layout": "IPY_MODEL_7cbfce0633c447d8a428167102913d5e"
          }
        },
        "6e4ec4d3cc5c4036a2d349d3e5437691": {
          "model_module": "@jupyter-widgets/controls",
          "model_name": "LabelModel",
          "model_module_version": "1.5.0",
          "state": {
            "_dom_classes": [],
            "_model_module": "@jupyter-widgets/controls",
            "_model_module_version": "1.5.0",
            "_model_name": "LabelModel",
            "_view_count": null,
            "_view_module": "@jupyter-widgets/controls",
            "_view_module_version": "1.5.0",
            "_view_name": "LabelView",
            "description": "",
            "description_tooltip": null,
            "layout": "IPY_MODEL_8d6a9ffb14674efeb11b30329b98c3be",
            "placeholder": "​",
            "style": "IPY_MODEL_e01f5db0946e44a39b6d2b746ee1a0f2",
            "value": "0.024 MB of 0.024 MB uploaded\r"
          }
        },
        "44e84c8a63754e10b5d75412cac1b044": {
          "model_module": "@jupyter-widgets/controls",
          "model_name": "FloatProgressModel",
          "model_module_version": "1.5.0",
          "state": {
            "_dom_classes": [],
            "_model_module": "@jupyter-widgets/controls",
            "_model_module_version": "1.5.0",
            "_model_name": "FloatProgressModel",
            "_view_count": null,
            "_view_module": "@jupyter-widgets/controls",
            "_view_module_version": "1.5.0",
            "_view_name": "ProgressView",
            "bar_style": "",
            "description": "",
            "description_tooltip": null,
            "layout": "IPY_MODEL_296c7f7654b34e89a7af829732fe5222",
            "max": 1,
            "min": 0,
            "orientation": "horizontal",
            "style": "IPY_MODEL_362a77b3b9cd4f079ced3fcb69bcbcc9",
            "value": 1
          }
        },
        "7cbfce0633c447d8a428167102913d5e": {
          "model_module": "@jupyter-widgets/base",
          "model_name": "LayoutModel",
          "model_module_version": "1.2.0",
          "state": {
            "_model_module": "@jupyter-widgets/base",
            "_model_module_version": "1.2.0",
            "_model_name": "LayoutModel",
            "_view_count": null,
            "_view_module": "@jupyter-widgets/base",
            "_view_module_version": "1.2.0",
            "_view_name": "LayoutView",
            "align_content": null,
            "align_items": null,
            "align_self": null,
            "border": null,
            "bottom": null,
            "display": null,
            "flex": null,
            "flex_flow": null,
            "grid_area": null,
            "grid_auto_columns": null,
            "grid_auto_flow": null,
            "grid_auto_rows": null,
            "grid_column": null,
            "grid_gap": null,
            "grid_row": null,
            "grid_template_areas": null,
            "grid_template_columns": null,
            "grid_template_rows": null,
            "height": null,
            "justify_content": null,
            "justify_items": null,
            "left": null,
            "margin": null,
            "max_height": null,
            "max_width": null,
            "min_height": null,
            "min_width": null,
            "object_fit": null,
            "object_position": null,
            "order": null,
            "overflow": null,
            "overflow_x": null,
            "overflow_y": null,
            "padding": null,
            "right": null,
            "top": null,
            "visibility": null,
            "width": null
          }
        },
        "8d6a9ffb14674efeb11b30329b98c3be": {
          "model_module": "@jupyter-widgets/base",
          "model_name": "LayoutModel",
          "model_module_version": "1.2.0",
          "state": {
            "_model_module": "@jupyter-widgets/base",
            "_model_module_version": "1.2.0",
            "_model_name": "LayoutModel",
            "_view_count": null,
            "_view_module": "@jupyter-widgets/base",
            "_view_module_version": "1.2.0",
            "_view_name": "LayoutView",
            "align_content": null,
            "align_items": null,
            "align_self": null,
            "border": null,
            "bottom": null,
            "display": null,
            "flex": null,
            "flex_flow": null,
            "grid_area": null,
            "grid_auto_columns": null,
            "grid_auto_flow": null,
            "grid_auto_rows": null,
            "grid_column": null,
            "grid_gap": null,
            "grid_row": null,
            "grid_template_areas": null,
            "grid_template_columns": null,
            "grid_template_rows": null,
            "height": null,
            "justify_content": null,
            "justify_items": null,
            "left": null,
            "margin": null,
            "max_height": null,
            "max_width": null,
            "min_height": null,
            "min_width": null,
            "object_fit": null,
            "object_position": null,
            "order": null,
            "overflow": null,
            "overflow_x": null,
            "overflow_y": null,
            "padding": null,
            "right": null,
            "top": null,
            "visibility": null,
            "width": null
          }
        },
        "e01f5db0946e44a39b6d2b746ee1a0f2": {
          "model_module": "@jupyter-widgets/controls",
          "model_name": "DescriptionStyleModel",
          "model_module_version": "1.5.0",
          "state": {
            "_model_module": "@jupyter-widgets/controls",
            "_model_module_version": "1.5.0",
            "_model_name": "DescriptionStyleModel",
            "_view_count": null,
            "_view_module": "@jupyter-widgets/base",
            "_view_module_version": "1.2.0",
            "_view_name": "StyleView",
            "description_width": ""
          }
        },
        "296c7f7654b34e89a7af829732fe5222": {
          "model_module": "@jupyter-widgets/base",
          "model_name": "LayoutModel",
          "model_module_version": "1.2.0",
          "state": {
            "_model_module": "@jupyter-widgets/base",
            "_model_module_version": "1.2.0",
            "_model_name": "LayoutModel",
            "_view_count": null,
            "_view_module": "@jupyter-widgets/base",
            "_view_module_version": "1.2.0",
            "_view_name": "LayoutView",
            "align_content": null,
            "align_items": null,
            "align_self": null,
            "border": null,
            "bottom": null,
            "display": null,
            "flex": null,
            "flex_flow": null,
            "grid_area": null,
            "grid_auto_columns": null,
            "grid_auto_flow": null,
            "grid_auto_rows": null,
            "grid_column": null,
            "grid_gap": null,
            "grid_row": null,
            "grid_template_areas": null,
            "grid_template_columns": null,
            "grid_template_rows": null,
            "height": null,
            "justify_content": null,
            "justify_items": null,
            "left": null,
            "margin": null,
            "max_height": null,
            "max_width": null,
            "min_height": null,
            "min_width": null,
            "object_fit": null,
            "object_position": null,
            "order": null,
            "overflow": null,
            "overflow_x": null,
            "overflow_y": null,
            "padding": null,
            "right": null,
            "top": null,
            "visibility": null,
            "width": null
          }
        },
        "362a77b3b9cd4f079ced3fcb69bcbcc9": {
          "model_module": "@jupyter-widgets/controls",
          "model_name": "ProgressStyleModel",
          "model_module_version": "1.5.0",
          "state": {
            "_model_module": "@jupyter-widgets/controls",
            "_model_module_version": "1.5.0",
            "_model_name": "ProgressStyleModel",
            "_view_count": null,
            "_view_module": "@jupyter-widgets/base",
            "_view_module_version": "1.2.0",
            "_view_name": "StyleView",
            "bar_color": null,
            "description_width": ""
          }
        },
        "21f6c790e93a4dcab05cb1255a1a7e0f": {
          "model_module": "@jupyter-widgets/controls",
          "model_name": "VBoxModel",
          "model_module_version": "1.5.0",
          "state": {
            "_dom_classes": [],
            "_model_module": "@jupyter-widgets/controls",
            "_model_module_version": "1.5.0",
            "_model_name": "VBoxModel",
            "_view_count": null,
            "_view_module": "@jupyter-widgets/controls",
            "_view_module_version": "1.5.0",
            "_view_name": "VBoxView",
            "box_style": "",
            "children": [
              "IPY_MODEL_6298d9252d374b7db02194725c7f741d",
              "IPY_MODEL_ae52553b276b4715a73e8e1768caa4d0"
            ],
            "layout": "IPY_MODEL_87d2ba43f54340c8bf55ee4a2045f784"
          }
        },
        "6298d9252d374b7db02194725c7f741d": {
          "model_module": "@jupyter-widgets/controls",
          "model_name": "LabelModel",
          "model_module_version": "1.5.0",
          "state": {
            "_dom_classes": [],
            "_model_module": "@jupyter-widgets/controls",
            "_model_module_version": "1.5.0",
            "_model_name": "LabelModel",
            "_view_count": null,
            "_view_module": "@jupyter-widgets/controls",
            "_view_module_version": "1.5.0",
            "_view_name": "LabelView",
            "description": "",
            "description_tooltip": null,
            "layout": "IPY_MODEL_35f60b69b271447c86923ef606aaf440",
            "placeholder": "​",
            "style": "IPY_MODEL_a6c01cc83a584210adc4ac99fa1c9dc6",
            "value": "0.024 MB of 0.024 MB uploaded\r"
          }
        },
        "ae52553b276b4715a73e8e1768caa4d0": {
          "model_module": "@jupyter-widgets/controls",
          "model_name": "FloatProgressModel",
          "model_module_version": "1.5.0",
          "state": {
            "_dom_classes": [],
            "_model_module": "@jupyter-widgets/controls",
            "_model_module_version": "1.5.0",
            "_model_name": "FloatProgressModel",
            "_view_count": null,
            "_view_module": "@jupyter-widgets/controls",
            "_view_module_version": "1.5.0",
            "_view_name": "ProgressView",
            "bar_style": "",
            "description": "",
            "description_tooltip": null,
            "layout": "IPY_MODEL_12a8f2bfb0444234a257eb589ca26bfd",
            "max": 1,
            "min": 0,
            "orientation": "horizontal",
            "style": "IPY_MODEL_eb0f385fff1f412f9e327dc09d2b60e2",
            "value": 1
          }
        },
        "87d2ba43f54340c8bf55ee4a2045f784": {
          "model_module": "@jupyter-widgets/base",
          "model_name": "LayoutModel",
          "model_module_version": "1.2.0",
          "state": {
            "_model_module": "@jupyter-widgets/base",
            "_model_module_version": "1.2.0",
            "_model_name": "LayoutModel",
            "_view_count": null,
            "_view_module": "@jupyter-widgets/base",
            "_view_module_version": "1.2.0",
            "_view_name": "LayoutView",
            "align_content": null,
            "align_items": null,
            "align_self": null,
            "border": null,
            "bottom": null,
            "display": null,
            "flex": null,
            "flex_flow": null,
            "grid_area": null,
            "grid_auto_columns": null,
            "grid_auto_flow": null,
            "grid_auto_rows": null,
            "grid_column": null,
            "grid_gap": null,
            "grid_row": null,
            "grid_template_areas": null,
            "grid_template_columns": null,
            "grid_template_rows": null,
            "height": null,
            "justify_content": null,
            "justify_items": null,
            "left": null,
            "margin": null,
            "max_height": null,
            "max_width": null,
            "min_height": null,
            "min_width": null,
            "object_fit": null,
            "object_position": null,
            "order": null,
            "overflow": null,
            "overflow_x": null,
            "overflow_y": null,
            "padding": null,
            "right": null,
            "top": null,
            "visibility": null,
            "width": null
          }
        },
        "35f60b69b271447c86923ef606aaf440": {
          "model_module": "@jupyter-widgets/base",
          "model_name": "LayoutModel",
          "model_module_version": "1.2.0",
          "state": {
            "_model_module": "@jupyter-widgets/base",
            "_model_module_version": "1.2.0",
            "_model_name": "LayoutModel",
            "_view_count": null,
            "_view_module": "@jupyter-widgets/base",
            "_view_module_version": "1.2.0",
            "_view_name": "LayoutView",
            "align_content": null,
            "align_items": null,
            "align_self": null,
            "border": null,
            "bottom": null,
            "display": null,
            "flex": null,
            "flex_flow": null,
            "grid_area": null,
            "grid_auto_columns": null,
            "grid_auto_flow": null,
            "grid_auto_rows": null,
            "grid_column": null,
            "grid_gap": null,
            "grid_row": null,
            "grid_template_areas": null,
            "grid_template_columns": null,
            "grid_template_rows": null,
            "height": null,
            "justify_content": null,
            "justify_items": null,
            "left": null,
            "margin": null,
            "max_height": null,
            "max_width": null,
            "min_height": null,
            "min_width": null,
            "object_fit": null,
            "object_position": null,
            "order": null,
            "overflow": null,
            "overflow_x": null,
            "overflow_y": null,
            "padding": null,
            "right": null,
            "top": null,
            "visibility": null,
            "width": null
          }
        },
        "a6c01cc83a584210adc4ac99fa1c9dc6": {
          "model_module": "@jupyter-widgets/controls",
          "model_name": "DescriptionStyleModel",
          "model_module_version": "1.5.0",
          "state": {
            "_model_module": "@jupyter-widgets/controls",
            "_model_module_version": "1.5.0",
            "_model_name": "DescriptionStyleModel",
            "_view_count": null,
            "_view_module": "@jupyter-widgets/base",
            "_view_module_version": "1.2.0",
            "_view_name": "StyleView",
            "description_width": ""
          }
        },
        "12a8f2bfb0444234a257eb589ca26bfd": {
          "model_module": "@jupyter-widgets/base",
          "model_name": "LayoutModel",
          "model_module_version": "1.2.0",
          "state": {
            "_model_module": "@jupyter-widgets/base",
            "_model_module_version": "1.2.0",
            "_model_name": "LayoutModel",
            "_view_count": null,
            "_view_module": "@jupyter-widgets/base",
            "_view_module_version": "1.2.0",
            "_view_name": "LayoutView",
            "align_content": null,
            "align_items": null,
            "align_self": null,
            "border": null,
            "bottom": null,
            "display": null,
            "flex": null,
            "flex_flow": null,
            "grid_area": null,
            "grid_auto_columns": null,
            "grid_auto_flow": null,
            "grid_auto_rows": null,
            "grid_column": null,
            "grid_gap": null,
            "grid_row": null,
            "grid_template_areas": null,
            "grid_template_columns": null,
            "grid_template_rows": null,
            "height": null,
            "justify_content": null,
            "justify_items": null,
            "left": null,
            "margin": null,
            "max_height": null,
            "max_width": null,
            "min_height": null,
            "min_width": null,
            "object_fit": null,
            "object_position": null,
            "order": null,
            "overflow": null,
            "overflow_x": null,
            "overflow_y": null,
            "padding": null,
            "right": null,
            "top": null,
            "visibility": null,
            "width": null
          }
        },
        "eb0f385fff1f412f9e327dc09d2b60e2": {
          "model_module": "@jupyter-widgets/controls",
          "model_name": "ProgressStyleModel",
          "model_module_version": "1.5.0",
          "state": {
            "_model_module": "@jupyter-widgets/controls",
            "_model_module_version": "1.5.0",
            "_model_name": "ProgressStyleModel",
            "_view_count": null,
            "_view_module": "@jupyter-widgets/base",
            "_view_module_version": "1.2.0",
            "_view_name": "StyleView",
            "bar_color": null,
            "description_width": ""
          }
        },
        "97431c4a7895466caec147758bb6afc1": {
          "model_module": "@jupyter-widgets/controls",
          "model_name": "VBoxModel",
          "model_module_version": "1.5.0",
          "state": {
            "_dom_classes": [],
            "_model_module": "@jupyter-widgets/controls",
            "_model_module_version": "1.5.0",
            "_model_name": "VBoxModel",
            "_view_count": null,
            "_view_module": "@jupyter-widgets/controls",
            "_view_module_version": "1.5.0",
            "_view_name": "VBoxView",
            "box_style": "",
            "children": [
              "IPY_MODEL_2634ee79b32141b5bb761e04f953f86e",
              "IPY_MODEL_c935f2441ba54010a578b8cecc906cff"
            ],
            "layout": "IPY_MODEL_ea039547522c4b3c876e557ac9415281"
          }
        },
        "2634ee79b32141b5bb761e04f953f86e": {
          "model_module": "@jupyter-widgets/controls",
          "model_name": "LabelModel",
          "model_module_version": "1.5.0",
          "state": {
            "_dom_classes": [],
            "_model_module": "@jupyter-widgets/controls",
            "_model_module_version": "1.5.0",
            "_model_name": "LabelModel",
            "_view_count": null,
            "_view_module": "@jupyter-widgets/controls",
            "_view_module_version": "1.5.0",
            "_view_name": "LabelView",
            "description": "",
            "description_tooltip": null,
            "layout": "IPY_MODEL_9ef1c9ab341742d4aefae6387528a89f",
            "placeholder": "​",
            "style": "IPY_MODEL_9f88c3cfb34147ea9f8d528a3c5ab052",
            "value": "0.024 MB of 0.024 MB uploaded\r"
          }
        },
        "c935f2441ba54010a578b8cecc906cff": {
          "model_module": "@jupyter-widgets/controls",
          "model_name": "FloatProgressModel",
          "model_module_version": "1.5.0",
          "state": {
            "_dom_classes": [],
            "_model_module": "@jupyter-widgets/controls",
            "_model_module_version": "1.5.0",
            "_model_name": "FloatProgressModel",
            "_view_count": null,
            "_view_module": "@jupyter-widgets/controls",
            "_view_module_version": "1.5.0",
            "_view_name": "ProgressView",
            "bar_style": "",
            "description": "",
            "description_tooltip": null,
            "layout": "IPY_MODEL_d14eb8b5d38340baa69191a64d5578d1",
            "max": 1,
            "min": 0,
            "orientation": "horizontal",
            "style": "IPY_MODEL_ee400630bbbc4d8eb63ced0e1ab67910",
            "value": 1
          }
        },
        "ea039547522c4b3c876e557ac9415281": {
          "model_module": "@jupyter-widgets/base",
          "model_name": "LayoutModel",
          "model_module_version": "1.2.0",
          "state": {
            "_model_module": "@jupyter-widgets/base",
            "_model_module_version": "1.2.0",
            "_model_name": "LayoutModel",
            "_view_count": null,
            "_view_module": "@jupyter-widgets/base",
            "_view_module_version": "1.2.0",
            "_view_name": "LayoutView",
            "align_content": null,
            "align_items": null,
            "align_self": null,
            "border": null,
            "bottom": null,
            "display": null,
            "flex": null,
            "flex_flow": null,
            "grid_area": null,
            "grid_auto_columns": null,
            "grid_auto_flow": null,
            "grid_auto_rows": null,
            "grid_column": null,
            "grid_gap": null,
            "grid_row": null,
            "grid_template_areas": null,
            "grid_template_columns": null,
            "grid_template_rows": null,
            "height": null,
            "justify_content": null,
            "justify_items": null,
            "left": null,
            "margin": null,
            "max_height": null,
            "max_width": null,
            "min_height": null,
            "min_width": null,
            "object_fit": null,
            "object_position": null,
            "order": null,
            "overflow": null,
            "overflow_x": null,
            "overflow_y": null,
            "padding": null,
            "right": null,
            "top": null,
            "visibility": null,
            "width": null
          }
        },
        "9ef1c9ab341742d4aefae6387528a89f": {
          "model_module": "@jupyter-widgets/base",
          "model_name": "LayoutModel",
          "model_module_version": "1.2.0",
          "state": {
            "_model_module": "@jupyter-widgets/base",
            "_model_module_version": "1.2.0",
            "_model_name": "LayoutModel",
            "_view_count": null,
            "_view_module": "@jupyter-widgets/base",
            "_view_module_version": "1.2.0",
            "_view_name": "LayoutView",
            "align_content": null,
            "align_items": null,
            "align_self": null,
            "border": null,
            "bottom": null,
            "display": null,
            "flex": null,
            "flex_flow": null,
            "grid_area": null,
            "grid_auto_columns": null,
            "grid_auto_flow": null,
            "grid_auto_rows": null,
            "grid_column": null,
            "grid_gap": null,
            "grid_row": null,
            "grid_template_areas": null,
            "grid_template_columns": null,
            "grid_template_rows": null,
            "height": null,
            "justify_content": null,
            "justify_items": null,
            "left": null,
            "margin": null,
            "max_height": null,
            "max_width": null,
            "min_height": null,
            "min_width": null,
            "object_fit": null,
            "object_position": null,
            "order": null,
            "overflow": null,
            "overflow_x": null,
            "overflow_y": null,
            "padding": null,
            "right": null,
            "top": null,
            "visibility": null,
            "width": null
          }
        },
        "9f88c3cfb34147ea9f8d528a3c5ab052": {
          "model_module": "@jupyter-widgets/controls",
          "model_name": "DescriptionStyleModel",
          "model_module_version": "1.5.0",
          "state": {
            "_model_module": "@jupyter-widgets/controls",
            "_model_module_version": "1.5.0",
            "_model_name": "DescriptionStyleModel",
            "_view_count": null,
            "_view_module": "@jupyter-widgets/base",
            "_view_module_version": "1.2.0",
            "_view_name": "StyleView",
            "description_width": ""
          }
        },
        "d14eb8b5d38340baa69191a64d5578d1": {
          "model_module": "@jupyter-widgets/base",
          "model_name": "LayoutModel",
          "model_module_version": "1.2.0",
          "state": {
            "_model_module": "@jupyter-widgets/base",
            "_model_module_version": "1.2.0",
            "_model_name": "LayoutModel",
            "_view_count": null,
            "_view_module": "@jupyter-widgets/base",
            "_view_module_version": "1.2.0",
            "_view_name": "LayoutView",
            "align_content": null,
            "align_items": null,
            "align_self": null,
            "border": null,
            "bottom": null,
            "display": null,
            "flex": null,
            "flex_flow": null,
            "grid_area": null,
            "grid_auto_columns": null,
            "grid_auto_flow": null,
            "grid_auto_rows": null,
            "grid_column": null,
            "grid_gap": null,
            "grid_row": null,
            "grid_template_areas": null,
            "grid_template_columns": null,
            "grid_template_rows": null,
            "height": null,
            "justify_content": null,
            "justify_items": null,
            "left": null,
            "margin": null,
            "max_height": null,
            "max_width": null,
            "min_height": null,
            "min_width": null,
            "object_fit": null,
            "object_position": null,
            "order": null,
            "overflow": null,
            "overflow_x": null,
            "overflow_y": null,
            "padding": null,
            "right": null,
            "top": null,
            "visibility": null,
            "width": null
          }
        },
        "ee400630bbbc4d8eb63ced0e1ab67910": {
          "model_module": "@jupyter-widgets/controls",
          "model_name": "ProgressStyleModel",
          "model_module_version": "1.5.0",
          "state": {
            "_model_module": "@jupyter-widgets/controls",
            "_model_module_version": "1.5.0",
            "_model_name": "ProgressStyleModel",
            "_view_count": null,
            "_view_module": "@jupyter-widgets/base",
            "_view_module_version": "1.2.0",
            "_view_name": "StyleView",
            "bar_color": null,
            "description_width": ""
          }
        },
        "eb63fd72e503478ba60b47ae5c327fea": {
          "model_module": "@jupyter-widgets/controls",
          "model_name": "VBoxModel",
          "model_module_version": "1.5.0",
          "state": {
            "_dom_classes": [],
            "_model_module": "@jupyter-widgets/controls",
            "_model_module_version": "1.5.0",
            "_model_name": "VBoxModel",
            "_view_count": null,
            "_view_module": "@jupyter-widgets/controls",
            "_view_module_version": "1.5.0",
            "_view_name": "VBoxView",
            "box_style": "",
            "children": [
              "IPY_MODEL_1aed54ee90d441e98a220c99af3afb65",
              "IPY_MODEL_40eefc5dcdcd46529e7869686ff3d4d5"
            ],
            "layout": "IPY_MODEL_25b496dc63bb498aafa66880d1d9f602"
          }
        },
        "1aed54ee90d441e98a220c99af3afb65": {
          "model_module": "@jupyter-widgets/controls",
          "model_name": "LabelModel",
          "model_module_version": "1.5.0",
          "state": {
            "_dom_classes": [],
            "_model_module": "@jupyter-widgets/controls",
            "_model_module_version": "1.5.0",
            "_model_name": "LabelModel",
            "_view_count": null,
            "_view_module": "@jupyter-widgets/controls",
            "_view_module_version": "1.5.0",
            "_view_name": "LabelView",
            "description": "",
            "description_tooltip": null,
            "layout": "IPY_MODEL_9d798ead8c344b2eadfd5a6231d607db",
            "placeholder": "​",
            "style": "IPY_MODEL_55796ffc811c4daba0a0c76a2b93716e",
            "value": "0.024 MB of 0.024 MB uploaded\r"
          }
        },
        "40eefc5dcdcd46529e7869686ff3d4d5": {
          "model_module": "@jupyter-widgets/controls",
          "model_name": "FloatProgressModel",
          "model_module_version": "1.5.0",
          "state": {
            "_dom_classes": [],
            "_model_module": "@jupyter-widgets/controls",
            "_model_module_version": "1.5.0",
            "_model_name": "FloatProgressModel",
            "_view_count": null,
            "_view_module": "@jupyter-widgets/controls",
            "_view_module_version": "1.5.0",
            "_view_name": "ProgressView",
            "bar_style": "",
            "description": "",
            "description_tooltip": null,
            "layout": "IPY_MODEL_c6d4a94fc23148ad9fa6c4a50e1751aa",
            "max": 1,
            "min": 0,
            "orientation": "horizontal",
            "style": "IPY_MODEL_1802234fb6194b808ea75ffcc63c40fa",
            "value": 1
          }
        },
        "25b496dc63bb498aafa66880d1d9f602": {
          "model_module": "@jupyter-widgets/base",
          "model_name": "LayoutModel",
          "model_module_version": "1.2.0",
          "state": {
            "_model_module": "@jupyter-widgets/base",
            "_model_module_version": "1.2.0",
            "_model_name": "LayoutModel",
            "_view_count": null,
            "_view_module": "@jupyter-widgets/base",
            "_view_module_version": "1.2.0",
            "_view_name": "LayoutView",
            "align_content": null,
            "align_items": null,
            "align_self": null,
            "border": null,
            "bottom": null,
            "display": null,
            "flex": null,
            "flex_flow": null,
            "grid_area": null,
            "grid_auto_columns": null,
            "grid_auto_flow": null,
            "grid_auto_rows": null,
            "grid_column": null,
            "grid_gap": null,
            "grid_row": null,
            "grid_template_areas": null,
            "grid_template_columns": null,
            "grid_template_rows": null,
            "height": null,
            "justify_content": null,
            "justify_items": null,
            "left": null,
            "margin": null,
            "max_height": null,
            "max_width": null,
            "min_height": null,
            "min_width": null,
            "object_fit": null,
            "object_position": null,
            "order": null,
            "overflow": null,
            "overflow_x": null,
            "overflow_y": null,
            "padding": null,
            "right": null,
            "top": null,
            "visibility": null,
            "width": null
          }
        },
        "9d798ead8c344b2eadfd5a6231d607db": {
          "model_module": "@jupyter-widgets/base",
          "model_name": "LayoutModel",
          "model_module_version": "1.2.0",
          "state": {
            "_model_module": "@jupyter-widgets/base",
            "_model_module_version": "1.2.0",
            "_model_name": "LayoutModel",
            "_view_count": null,
            "_view_module": "@jupyter-widgets/base",
            "_view_module_version": "1.2.0",
            "_view_name": "LayoutView",
            "align_content": null,
            "align_items": null,
            "align_self": null,
            "border": null,
            "bottom": null,
            "display": null,
            "flex": null,
            "flex_flow": null,
            "grid_area": null,
            "grid_auto_columns": null,
            "grid_auto_flow": null,
            "grid_auto_rows": null,
            "grid_column": null,
            "grid_gap": null,
            "grid_row": null,
            "grid_template_areas": null,
            "grid_template_columns": null,
            "grid_template_rows": null,
            "height": null,
            "justify_content": null,
            "justify_items": null,
            "left": null,
            "margin": null,
            "max_height": null,
            "max_width": null,
            "min_height": null,
            "min_width": null,
            "object_fit": null,
            "object_position": null,
            "order": null,
            "overflow": null,
            "overflow_x": null,
            "overflow_y": null,
            "padding": null,
            "right": null,
            "top": null,
            "visibility": null,
            "width": null
          }
        },
        "55796ffc811c4daba0a0c76a2b93716e": {
          "model_module": "@jupyter-widgets/controls",
          "model_name": "DescriptionStyleModel",
          "model_module_version": "1.5.0",
          "state": {
            "_model_module": "@jupyter-widgets/controls",
            "_model_module_version": "1.5.0",
            "_model_name": "DescriptionStyleModel",
            "_view_count": null,
            "_view_module": "@jupyter-widgets/base",
            "_view_module_version": "1.2.0",
            "_view_name": "StyleView",
            "description_width": ""
          }
        },
        "c6d4a94fc23148ad9fa6c4a50e1751aa": {
          "model_module": "@jupyter-widgets/base",
          "model_name": "LayoutModel",
          "model_module_version": "1.2.0",
          "state": {
            "_model_module": "@jupyter-widgets/base",
            "_model_module_version": "1.2.0",
            "_model_name": "LayoutModel",
            "_view_count": null,
            "_view_module": "@jupyter-widgets/base",
            "_view_module_version": "1.2.0",
            "_view_name": "LayoutView",
            "align_content": null,
            "align_items": null,
            "align_self": null,
            "border": null,
            "bottom": null,
            "display": null,
            "flex": null,
            "flex_flow": null,
            "grid_area": null,
            "grid_auto_columns": null,
            "grid_auto_flow": null,
            "grid_auto_rows": null,
            "grid_column": null,
            "grid_gap": null,
            "grid_row": null,
            "grid_template_areas": null,
            "grid_template_columns": null,
            "grid_template_rows": null,
            "height": null,
            "justify_content": null,
            "justify_items": null,
            "left": null,
            "margin": null,
            "max_height": null,
            "max_width": null,
            "min_height": null,
            "min_width": null,
            "object_fit": null,
            "object_position": null,
            "order": null,
            "overflow": null,
            "overflow_x": null,
            "overflow_y": null,
            "padding": null,
            "right": null,
            "top": null,
            "visibility": null,
            "width": null
          }
        },
        "1802234fb6194b808ea75ffcc63c40fa": {
          "model_module": "@jupyter-widgets/controls",
          "model_name": "ProgressStyleModel",
          "model_module_version": "1.5.0",
          "state": {
            "_model_module": "@jupyter-widgets/controls",
            "_model_module_version": "1.5.0",
            "_model_name": "ProgressStyleModel",
            "_view_count": null,
            "_view_module": "@jupyter-widgets/base",
            "_view_module_version": "1.2.0",
            "_view_name": "StyleView",
            "bar_color": null,
            "description_width": ""
          }
        },
        "b37de1a414714f5c94b4eb383cffcc72": {
          "model_module": "@jupyter-widgets/controls",
          "model_name": "VBoxModel",
          "model_module_version": "1.5.0",
          "state": {
            "_dom_classes": [],
            "_model_module": "@jupyter-widgets/controls",
            "_model_module_version": "1.5.0",
            "_model_name": "VBoxModel",
            "_view_count": null,
            "_view_module": "@jupyter-widgets/controls",
            "_view_module_version": "1.5.0",
            "_view_name": "VBoxView",
            "box_style": "",
            "children": [
              "IPY_MODEL_d5d0bdf924ec438a999d251f46342fa5",
              "IPY_MODEL_ed9cdfcd2e5744f380bbb24238d1a839"
            ],
            "layout": "IPY_MODEL_922dfce589884dd5b12b82829d19c3f8"
          }
        },
        "d5d0bdf924ec438a999d251f46342fa5": {
          "model_module": "@jupyter-widgets/controls",
          "model_name": "LabelModel",
          "model_module_version": "1.5.0",
          "state": {
            "_dom_classes": [],
            "_model_module": "@jupyter-widgets/controls",
            "_model_module_version": "1.5.0",
            "_model_name": "LabelModel",
            "_view_count": null,
            "_view_module": "@jupyter-widgets/controls",
            "_view_module_version": "1.5.0",
            "_view_name": "LabelView",
            "description": "",
            "description_tooltip": null,
            "layout": "IPY_MODEL_8f81a9ead0ca4eb69caa6883a09c1d41",
            "placeholder": "​",
            "style": "IPY_MODEL_c7c5bf179b514aaf883d6439df124e44",
            "value": "0.024 MB of 0.024 MB uploaded\r"
          }
        },
        "ed9cdfcd2e5744f380bbb24238d1a839": {
          "model_module": "@jupyter-widgets/controls",
          "model_name": "FloatProgressModel",
          "model_module_version": "1.5.0",
          "state": {
            "_dom_classes": [],
            "_model_module": "@jupyter-widgets/controls",
            "_model_module_version": "1.5.0",
            "_model_name": "FloatProgressModel",
            "_view_count": null,
            "_view_module": "@jupyter-widgets/controls",
            "_view_module_version": "1.5.0",
            "_view_name": "ProgressView",
            "bar_style": "",
            "description": "",
            "description_tooltip": null,
            "layout": "IPY_MODEL_241a509806914173a406b2e866bb5c4f",
            "max": 1,
            "min": 0,
            "orientation": "horizontal",
            "style": "IPY_MODEL_fd06ad6512ec435c9b0d3b438f70cb72",
            "value": 1
          }
        },
        "922dfce589884dd5b12b82829d19c3f8": {
          "model_module": "@jupyter-widgets/base",
          "model_name": "LayoutModel",
          "model_module_version": "1.2.0",
          "state": {
            "_model_module": "@jupyter-widgets/base",
            "_model_module_version": "1.2.0",
            "_model_name": "LayoutModel",
            "_view_count": null,
            "_view_module": "@jupyter-widgets/base",
            "_view_module_version": "1.2.0",
            "_view_name": "LayoutView",
            "align_content": null,
            "align_items": null,
            "align_self": null,
            "border": null,
            "bottom": null,
            "display": null,
            "flex": null,
            "flex_flow": null,
            "grid_area": null,
            "grid_auto_columns": null,
            "grid_auto_flow": null,
            "grid_auto_rows": null,
            "grid_column": null,
            "grid_gap": null,
            "grid_row": null,
            "grid_template_areas": null,
            "grid_template_columns": null,
            "grid_template_rows": null,
            "height": null,
            "justify_content": null,
            "justify_items": null,
            "left": null,
            "margin": null,
            "max_height": null,
            "max_width": null,
            "min_height": null,
            "min_width": null,
            "object_fit": null,
            "object_position": null,
            "order": null,
            "overflow": null,
            "overflow_x": null,
            "overflow_y": null,
            "padding": null,
            "right": null,
            "top": null,
            "visibility": null,
            "width": null
          }
        },
        "8f81a9ead0ca4eb69caa6883a09c1d41": {
          "model_module": "@jupyter-widgets/base",
          "model_name": "LayoutModel",
          "model_module_version": "1.2.0",
          "state": {
            "_model_module": "@jupyter-widgets/base",
            "_model_module_version": "1.2.0",
            "_model_name": "LayoutModel",
            "_view_count": null,
            "_view_module": "@jupyter-widgets/base",
            "_view_module_version": "1.2.0",
            "_view_name": "LayoutView",
            "align_content": null,
            "align_items": null,
            "align_self": null,
            "border": null,
            "bottom": null,
            "display": null,
            "flex": null,
            "flex_flow": null,
            "grid_area": null,
            "grid_auto_columns": null,
            "grid_auto_flow": null,
            "grid_auto_rows": null,
            "grid_column": null,
            "grid_gap": null,
            "grid_row": null,
            "grid_template_areas": null,
            "grid_template_columns": null,
            "grid_template_rows": null,
            "height": null,
            "justify_content": null,
            "justify_items": null,
            "left": null,
            "margin": null,
            "max_height": null,
            "max_width": null,
            "min_height": null,
            "min_width": null,
            "object_fit": null,
            "object_position": null,
            "order": null,
            "overflow": null,
            "overflow_x": null,
            "overflow_y": null,
            "padding": null,
            "right": null,
            "top": null,
            "visibility": null,
            "width": null
          }
        },
        "c7c5bf179b514aaf883d6439df124e44": {
          "model_module": "@jupyter-widgets/controls",
          "model_name": "DescriptionStyleModel",
          "model_module_version": "1.5.0",
          "state": {
            "_model_module": "@jupyter-widgets/controls",
            "_model_module_version": "1.5.0",
            "_model_name": "DescriptionStyleModel",
            "_view_count": null,
            "_view_module": "@jupyter-widgets/base",
            "_view_module_version": "1.2.0",
            "_view_name": "StyleView",
            "description_width": ""
          }
        },
        "241a509806914173a406b2e866bb5c4f": {
          "model_module": "@jupyter-widgets/base",
          "model_name": "LayoutModel",
          "model_module_version": "1.2.0",
          "state": {
            "_model_module": "@jupyter-widgets/base",
            "_model_module_version": "1.2.0",
            "_model_name": "LayoutModel",
            "_view_count": null,
            "_view_module": "@jupyter-widgets/base",
            "_view_module_version": "1.2.0",
            "_view_name": "LayoutView",
            "align_content": null,
            "align_items": null,
            "align_self": null,
            "border": null,
            "bottom": null,
            "display": null,
            "flex": null,
            "flex_flow": null,
            "grid_area": null,
            "grid_auto_columns": null,
            "grid_auto_flow": null,
            "grid_auto_rows": null,
            "grid_column": null,
            "grid_gap": null,
            "grid_row": null,
            "grid_template_areas": null,
            "grid_template_columns": null,
            "grid_template_rows": null,
            "height": null,
            "justify_content": null,
            "justify_items": null,
            "left": null,
            "margin": null,
            "max_height": null,
            "max_width": null,
            "min_height": null,
            "min_width": null,
            "object_fit": null,
            "object_position": null,
            "order": null,
            "overflow": null,
            "overflow_x": null,
            "overflow_y": null,
            "padding": null,
            "right": null,
            "top": null,
            "visibility": null,
            "width": null
          }
        },
        "fd06ad6512ec435c9b0d3b438f70cb72": {
          "model_module": "@jupyter-widgets/controls",
          "model_name": "ProgressStyleModel",
          "model_module_version": "1.5.0",
          "state": {
            "_model_module": "@jupyter-widgets/controls",
            "_model_module_version": "1.5.0",
            "_model_name": "ProgressStyleModel",
            "_view_count": null,
            "_view_module": "@jupyter-widgets/base",
            "_view_module_version": "1.2.0",
            "_view_name": "StyleView",
            "bar_color": null,
            "description_width": ""
          }
        },
        "81a17f3d833942a19fa6dbb1597ffadd": {
          "model_module": "@jupyter-widgets/controls",
          "model_name": "VBoxModel",
          "model_module_version": "1.5.0",
          "state": {
            "_dom_classes": [],
            "_model_module": "@jupyter-widgets/controls",
            "_model_module_version": "1.5.0",
            "_model_name": "VBoxModel",
            "_view_count": null,
            "_view_module": "@jupyter-widgets/controls",
            "_view_module_version": "1.5.0",
            "_view_name": "VBoxView",
            "box_style": "",
            "children": [
              "IPY_MODEL_d0ad69de628e4eaab4c84e6a23f8de81",
              "IPY_MODEL_6670e90788b54415a5e2f760fc77446e"
            ],
            "layout": "IPY_MODEL_b3b325d6ff094a6e8291f0057f42923d"
          }
        },
        "d0ad69de628e4eaab4c84e6a23f8de81": {
          "model_module": "@jupyter-widgets/controls",
          "model_name": "LabelModel",
          "model_module_version": "1.5.0",
          "state": {
            "_dom_classes": [],
            "_model_module": "@jupyter-widgets/controls",
            "_model_module_version": "1.5.0",
            "_model_name": "LabelModel",
            "_view_count": null,
            "_view_module": "@jupyter-widgets/controls",
            "_view_module_version": "1.5.0",
            "_view_name": "LabelView",
            "description": "",
            "description_tooltip": null,
            "layout": "IPY_MODEL_e7cadf0b4499431b9530603e4ea26049",
            "placeholder": "​",
            "style": "IPY_MODEL_a77d60a87c5349cc8b6aace00ea395b2",
            "value": "0.024 MB of 0.024 MB uploaded\r"
          }
        },
        "6670e90788b54415a5e2f760fc77446e": {
          "model_module": "@jupyter-widgets/controls",
          "model_name": "FloatProgressModel",
          "model_module_version": "1.5.0",
          "state": {
            "_dom_classes": [],
            "_model_module": "@jupyter-widgets/controls",
            "_model_module_version": "1.5.0",
            "_model_name": "FloatProgressModel",
            "_view_count": null,
            "_view_module": "@jupyter-widgets/controls",
            "_view_module_version": "1.5.0",
            "_view_name": "ProgressView",
            "bar_style": "",
            "description": "",
            "description_tooltip": null,
            "layout": "IPY_MODEL_9e0b43b5b43341ac829707bc69b378e1",
            "max": 1,
            "min": 0,
            "orientation": "horizontal",
            "style": "IPY_MODEL_7eaa93a6a8cd41f7a82b48e3f6d89090",
            "value": 1
          }
        },
        "b3b325d6ff094a6e8291f0057f42923d": {
          "model_module": "@jupyter-widgets/base",
          "model_name": "LayoutModel",
          "model_module_version": "1.2.0",
          "state": {
            "_model_module": "@jupyter-widgets/base",
            "_model_module_version": "1.2.0",
            "_model_name": "LayoutModel",
            "_view_count": null,
            "_view_module": "@jupyter-widgets/base",
            "_view_module_version": "1.2.0",
            "_view_name": "LayoutView",
            "align_content": null,
            "align_items": null,
            "align_self": null,
            "border": null,
            "bottom": null,
            "display": null,
            "flex": null,
            "flex_flow": null,
            "grid_area": null,
            "grid_auto_columns": null,
            "grid_auto_flow": null,
            "grid_auto_rows": null,
            "grid_column": null,
            "grid_gap": null,
            "grid_row": null,
            "grid_template_areas": null,
            "grid_template_columns": null,
            "grid_template_rows": null,
            "height": null,
            "justify_content": null,
            "justify_items": null,
            "left": null,
            "margin": null,
            "max_height": null,
            "max_width": null,
            "min_height": null,
            "min_width": null,
            "object_fit": null,
            "object_position": null,
            "order": null,
            "overflow": null,
            "overflow_x": null,
            "overflow_y": null,
            "padding": null,
            "right": null,
            "top": null,
            "visibility": null,
            "width": null
          }
        },
        "e7cadf0b4499431b9530603e4ea26049": {
          "model_module": "@jupyter-widgets/base",
          "model_name": "LayoutModel",
          "model_module_version": "1.2.0",
          "state": {
            "_model_module": "@jupyter-widgets/base",
            "_model_module_version": "1.2.0",
            "_model_name": "LayoutModel",
            "_view_count": null,
            "_view_module": "@jupyter-widgets/base",
            "_view_module_version": "1.2.0",
            "_view_name": "LayoutView",
            "align_content": null,
            "align_items": null,
            "align_self": null,
            "border": null,
            "bottom": null,
            "display": null,
            "flex": null,
            "flex_flow": null,
            "grid_area": null,
            "grid_auto_columns": null,
            "grid_auto_flow": null,
            "grid_auto_rows": null,
            "grid_column": null,
            "grid_gap": null,
            "grid_row": null,
            "grid_template_areas": null,
            "grid_template_columns": null,
            "grid_template_rows": null,
            "height": null,
            "justify_content": null,
            "justify_items": null,
            "left": null,
            "margin": null,
            "max_height": null,
            "max_width": null,
            "min_height": null,
            "min_width": null,
            "object_fit": null,
            "object_position": null,
            "order": null,
            "overflow": null,
            "overflow_x": null,
            "overflow_y": null,
            "padding": null,
            "right": null,
            "top": null,
            "visibility": null,
            "width": null
          }
        },
        "a77d60a87c5349cc8b6aace00ea395b2": {
          "model_module": "@jupyter-widgets/controls",
          "model_name": "DescriptionStyleModel",
          "model_module_version": "1.5.0",
          "state": {
            "_model_module": "@jupyter-widgets/controls",
            "_model_module_version": "1.5.0",
            "_model_name": "DescriptionStyleModel",
            "_view_count": null,
            "_view_module": "@jupyter-widgets/base",
            "_view_module_version": "1.2.0",
            "_view_name": "StyleView",
            "description_width": ""
          }
        },
        "9e0b43b5b43341ac829707bc69b378e1": {
          "model_module": "@jupyter-widgets/base",
          "model_name": "LayoutModel",
          "model_module_version": "1.2.0",
          "state": {
            "_model_module": "@jupyter-widgets/base",
            "_model_module_version": "1.2.0",
            "_model_name": "LayoutModel",
            "_view_count": null,
            "_view_module": "@jupyter-widgets/base",
            "_view_module_version": "1.2.0",
            "_view_name": "LayoutView",
            "align_content": null,
            "align_items": null,
            "align_self": null,
            "border": null,
            "bottom": null,
            "display": null,
            "flex": null,
            "flex_flow": null,
            "grid_area": null,
            "grid_auto_columns": null,
            "grid_auto_flow": null,
            "grid_auto_rows": null,
            "grid_column": null,
            "grid_gap": null,
            "grid_row": null,
            "grid_template_areas": null,
            "grid_template_columns": null,
            "grid_template_rows": null,
            "height": null,
            "justify_content": null,
            "justify_items": null,
            "left": null,
            "margin": null,
            "max_height": null,
            "max_width": null,
            "min_height": null,
            "min_width": null,
            "object_fit": null,
            "object_position": null,
            "order": null,
            "overflow": null,
            "overflow_x": null,
            "overflow_y": null,
            "padding": null,
            "right": null,
            "top": null,
            "visibility": null,
            "width": null
          }
        },
        "7eaa93a6a8cd41f7a82b48e3f6d89090": {
          "model_module": "@jupyter-widgets/controls",
          "model_name": "ProgressStyleModel",
          "model_module_version": "1.5.0",
          "state": {
            "_model_module": "@jupyter-widgets/controls",
            "_model_module_version": "1.5.0",
            "_model_name": "ProgressStyleModel",
            "_view_count": null,
            "_view_module": "@jupyter-widgets/base",
            "_view_module_version": "1.2.0",
            "_view_name": "StyleView",
            "bar_color": null,
            "description_width": ""
          }
        },
        "b65195fd4225404f81780c43d7f998df": {
          "model_module": "@jupyter-widgets/controls",
          "model_name": "VBoxModel",
          "model_module_version": "1.5.0",
          "state": {
            "_dom_classes": [],
            "_model_module": "@jupyter-widgets/controls",
            "_model_module_version": "1.5.0",
            "_model_name": "VBoxModel",
            "_view_count": null,
            "_view_module": "@jupyter-widgets/controls",
            "_view_module_version": "1.5.0",
            "_view_name": "VBoxView",
            "box_style": "",
            "children": [
              "IPY_MODEL_f20513ae0a3345f984c77303791da5a0",
              "IPY_MODEL_d15c8af422904cb3b7cdda16cc147221"
            ],
            "layout": "IPY_MODEL_0ea2e30938334123b9a391611e44208e"
          }
        },
        "f20513ae0a3345f984c77303791da5a0": {
          "model_module": "@jupyter-widgets/controls",
          "model_name": "LabelModel",
          "model_module_version": "1.5.0",
          "state": {
            "_dom_classes": [],
            "_model_module": "@jupyter-widgets/controls",
            "_model_module_version": "1.5.0",
            "_model_name": "LabelModel",
            "_view_count": null,
            "_view_module": "@jupyter-widgets/controls",
            "_view_module_version": "1.5.0",
            "_view_name": "LabelView",
            "description": "",
            "description_tooltip": null,
            "layout": "IPY_MODEL_c509b6c95cfd444a9b1c0c2eddeaba8c",
            "placeholder": "​",
            "style": "IPY_MODEL_2302129587234ecfaf496edc29c41cd6",
            "value": "0.024 MB of 0.024 MB uploaded\r"
          }
        },
        "d15c8af422904cb3b7cdda16cc147221": {
          "model_module": "@jupyter-widgets/controls",
          "model_name": "FloatProgressModel",
          "model_module_version": "1.5.0",
          "state": {
            "_dom_classes": [],
            "_model_module": "@jupyter-widgets/controls",
            "_model_module_version": "1.5.0",
            "_model_name": "FloatProgressModel",
            "_view_count": null,
            "_view_module": "@jupyter-widgets/controls",
            "_view_module_version": "1.5.0",
            "_view_name": "ProgressView",
            "bar_style": "",
            "description": "",
            "description_tooltip": null,
            "layout": "IPY_MODEL_3e91081eb141494eb06a366ae4081f75",
            "max": 1,
            "min": 0,
            "orientation": "horizontal",
            "style": "IPY_MODEL_44839fb93e26401e8d4550647b8f13ed",
            "value": 1
          }
        },
        "0ea2e30938334123b9a391611e44208e": {
          "model_module": "@jupyter-widgets/base",
          "model_name": "LayoutModel",
          "model_module_version": "1.2.0",
          "state": {
            "_model_module": "@jupyter-widgets/base",
            "_model_module_version": "1.2.0",
            "_model_name": "LayoutModel",
            "_view_count": null,
            "_view_module": "@jupyter-widgets/base",
            "_view_module_version": "1.2.0",
            "_view_name": "LayoutView",
            "align_content": null,
            "align_items": null,
            "align_self": null,
            "border": null,
            "bottom": null,
            "display": null,
            "flex": null,
            "flex_flow": null,
            "grid_area": null,
            "grid_auto_columns": null,
            "grid_auto_flow": null,
            "grid_auto_rows": null,
            "grid_column": null,
            "grid_gap": null,
            "grid_row": null,
            "grid_template_areas": null,
            "grid_template_columns": null,
            "grid_template_rows": null,
            "height": null,
            "justify_content": null,
            "justify_items": null,
            "left": null,
            "margin": null,
            "max_height": null,
            "max_width": null,
            "min_height": null,
            "min_width": null,
            "object_fit": null,
            "object_position": null,
            "order": null,
            "overflow": null,
            "overflow_x": null,
            "overflow_y": null,
            "padding": null,
            "right": null,
            "top": null,
            "visibility": null,
            "width": null
          }
        },
        "c509b6c95cfd444a9b1c0c2eddeaba8c": {
          "model_module": "@jupyter-widgets/base",
          "model_name": "LayoutModel",
          "model_module_version": "1.2.0",
          "state": {
            "_model_module": "@jupyter-widgets/base",
            "_model_module_version": "1.2.0",
            "_model_name": "LayoutModel",
            "_view_count": null,
            "_view_module": "@jupyter-widgets/base",
            "_view_module_version": "1.2.0",
            "_view_name": "LayoutView",
            "align_content": null,
            "align_items": null,
            "align_self": null,
            "border": null,
            "bottom": null,
            "display": null,
            "flex": null,
            "flex_flow": null,
            "grid_area": null,
            "grid_auto_columns": null,
            "grid_auto_flow": null,
            "grid_auto_rows": null,
            "grid_column": null,
            "grid_gap": null,
            "grid_row": null,
            "grid_template_areas": null,
            "grid_template_columns": null,
            "grid_template_rows": null,
            "height": null,
            "justify_content": null,
            "justify_items": null,
            "left": null,
            "margin": null,
            "max_height": null,
            "max_width": null,
            "min_height": null,
            "min_width": null,
            "object_fit": null,
            "object_position": null,
            "order": null,
            "overflow": null,
            "overflow_x": null,
            "overflow_y": null,
            "padding": null,
            "right": null,
            "top": null,
            "visibility": null,
            "width": null
          }
        },
        "2302129587234ecfaf496edc29c41cd6": {
          "model_module": "@jupyter-widgets/controls",
          "model_name": "DescriptionStyleModel",
          "model_module_version": "1.5.0",
          "state": {
            "_model_module": "@jupyter-widgets/controls",
            "_model_module_version": "1.5.0",
            "_model_name": "DescriptionStyleModel",
            "_view_count": null,
            "_view_module": "@jupyter-widgets/base",
            "_view_module_version": "1.2.0",
            "_view_name": "StyleView",
            "description_width": ""
          }
        },
        "3e91081eb141494eb06a366ae4081f75": {
          "model_module": "@jupyter-widgets/base",
          "model_name": "LayoutModel",
          "model_module_version": "1.2.0",
          "state": {
            "_model_module": "@jupyter-widgets/base",
            "_model_module_version": "1.2.0",
            "_model_name": "LayoutModel",
            "_view_count": null,
            "_view_module": "@jupyter-widgets/base",
            "_view_module_version": "1.2.0",
            "_view_name": "LayoutView",
            "align_content": null,
            "align_items": null,
            "align_self": null,
            "border": null,
            "bottom": null,
            "display": null,
            "flex": null,
            "flex_flow": null,
            "grid_area": null,
            "grid_auto_columns": null,
            "grid_auto_flow": null,
            "grid_auto_rows": null,
            "grid_column": null,
            "grid_gap": null,
            "grid_row": null,
            "grid_template_areas": null,
            "grid_template_columns": null,
            "grid_template_rows": null,
            "height": null,
            "justify_content": null,
            "justify_items": null,
            "left": null,
            "margin": null,
            "max_height": null,
            "max_width": null,
            "min_height": null,
            "min_width": null,
            "object_fit": null,
            "object_position": null,
            "order": null,
            "overflow": null,
            "overflow_x": null,
            "overflow_y": null,
            "padding": null,
            "right": null,
            "top": null,
            "visibility": null,
            "width": null
          }
        },
        "44839fb93e26401e8d4550647b8f13ed": {
          "model_module": "@jupyter-widgets/controls",
          "model_name": "ProgressStyleModel",
          "model_module_version": "1.5.0",
          "state": {
            "_model_module": "@jupyter-widgets/controls",
            "_model_module_version": "1.5.0",
            "_model_name": "ProgressStyleModel",
            "_view_count": null,
            "_view_module": "@jupyter-widgets/base",
            "_view_module_version": "1.2.0",
            "_view_name": "StyleView",
            "bar_color": null,
            "description_width": ""
          }
        },
        "11fc9a847ae24abda69a027c4c8a5478": {
          "model_module": "@jupyter-widgets/controls",
          "model_name": "VBoxModel",
          "model_module_version": "1.5.0",
          "state": {
            "_dom_classes": [],
            "_model_module": "@jupyter-widgets/controls",
            "_model_module_version": "1.5.0",
            "_model_name": "VBoxModel",
            "_view_count": null,
            "_view_module": "@jupyter-widgets/controls",
            "_view_module_version": "1.5.0",
            "_view_name": "VBoxView",
            "box_style": "",
            "children": [
              "IPY_MODEL_fe6107e72b4c43019be801d441312af1",
              "IPY_MODEL_4d027d8deb1248128d9d42dd564e5b4c"
            ],
            "layout": "IPY_MODEL_bcaa548b68cf4dceb19659a32c432ff5"
          }
        },
        "fe6107e72b4c43019be801d441312af1": {
          "model_module": "@jupyter-widgets/controls",
          "model_name": "LabelModel",
          "model_module_version": "1.5.0",
          "state": {
            "_dom_classes": [],
            "_model_module": "@jupyter-widgets/controls",
            "_model_module_version": "1.5.0",
            "_model_name": "LabelModel",
            "_view_count": null,
            "_view_module": "@jupyter-widgets/controls",
            "_view_module_version": "1.5.0",
            "_view_name": "LabelView",
            "description": "",
            "description_tooltip": null,
            "layout": "IPY_MODEL_f51a2867bce84a1990e441b0c1076508",
            "placeholder": "​",
            "style": "IPY_MODEL_9c225daeee36488f826307058cc0bed4",
            "value": "0.024 MB of 0.024 MB uploaded\r"
          }
        },
        "4d027d8deb1248128d9d42dd564e5b4c": {
          "model_module": "@jupyter-widgets/controls",
          "model_name": "FloatProgressModel",
          "model_module_version": "1.5.0",
          "state": {
            "_dom_classes": [],
            "_model_module": "@jupyter-widgets/controls",
            "_model_module_version": "1.5.0",
            "_model_name": "FloatProgressModel",
            "_view_count": null,
            "_view_module": "@jupyter-widgets/controls",
            "_view_module_version": "1.5.0",
            "_view_name": "ProgressView",
            "bar_style": "",
            "description": "",
            "description_tooltip": null,
            "layout": "IPY_MODEL_7b8054ebe5d14785a64a94bdb14b5e44",
            "max": 1,
            "min": 0,
            "orientation": "horizontal",
            "style": "IPY_MODEL_9cecc4d9681a4001bcc4fcb1ebe79f4e",
            "value": 1
          }
        },
        "bcaa548b68cf4dceb19659a32c432ff5": {
          "model_module": "@jupyter-widgets/base",
          "model_name": "LayoutModel",
          "model_module_version": "1.2.0",
          "state": {
            "_model_module": "@jupyter-widgets/base",
            "_model_module_version": "1.2.0",
            "_model_name": "LayoutModel",
            "_view_count": null,
            "_view_module": "@jupyter-widgets/base",
            "_view_module_version": "1.2.0",
            "_view_name": "LayoutView",
            "align_content": null,
            "align_items": null,
            "align_self": null,
            "border": null,
            "bottom": null,
            "display": null,
            "flex": null,
            "flex_flow": null,
            "grid_area": null,
            "grid_auto_columns": null,
            "grid_auto_flow": null,
            "grid_auto_rows": null,
            "grid_column": null,
            "grid_gap": null,
            "grid_row": null,
            "grid_template_areas": null,
            "grid_template_columns": null,
            "grid_template_rows": null,
            "height": null,
            "justify_content": null,
            "justify_items": null,
            "left": null,
            "margin": null,
            "max_height": null,
            "max_width": null,
            "min_height": null,
            "min_width": null,
            "object_fit": null,
            "object_position": null,
            "order": null,
            "overflow": null,
            "overflow_x": null,
            "overflow_y": null,
            "padding": null,
            "right": null,
            "top": null,
            "visibility": null,
            "width": null
          }
        },
        "f51a2867bce84a1990e441b0c1076508": {
          "model_module": "@jupyter-widgets/base",
          "model_name": "LayoutModel",
          "model_module_version": "1.2.0",
          "state": {
            "_model_module": "@jupyter-widgets/base",
            "_model_module_version": "1.2.0",
            "_model_name": "LayoutModel",
            "_view_count": null,
            "_view_module": "@jupyter-widgets/base",
            "_view_module_version": "1.2.0",
            "_view_name": "LayoutView",
            "align_content": null,
            "align_items": null,
            "align_self": null,
            "border": null,
            "bottom": null,
            "display": null,
            "flex": null,
            "flex_flow": null,
            "grid_area": null,
            "grid_auto_columns": null,
            "grid_auto_flow": null,
            "grid_auto_rows": null,
            "grid_column": null,
            "grid_gap": null,
            "grid_row": null,
            "grid_template_areas": null,
            "grid_template_columns": null,
            "grid_template_rows": null,
            "height": null,
            "justify_content": null,
            "justify_items": null,
            "left": null,
            "margin": null,
            "max_height": null,
            "max_width": null,
            "min_height": null,
            "min_width": null,
            "object_fit": null,
            "object_position": null,
            "order": null,
            "overflow": null,
            "overflow_x": null,
            "overflow_y": null,
            "padding": null,
            "right": null,
            "top": null,
            "visibility": null,
            "width": null
          }
        },
        "9c225daeee36488f826307058cc0bed4": {
          "model_module": "@jupyter-widgets/controls",
          "model_name": "DescriptionStyleModel",
          "model_module_version": "1.5.0",
          "state": {
            "_model_module": "@jupyter-widgets/controls",
            "_model_module_version": "1.5.0",
            "_model_name": "DescriptionStyleModel",
            "_view_count": null,
            "_view_module": "@jupyter-widgets/base",
            "_view_module_version": "1.2.0",
            "_view_name": "StyleView",
            "description_width": ""
          }
        },
        "7b8054ebe5d14785a64a94bdb14b5e44": {
          "model_module": "@jupyter-widgets/base",
          "model_name": "LayoutModel",
          "model_module_version": "1.2.0",
          "state": {
            "_model_module": "@jupyter-widgets/base",
            "_model_module_version": "1.2.0",
            "_model_name": "LayoutModel",
            "_view_count": null,
            "_view_module": "@jupyter-widgets/base",
            "_view_module_version": "1.2.0",
            "_view_name": "LayoutView",
            "align_content": null,
            "align_items": null,
            "align_self": null,
            "border": null,
            "bottom": null,
            "display": null,
            "flex": null,
            "flex_flow": null,
            "grid_area": null,
            "grid_auto_columns": null,
            "grid_auto_flow": null,
            "grid_auto_rows": null,
            "grid_column": null,
            "grid_gap": null,
            "grid_row": null,
            "grid_template_areas": null,
            "grid_template_columns": null,
            "grid_template_rows": null,
            "height": null,
            "justify_content": null,
            "justify_items": null,
            "left": null,
            "margin": null,
            "max_height": null,
            "max_width": null,
            "min_height": null,
            "min_width": null,
            "object_fit": null,
            "object_position": null,
            "order": null,
            "overflow": null,
            "overflow_x": null,
            "overflow_y": null,
            "padding": null,
            "right": null,
            "top": null,
            "visibility": null,
            "width": null
          }
        },
        "9cecc4d9681a4001bcc4fcb1ebe79f4e": {
          "model_module": "@jupyter-widgets/controls",
          "model_name": "ProgressStyleModel",
          "model_module_version": "1.5.0",
          "state": {
            "_model_module": "@jupyter-widgets/controls",
            "_model_module_version": "1.5.0",
            "_model_name": "ProgressStyleModel",
            "_view_count": null,
            "_view_module": "@jupyter-widgets/base",
            "_view_module_version": "1.2.0",
            "_view_name": "StyleView",
            "bar_color": null,
            "description_width": ""
          }
        },
        "e65b550e29404deca2f70da34e374684": {
          "model_module": "@jupyter-widgets/controls",
          "model_name": "VBoxModel",
          "model_module_version": "1.5.0",
          "state": {
            "_dom_classes": [],
            "_model_module": "@jupyter-widgets/controls",
            "_model_module_version": "1.5.0",
            "_model_name": "VBoxModel",
            "_view_count": null,
            "_view_module": "@jupyter-widgets/controls",
            "_view_module_version": "1.5.0",
            "_view_name": "VBoxView",
            "box_style": "",
            "children": [
              "IPY_MODEL_daa864a7a0fa442196d859209e944bb5",
              "IPY_MODEL_53cb4aa0415b4c19898ce88db114a80a"
            ],
            "layout": "IPY_MODEL_676807b14345441990a4e316d9caedca"
          }
        },
        "daa864a7a0fa442196d859209e944bb5": {
          "model_module": "@jupyter-widgets/controls",
          "model_name": "LabelModel",
          "model_module_version": "1.5.0",
          "state": {
            "_dom_classes": [],
            "_model_module": "@jupyter-widgets/controls",
            "_model_module_version": "1.5.0",
            "_model_name": "LabelModel",
            "_view_count": null,
            "_view_module": "@jupyter-widgets/controls",
            "_view_module_version": "1.5.0",
            "_view_name": "LabelView",
            "description": "",
            "description_tooltip": null,
            "layout": "IPY_MODEL_25bfcb92bd914da78278fe995ac0edc0",
            "placeholder": "​",
            "style": "IPY_MODEL_fd76cfb7d37f4296be09c47f9158f276",
            "value": "0.024 MB of 0.024 MB uploaded\r"
          }
        },
        "53cb4aa0415b4c19898ce88db114a80a": {
          "model_module": "@jupyter-widgets/controls",
          "model_name": "FloatProgressModel",
          "model_module_version": "1.5.0",
          "state": {
            "_dom_classes": [],
            "_model_module": "@jupyter-widgets/controls",
            "_model_module_version": "1.5.0",
            "_model_name": "FloatProgressModel",
            "_view_count": null,
            "_view_module": "@jupyter-widgets/controls",
            "_view_module_version": "1.5.0",
            "_view_name": "ProgressView",
            "bar_style": "",
            "description": "",
            "description_tooltip": null,
            "layout": "IPY_MODEL_4ed4c5e2160c42548ae9071255668429",
            "max": 1,
            "min": 0,
            "orientation": "horizontal",
            "style": "IPY_MODEL_b93d340a231f40f8b0490c043b2604d5",
            "value": 1
          }
        },
        "676807b14345441990a4e316d9caedca": {
          "model_module": "@jupyter-widgets/base",
          "model_name": "LayoutModel",
          "model_module_version": "1.2.0",
          "state": {
            "_model_module": "@jupyter-widgets/base",
            "_model_module_version": "1.2.0",
            "_model_name": "LayoutModel",
            "_view_count": null,
            "_view_module": "@jupyter-widgets/base",
            "_view_module_version": "1.2.0",
            "_view_name": "LayoutView",
            "align_content": null,
            "align_items": null,
            "align_self": null,
            "border": null,
            "bottom": null,
            "display": null,
            "flex": null,
            "flex_flow": null,
            "grid_area": null,
            "grid_auto_columns": null,
            "grid_auto_flow": null,
            "grid_auto_rows": null,
            "grid_column": null,
            "grid_gap": null,
            "grid_row": null,
            "grid_template_areas": null,
            "grid_template_columns": null,
            "grid_template_rows": null,
            "height": null,
            "justify_content": null,
            "justify_items": null,
            "left": null,
            "margin": null,
            "max_height": null,
            "max_width": null,
            "min_height": null,
            "min_width": null,
            "object_fit": null,
            "object_position": null,
            "order": null,
            "overflow": null,
            "overflow_x": null,
            "overflow_y": null,
            "padding": null,
            "right": null,
            "top": null,
            "visibility": null,
            "width": null
          }
        },
        "25bfcb92bd914da78278fe995ac0edc0": {
          "model_module": "@jupyter-widgets/base",
          "model_name": "LayoutModel",
          "model_module_version": "1.2.0",
          "state": {
            "_model_module": "@jupyter-widgets/base",
            "_model_module_version": "1.2.0",
            "_model_name": "LayoutModel",
            "_view_count": null,
            "_view_module": "@jupyter-widgets/base",
            "_view_module_version": "1.2.0",
            "_view_name": "LayoutView",
            "align_content": null,
            "align_items": null,
            "align_self": null,
            "border": null,
            "bottom": null,
            "display": null,
            "flex": null,
            "flex_flow": null,
            "grid_area": null,
            "grid_auto_columns": null,
            "grid_auto_flow": null,
            "grid_auto_rows": null,
            "grid_column": null,
            "grid_gap": null,
            "grid_row": null,
            "grid_template_areas": null,
            "grid_template_columns": null,
            "grid_template_rows": null,
            "height": null,
            "justify_content": null,
            "justify_items": null,
            "left": null,
            "margin": null,
            "max_height": null,
            "max_width": null,
            "min_height": null,
            "min_width": null,
            "object_fit": null,
            "object_position": null,
            "order": null,
            "overflow": null,
            "overflow_x": null,
            "overflow_y": null,
            "padding": null,
            "right": null,
            "top": null,
            "visibility": null,
            "width": null
          }
        },
        "fd76cfb7d37f4296be09c47f9158f276": {
          "model_module": "@jupyter-widgets/controls",
          "model_name": "DescriptionStyleModel",
          "model_module_version": "1.5.0",
          "state": {
            "_model_module": "@jupyter-widgets/controls",
            "_model_module_version": "1.5.0",
            "_model_name": "DescriptionStyleModel",
            "_view_count": null,
            "_view_module": "@jupyter-widgets/base",
            "_view_module_version": "1.2.0",
            "_view_name": "StyleView",
            "description_width": ""
          }
        },
        "4ed4c5e2160c42548ae9071255668429": {
          "model_module": "@jupyter-widgets/base",
          "model_name": "LayoutModel",
          "model_module_version": "1.2.0",
          "state": {
            "_model_module": "@jupyter-widgets/base",
            "_model_module_version": "1.2.0",
            "_model_name": "LayoutModel",
            "_view_count": null,
            "_view_module": "@jupyter-widgets/base",
            "_view_module_version": "1.2.0",
            "_view_name": "LayoutView",
            "align_content": null,
            "align_items": null,
            "align_self": null,
            "border": null,
            "bottom": null,
            "display": null,
            "flex": null,
            "flex_flow": null,
            "grid_area": null,
            "grid_auto_columns": null,
            "grid_auto_flow": null,
            "grid_auto_rows": null,
            "grid_column": null,
            "grid_gap": null,
            "grid_row": null,
            "grid_template_areas": null,
            "grid_template_columns": null,
            "grid_template_rows": null,
            "height": null,
            "justify_content": null,
            "justify_items": null,
            "left": null,
            "margin": null,
            "max_height": null,
            "max_width": null,
            "min_height": null,
            "min_width": null,
            "object_fit": null,
            "object_position": null,
            "order": null,
            "overflow": null,
            "overflow_x": null,
            "overflow_y": null,
            "padding": null,
            "right": null,
            "top": null,
            "visibility": null,
            "width": null
          }
        },
        "b93d340a231f40f8b0490c043b2604d5": {
          "model_module": "@jupyter-widgets/controls",
          "model_name": "ProgressStyleModel",
          "model_module_version": "1.5.0",
          "state": {
            "_model_module": "@jupyter-widgets/controls",
            "_model_module_version": "1.5.0",
            "_model_name": "ProgressStyleModel",
            "_view_count": null,
            "_view_module": "@jupyter-widgets/base",
            "_view_module_version": "1.2.0",
            "_view_name": "StyleView",
            "bar_color": null,
            "description_width": ""
          }
        },
        "0dce22c822534212adf212329b928544": {
          "model_module": "@jupyter-widgets/controls",
          "model_name": "VBoxModel",
          "model_module_version": "1.5.0",
          "state": {
            "_dom_classes": [],
            "_model_module": "@jupyter-widgets/controls",
            "_model_module_version": "1.5.0",
            "_model_name": "VBoxModel",
            "_view_count": null,
            "_view_module": "@jupyter-widgets/controls",
            "_view_module_version": "1.5.0",
            "_view_name": "VBoxView",
            "box_style": "",
            "children": [
              "IPY_MODEL_75c53332c493440e843a0da977e3bd86",
              "IPY_MODEL_6753699b217d40a9b2ea7d9a00281f67"
            ],
            "layout": "IPY_MODEL_f55e3bbd18fc4e21a2e6acaaf1310738"
          }
        },
        "75c53332c493440e843a0da977e3bd86": {
          "model_module": "@jupyter-widgets/controls",
          "model_name": "LabelModel",
          "model_module_version": "1.5.0",
          "state": {
            "_dom_classes": [],
            "_model_module": "@jupyter-widgets/controls",
            "_model_module_version": "1.5.0",
            "_model_name": "LabelModel",
            "_view_count": null,
            "_view_module": "@jupyter-widgets/controls",
            "_view_module_version": "1.5.0",
            "_view_name": "LabelView",
            "description": "",
            "description_tooltip": null,
            "layout": "IPY_MODEL_3887fc94915e44ec8a351bfbb6ce105f",
            "placeholder": "​",
            "style": "IPY_MODEL_255df2ed4e2c401097dbd6cb895a5ca6",
            "value": "0.024 MB of 0.024 MB uploaded\r"
          }
        },
        "6753699b217d40a9b2ea7d9a00281f67": {
          "model_module": "@jupyter-widgets/controls",
          "model_name": "FloatProgressModel",
          "model_module_version": "1.5.0",
          "state": {
            "_dom_classes": [],
            "_model_module": "@jupyter-widgets/controls",
            "_model_module_version": "1.5.0",
            "_model_name": "FloatProgressModel",
            "_view_count": null,
            "_view_module": "@jupyter-widgets/controls",
            "_view_module_version": "1.5.0",
            "_view_name": "ProgressView",
            "bar_style": "",
            "description": "",
            "description_tooltip": null,
            "layout": "IPY_MODEL_f8ceb5686378408b8d0a2f467010b7f4",
            "max": 1,
            "min": 0,
            "orientation": "horizontal",
            "style": "IPY_MODEL_9072e54d9fc64c05ac2a64b5e6f2a52e",
            "value": 1
          }
        },
        "f55e3bbd18fc4e21a2e6acaaf1310738": {
          "model_module": "@jupyter-widgets/base",
          "model_name": "LayoutModel",
          "model_module_version": "1.2.0",
          "state": {
            "_model_module": "@jupyter-widgets/base",
            "_model_module_version": "1.2.0",
            "_model_name": "LayoutModel",
            "_view_count": null,
            "_view_module": "@jupyter-widgets/base",
            "_view_module_version": "1.2.0",
            "_view_name": "LayoutView",
            "align_content": null,
            "align_items": null,
            "align_self": null,
            "border": null,
            "bottom": null,
            "display": null,
            "flex": null,
            "flex_flow": null,
            "grid_area": null,
            "grid_auto_columns": null,
            "grid_auto_flow": null,
            "grid_auto_rows": null,
            "grid_column": null,
            "grid_gap": null,
            "grid_row": null,
            "grid_template_areas": null,
            "grid_template_columns": null,
            "grid_template_rows": null,
            "height": null,
            "justify_content": null,
            "justify_items": null,
            "left": null,
            "margin": null,
            "max_height": null,
            "max_width": null,
            "min_height": null,
            "min_width": null,
            "object_fit": null,
            "object_position": null,
            "order": null,
            "overflow": null,
            "overflow_x": null,
            "overflow_y": null,
            "padding": null,
            "right": null,
            "top": null,
            "visibility": null,
            "width": null
          }
        },
        "3887fc94915e44ec8a351bfbb6ce105f": {
          "model_module": "@jupyter-widgets/base",
          "model_name": "LayoutModel",
          "model_module_version": "1.2.0",
          "state": {
            "_model_module": "@jupyter-widgets/base",
            "_model_module_version": "1.2.0",
            "_model_name": "LayoutModel",
            "_view_count": null,
            "_view_module": "@jupyter-widgets/base",
            "_view_module_version": "1.2.0",
            "_view_name": "LayoutView",
            "align_content": null,
            "align_items": null,
            "align_self": null,
            "border": null,
            "bottom": null,
            "display": null,
            "flex": null,
            "flex_flow": null,
            "grid_area": null,
            "grid_auto_columns": null,
            "grid_auto_flow": null,
            "grid_auto_rows": null,
            "grid_column": null,
            "grid_gap": null,
            "grid_row": null,
            "grid_template_areas": null,
            "grid_template_columns": null,
            "grid_template_rows": null,
            "height": null,
            "justify_content": null,
            "justify_items": null,
            "left": null,
            "margin": null,
            "max_height": null,
            "max_width": null,
            "min_height": null,
            "min_width": null,
            "object_fit": null,
            "object_position": null,
            "order": null,
            "overflow": null,
            "overflow_x": null,
            "overflow_y": null,
            "padding": null,
            "right": null,
            "top": null,
            "visibility": null,
            "width": null
          }
        },
        "255df2ed4e2c401097dbd6cb895a5ca6": {
          "model_module": "@jupyter-widgets/controls",
          "model_name": "DescriptionStyleModel",
          "model_module_version": "1.5.0",
          "state": {
            "_model_module": "@jupyter-widgets/controls",
            "_model_module_version": "1.5.0",
            "_model_name": "DescriptionStyleModel",
            "_view_count": null,
            "_view_module": "@jupyter-widgets/base",
            "_view_module_version": "1.2.0",
            "_view_name": "StyleView",
            "description_width": ""
          }
        },
        "f8ceb5686378408b8d0a2f467010b7f4": {
          "model_module": "@jupyter-widgets/base",
          "model_name": "LayoutModel",
          "model_module_version": "1.2.0",
          "state": {
            "_model_module": "@jupyter-widgets/base",
            "_model_module_version": "1.2.0",
            "_model_name": "LayoutModel",
            "_view_count": null,
            "_view_module": "@jupyter-widgets/base",
            "_view_module_version": "1.2.0",
            "_view_name": "LayoutView",
            "align_content": null,
            "align_items": null,
            "align_self": null,
            "border": null,
            "bottom": null,
            "display": null,
            "flex": null,
            "flex_flow": null,
            "grid_area": null,
            "grid_auto_columns": null,
            "grid_auto_flow": null,
            "grid_auto_rows": null,
            "grid_column": null,
            "grid_gap": null,
            "grid_row": null,
            "grid_template_areas": null,
            "grid_template_columns": null,
            "grid_template_rows": null,
            "height": null,
            "justify_content": null,
            "justify_items": null,
            "left": null,
            "margin": null,
            "max_height": null,
            "max_width": null,
            "min_height": null,
            "min_width": null,
            "object_fit": null,
            "object_position": null,
            "order": null,
            "overflow": null,
            "overflow_x": null,
            "overflow_y": null,
            "padding": null,
            "right": null,
            "top": null,
            "visibility": null,
            "width": null
          }
        },
        "9072e54d9fc64c05ac2a64b5e6f2a52e": {
          "model_module": "@jupyter-widgets/controls",
          "model_name": "ProgressStyleModel",
          "model_module_version": "1.5.0",
          "state": {
            "_model_module": "@jupyter-widgets/controls",
            "_model_module_version": "1.5.0",
            "_model_name": "ProgressStyleModel",
            "_view_count": null,
            "_view_module": "@jupyter-widgets/base",
            "_view_module_version": "1.2.0",
            "_view_name": "StyleView",
            "bar_color": null,
            "description_width": ""
          }
        }
      }
    }
  },
  "cells": [
    {
      "cell_type": "code",
      "execution_count": 1,
      "metadata": {
        "colab": {
          "base_uri": "https://localhost:8080/"
        },
        "id": "UbhVhIGhNQW0",
        "outputId": "f2dfea69-d338-4c2b-d902-3b14b01a9fee"
      },
      "outputs": [
        {
          "output_type": "stream",
          "name": "stdout",
          "text": [
            "Requirement already satisfied: transformers in /usr/local/lib/python3.10/dist-packages (4.42.4)\n",
            "Collecting optuna\n",
            "  Downloading optuna-3.6.1-py3-none-any.whl.metadata (17 kB)\n",
            "Collecting wandb\n",
            "  Downloading wandb-0.17.7-py3-none-manylinux_2_17_x86_64.manylinux2014_x86_64.whl.metadata (10 kB)\n",
            "Requirement already satisfied: torch in /usr/local/lib/python3.10/dist-packages (2.3.1+cu121)\n",
            "Requirement already satisfied: torchvision in /usr/local/lib/python3.10/dist-packages (0.18.1+cu121)\n",
            "Requirement already satisfied: torchaudio in /usr/local/lib/python3.10/dist-packages (2.3.1+cu121)\n",
            "Collecting ray[tune]\n",
            "  Downloading ray-2.34.0-cp310-cp310-manylinux2014_x86_64.whl.metadata (13 kB)\n",
            "Requirement already satisfied: filelock in /usr/local/lib/python3.10/dist-packages (from transformers) (3.15.4)\n",
            "Requirement already satisfied: huggingface-hub<1.0,>=0.23.2 in /usr/local/lib/python3.10/dist-packages (from transformers) (0.23.5)\n",
            "Requirement already satisfied: numpy<2.0,>=1.17 in /usr/local/lib/python3.10/dist-packages (from transformers) (1.26.4)\n",
            "Requirement already satisfied: packaging>=20.0 in /usr/local/lib/python3.10/dist-packages (from transformers) (24.1)\n",
            "Requirement already satisfied: pyyaml>=5.1 in /usr/local/lib/python3.10/dist-packages (from transformers) (6.0.2)\n",
            "Requirement already satisfied: regex!=2019.12.17 in /usr/local/lib/python3.10/dist-packages (from transformers) (2024.5.15)\n",
            "Requirement already satisfied: requests in /usr/local/lib/python3.10/dist-packages (from transformers) (2.32.3)\n",
            "Requirement already satisfied: safetensors>=0.4.1 in /usr/local/lib/python3.10/dist-packages (from transformers) (0.4.4)\n",
            "Requirement already satisfied: tokenizers<0.20,>=0.19 in /usr/local/lib/python3.10/dist-packages (from transformers) (0.19.1)\n",
            "Requirement already satisfied: tqdm>=4.27 in /usr/local/lib/python3.10/dist-packages (from transformers) (4.66.5)\n",
            "Collecting alembic>=1.5.0 (from optuna)\n",
            "  Downloading alembic-1.13.2-py3-none-any.whl.metadata (7.4 kB)\n",
            "Collecting colorlog (from optuna)\n",
            "  Downloading colorlog-6.8.2-py3-none-any.whl.metadata (10 kB)\n",
            "Requirement already satisfied: sqlalchemy>=1.3.0 in /usr/local/lib/python3.10/dist-packages (from optuna) (2.0.32)\n",
            "Requirement already satisfied: click!=8.0.0,>=7.1 in /usr/local/lib/python3.10/dist-packages (from wandb) (8.1.7)\n",
            "Collecting docker-pycreds>=0.4.0 (from wandb)\n",
            "  Downloading docker_pycreds-0.4.0-py2.py3-none-any.whl.metadata (1.8 kB)\n",
            "Collecting gitpython!=3.1.29,>=1.0.0 (from wandb)\n",
            "  Downloading GitPython-3.1.43-py3-none-any.whl.metadata (13 kB)\n",
            "Requirement already satisfied: platformdirs in /usr/local/lib/python3.10/dist-packages (from wandb) (4.2.2)\n",
            "Requirement already satisfied: protobuf!=4.21.0,<6,>=3.19.0 in /usr/local/lib/python3.10/dist-packages (from wandb) (3.20.3)\n",
            "Requirement already satisfied: psutil>=5.0.0 in /usr/local/lib/python3.10/dist-packages (from wandb) (5.9.5)\n",
            "Collecting sentry-sdk>=1.0.0 (from wandb)\n",
            "  Downloading sentry_sdk-2.13.0-py2.py3-none-any.whl.metadata (9.7 kB)\n",
            "Collecting setproctitle (from wandb)\n",
            "  Downloading setproctitle-1.3.3-cp310-cp310-manylinux_2_5_x86_64.manylinux1_x86_64.manylinux_2_17_x86_64.manylinux2014_x86_64.whl.metadata (9.9 kB)\n",
            "Requirement already satisfied: setuptools in /usr/local/lib/python3.10/dist-packages (from wandb) (71.0.4)\n",
            "Requirement already satisfied: jsonschema in /usr/local/lib/python3.10/dist-packages (from ray[tune]) (4.23.0)\n",
            "Requirement already satisfied: msgpack<2.0.0,>=1.0.0 in /usr/local/lib/python3.10/dist-packages (from ray[tune]) (1.0.8)\n",
            "Requirement already satisfied: aiosignal in /usr/local/lib/python3.10/dist-packages (from ray[tune]) (1.3.1)\n",
            "Requirement already satisfied: frozenlist in /usr/local/lib/python3.10/dist-packages (from ray[tune]) (1.4.1)\n",
            "Requirement already satisfied: pandas in /usr/local/lib/python3.10/dist-packages (from ray[tune]) (2.1.4)\n",
            "Collecting tensorboardX>=1.9 (from ray[tune])\n",
            "  Downloading tensorboardX-2.6.2.2-py2.py3-none-any.whl.metadata (5.8 kB)\n",
            "Requirement already satisfied: pyarrow>=6.0.1 in /usr/local/lib/python3.10/dist-packages (from ray[tune]) (14.0.2)\n",
            "Requirement already satisfied: fsspec in /usr/local/lib/python3.10/dist-packages (from ray[tune]) (2024.6.1)\n",
            "Requirement already satisfied: typing-extensions>=4.8.0 in /usr/local/lib/python3.10/dist-packages (from torch) (4.12.2)\n",
            "Requirement already satisfied: sympy in /usr/local/lib/python3.10/dist-packages (from torch) (1.13.1)\n",
            "Requirement already satisfied: networkx in /usr/local/lib/python3.10/dist-packages (from torch) (3.3)\n",
            "Requirement already satisfied: jinja2 in /usr/local/lib/python3.10/dist-packages (from torch) (3.1.4)\n",
            "Collecting nvidia-cuda-nvrtc-cu12==12.1.105 (from torch)\n",
            "  Using cached nvidia_cuda_nvrtc_cu12-12.1.105-py3-none-manylinux1_x86_64.whl.metadata (1.5 kB)\n",
            "Collecting nvidia-cuda-runtime-cu12==12.1.105 (from torch)\n",
            "  Using cached nvidia_cuda_runtime_cu12-12.1.105-py3-none-manylinux1_x86_64.whl.metadata (1.5 kB)\n",
            "Collecting nvidia-cuda-cupti-cu12==12.1.105 (from torch)\n",
            "  Using cached nvidia_cuda_cupti_cu12-12.1.105-py3-none-manylinux1_x86_64.whl.metadata (1.6 kB)\n",
            "Collecting nvidia-cudnn-cu12==8.9.2.26 (from torch)\n",
            "  Using cached nvidia_cudnn_cu12-8.9.2.26-py3-none-manylinux1_x86_64.whl.metadata (1.6 kB)\n",
            "Collecting nvidia-cublas-cu12==12.1.3.1 (from torch)\n",
            "  Using cached nvidia_cublas_cu12-12.1.3.1-py3-none-manylinux1_x86_64.whl.metadata (1.5 kB)\n",
            "Collecting nvidia-cufft-cu12==11.0.2.54 (from torch)\n",
            "  Using cached nvidia_cufft_cu12-11.0.2.54-py3-none-manylinux1_x86_64.whl.metadata (1.5 kB)\n",
            "Collecting nvidia-curand-cu12==10.3.2.106 (from torch)\n",
            "  Using cached nvidia_curand_cu12-10.3.2.106-py3-none-manylinux1_x86_64.whl.metadata (1.5 kB)\n",
            "Collecting nvidia-cusolver-cu12==11.4.5.107 (from torch)\n",
            "  Using cached nvidia_cusolver_cu12-11.4.5.107-py3-none-manylinux1_x86_64.whl.metadata (1.6 kB)\n",
            "Collecting nvidia-cusparse-cu12==12.1.0.106 (from torch)\n",
            "  Using cached nvidia_cusparse_cu12-12.1.0.106-py3-none-manylinux1_x86_64.whl.metadata (1.6 kB)\n",
            "Collecting nvidia-nccl-cu12==2.20.5 (from torch)\n",
            "  Using cached nvidia_nccl_cu12-2.20.5-py3-none-manylinux2014_x86_64.whl.metadata (1.8 kB)\n",
            "Collecting nvidia-nvtx-cu12==12.1.105 (from torch)\n",
            "  Using cached nvidia_nvtx_cu12-12.1.105-py3-none-manylinux1_x86_64.whl.metadata (1.7 kB)\n",
            "Requirement already satisfied: triton==2.3.1 in /usr/local/lib/python3.10/dist-packages (from torch) (2.3.1)\n",
            "Collecting nvidia-nvjitlink-cu12 (from nvidia-cusolver-cu12==11.4.5.107->torch)\n",
            "  Using cached nvidia_nvjitlink_cu12-12.6.20-py3-none-manylinux2014_x86_64.whl.metadata (1.5 kB)\n",
            "Requirement already satisfied: pillow!=8.3.*,>=5.3.0 in /usr/local/lib/python3.10/dist-packages (from torchvision) (9.4.0)\n",
            "Collecting Mako (from alembic>=1.5.0->optuna)\n",
            "  Downloading Mako-1.3.5-py3-none-any.whl.metadata (2.9 kB)\n",
            "Requirement already satisfied: six>=1.4.0 in /usr/local/lib/python3.10/dist-packages (from docker-pycreds>=0.4.0->wandb) (1.16.0)\n",
            "Collecting gitdb<5,>=4.0.1 (from gitpython!=3.1.29,>=1.0.0->wandb)\n",
            "  Downloading gitdb-4.0.11-py3-none-any.whl.metadata (1.2 kB)\n",
            "Requirement already satisfied: charset-normalizer<4,>=2 in /usr/local/lib/python3.10/dist-packages (from requests->transformers) (3.3.2)\n",
            "Requirement already satisfied: idna<4,>=2.5 in /usr/local/lib/python3.10/dist-packages (from requests->transformers) (3.7)\n",
            "Requirement already satisfied: urllib3<3,>=1.21.1 in /usr/local/lib/python3.10/dist-packages (from requests->transformers) (2.0.7)\n",
            "Requirement already satisfied: certifi>=2017.4.17 in /usr/local/lib/python3.10/dist-packages (from requests->transformers) (2024.7.4)\n",
            "Requirement already satisfied: greenlet!=0.4.17 in /usr/local/lib/python3.10/dist-packages (from sqlalchemy>=1.3.0->optuna) (3.0.3)\n",
            "Requirement already satisfied: MarkupSafe>=2.0 in /usr/local/lib/python3.10/dist-packages (from jinja2->torch) (2.1.5)\n",
            "Requirement already satisfied: attrs>=22.2.0 in /usr/local/lib/python3.10/dist-packages (from jsonschema->ray[tune]) (24.2.0)\n",
            "Requirement already satisfied: jsonschema-specifications>=2023.03.6 in /usr/local/lib/python3.10/dist-packages (from jsonschema->ray[tune]) (2023.12.1)\n",
            "Requirement already satisfied: referencing>=0.28.4 in /usr/local/lib/python3.10/dist-packages (from jsonschema->ray[tune]) (0.35.1)\n",
            "Requirement already satisfied: rpds-py>=0.7.1 in /usr/local/lib/python3.10/dist-packages (from jsonschema->ray[tune]) (0.20.0)\n",
            "Requirement already satisfied: python-dateutil>=2.8.2 in /usr/local/lib/python3.10/dist-packages (from pandas->ray[tune]) (2.8.2)\n",
            "Requirement already satisfied: pytz>=2020.1 in /usr/local/lib/python3.10/dist-packages (from pandas->ray[tune]) (2024.1)\n",
            "Requirement already satisfied: tzdata>=2022.1 in /usr/local/lib/python3.10/dist-packages (from pandas->ray[tune]) (2024.1)\n",
            "Requirement already satisfied: mpmath<1.4,>=1.1.0 in /usr/local/lib/python3.10/dist-packages (from sympy->torch) (1.3.0)\n",
            "Collecting smmap<6,>=3.0.1 (from gitdb<5,>=4.0.1->gitpython!=3.1.29,>=1.0.0->wandb)\n",
            "  Downloading smmap-5.0.1-py3-none-any.whl.metadata (4.3 kB)\n",
            "Downloading optuna-3.6.1-py3-none-any.whl (380 kB)\n",
            "\u001b[2K   \u001b[90m━━━━━━━━━━━━━━━━━━━━━━━━━━━━━━━━━━━━━━━━\u001b[0m \u001b[32m380.1/380.1 kB\u001b[0m \u001b[31m18.8 MB/s\u001b[0m eta \u001b[36m0:00:00\u001b[0m\n",
            "\u001b[?25hDownloading wandb-0.17.7-py3-none-manylinux_2_17_x86_64.manylinux2014_x86_64.whl (9.3 MB)\n",
            "\u001b[2K   \u001b[90m━━━━━━━━━━━━━━━━━━━━━━━━━━━━━━━━━━━━━━━━\u001b[0m \u001b[32m9.3/9.3 MB\u001b[0m \u001b[31m26.9 MB/s\u001b[0m eta \u001b[36m0:00:00\u001b[0m\n",
            "\u001b[?25hUsing cached nvidia_cublas_cu12-12.1.3.1-py3-none-manylinux1_x86_64.whl (410.6 MB)\n",
            "Using cached nvidia_cuda_cupti_cu12-12.1.105-py3-none-manylinux1_x86_64.whl (14.1 MB)\n",
            "Using cached nvidia_cuda_nvrtc_cu12-12.1.105-py3-none-manylinux1_x86_64.whl (23.7 MB)\n",
            "Using cached nvidia_cuda_runtime_cu12-12.1.105-py3-none-manylinux1_x86_64.whl (823 kB)\n",
            "Using cached nvidia_cudnn_cu12-8.9.2.26-py3-none-manylinux1_x86_64.whl (731.7 MB)\n",
            "Using cached nvidia_cufft_cu12-11.0.2.54-py3-none-manylinux1_x86_64.whl (121.6 MB)\n",
            "Using cached nvidia_curand_cu12-10.3.2.106-py3-none-manylinux1_x86_64.whl (56.5 MB)\n",
            "Using cached nvidia_cusolver_cu12-11.4.5.107-py3-none-manylinux1_x86_64.whl (124.2 MB)\n",
            "Using cached nvidia_cusparse_cu12-12.1.0.106-py3-none-manylinux1_x86_64.whl (196.0 MB)\n",
            "Using cached nvidia_nccl_cu12-2.20.5-py3-none-manylinux2014_x86_64.whl (176.2 MB)\n",
            "Using cached nvidia_nvtx_cu12-12.1.105-py3-none-manylinux1_x86_64.whl (99 kB)\n",
            "Downloading alembic-1.13.2-py3-none-any.whl (232 kB)\n",
            "\u001b[2K   \u001b[90m━━━━━━━━━━━━━━━━━━━━━━━━━━━━━━━━━━━━━━━━\u001b[0m \u001b[32m233.0/233.0 kB\u001b[0m \u001b[31m568.3 kB/s\u001b[0m eta \u001b[36m0:00:00\u001b[0m\n",
            "\u001b[?25hDownloading docker_pycreds-0.4.0-py2.py3-none-any.whl (9.0 kB)\n",
            "Downloading GitPython-3.1.43-py3-none-any.whl (207 kB)\n",
            "\u001b[2K   \u001b[90m━━━━━━━━━━━━━━━━━━━━━━━━━━━━━━━━━━━━━━━━\u001b[0m \u001b[32m207.3/207.3 kB\u001b[0m \u001b[31m17.4 MB/s\u001b[0m eta \u001b[36m0:00:00\u001b[0m\n",
            "\u001b[?25hDownloading sentry_sdk-2.13.0-py2.py3-none-any.whl (309 kB)\n",
            "\u001b[2K   \u001b[90m━━━━━━━━━━━━━━━━━━━━━━━━━━━━━━━━━━━━━━━━\u001b[0m \u001b[32m309.1/309.1 kB\u001b[0m \u001b[31m24.5 MB/s\u001b[0m eta \u001b[36m0:00:00\u001b[0m\n",
            "\u001b[?25hDownloading tensorboardX-2.6.2.2-py2.py3-none-any.whl (101 kB)\n",
            "\u001b[2K   \u001b[90m━━━━━━━━━━━━━━━━━━━━━━━━━━━━━━━━━━━━━━━━\u001b[0m \u001b[32m101.7/101.7 kB\u001b[0m \u001b[31m7.6 MB/s\u001b[0m eta \u001b[36m0:00:00\u001b[0m\n",
            "\u001b[?25hDownloading colorlog-6.8.2-py3-none-any.whl (11 kB)\n",
            "Downloading ray-2.34.0-cp310-cp310-manylinux2014_x86_64.whl (64.9 MB)\n",
            "\u001b[2K   \u001b[90m━━━━━━━━━━━━━━━━━━━━━━━━━━━━━━━━━━━━━━━━\u001b[0m \u001b[32m64.9/64.9 MB\u001b[0m \u001b[31m10.9 MB/s\u001b[0m eta \u001b[36m0:00:00\u001b[0m\n",
            "\u001b[?25hDownloading setproctitle-1.3.3-cp310-cp310-manylinux_2_5_x86_64.manylinux1_x86_64.manylinux_2_17_x86_64.manylinux2014_x86_64.whl (30 kB)\n",
            "Downloading gitdb-4.0.11-py3-none-any.whl (62 kB)\n",
            "\u001b[2K   \u001b[90m━━━━━━━━━━━━━━━━━━━━━━━━━━━━━━━━━━━━━━━━\u001b[0m \u001b[32m62.7/62.7 kB\u001b[0m \u001b[31m6.2 MB/s\u001b[0m eta \u001b[36m0:00:00\u001b[0m\n",
            "\u001b[?25hDownloading Mako-1.3.5-py3-none-any.whl (78 kB)\n",
            "\u001b[2K   \u001b[90m━━━━━━━━━━━━━━━━━━━━━━━━━━━━━━━━━━━━━━━━\u001b[0m \u001b[32m78.6/78.6 kB\u001b[0m \u001b[31m7.9 MB/s\u001b[0m eta \u001b[36m0:00:00\u001b[0m\n",
            "\u001b[?25hUsing cached nvidia_nvjitlink_cu12-12.6.20-py3-none-manylinux2014_x86_64.whl (19.7 MB)\n",
            "Downloading smmap-5.0.1-py3-none-any.whl (24 kB)\n",
            "Installing collected packages: tensorboardX, smmap, setproctitle, sentry-sdk, nvidia-nvtx-cu12, nvidia-nvjitlink-cu12, nvidia-nccl-cu12, nvidia-curand-cu12, nvidia-cufft-cu12, nvidia-cuda-runtime-cu12, nvidia-cuda-nvrtc-cu12, nvidia-cuda-cupti-cu12, nvidia-cublas-cu12, Mako, docker-pycreds, colorlog, nvidia-cusparse-cu12, nvidia-cudnn-cu12, gitdb, alembic, optuna, nvidia-cusolver-cu12, gitpython, wandb, ray\n",
            "Successfully installed Mako-1.3.5 alembic-1.13.2 colorlog-6.8.2 docker-pycreds-0.4.0 gitdb-4.0.11 gitpython-3.1.43 nvidia-cublas-cu12-12.1.3.1 nvidia-cuda-cupti-cu12-12.1.105 nvidia-cuda-nvrtc-cu12-12.1.105 nvidia-cuda-runtime-cu12-12.1.105 nvidia-cudnn-cu12-8.9.2.26 nvidia-cufft-cu12-11.0.2.54 nvidia-curand-cu12-10.3.2.106 nvidia-cusolver-cu12-11.4.5.107 nvidia-cusparse-cu12-12.1.0.106 nvidia-nccl-cu12-2.20.5 nvidia-nvjitlink-cu12-12.6.20 nvidia-nvtx-cu12-12.1.105 optuna-3.6.1 ray-2.34.0 sentry-sdk-2.13.0 setproctitle-1.3.3 smmap-5.0.1 tensorboardX-2.6.2.2 wandb-0.17.7\n"
          ]
        }
      ],
      "source": [
        "!pip install transformers optuna wandb ray[tune] torch torchvision torchaudio"
      ]
    },
    {
      "cell_type": "code",
      "source": [
        "from huggingface_hub import notebook_login\n",
        "\n",
        "notebook_login()"
      ],
      "metadata": {
        "colab": {
          "base_uri": "https://localhost:8080/",
          "height": 145,
          "referenced_widgets": [
            "098e7843cae24951adb7c87307c895cf",
            "97f3ee34aff24269bcc4f715c6f28622",
            "01bc142df34c4c61a32bdd07e3c1143e",
            "72c07d2c0888440ba3cd02fa7dc17cbc",
            "60b387b129484633b1bc46d5bc8e5b69",
            "70dee29e278f434ea9fbfbb813cfc7a4",
            "09e8efc02bea4183b1a00d73bf3bcbc0",
            "55fb1ecc5f924ec78bfb9916f1d2317e",
            "8a6ac2e48f654e3880d0d60d6dc53cc7",
            "a5c66ce9ed4947b1ac6d67f189ea6184",
            "7ccd6e18f08d44b39b055db5e8e47e7d",
            "637f181bf81946c382428c22f8d279ce",
            "4d04083e292e471ab1b511752a534594",
            "6fedf5f1c8ea4a218fbc71e626e4e143",
            "0d9897f3f4804f55ace6815f2759638f",
            "11ad298fe7b44657bd5fbafcfafbc5be",
            "b7a87ccb440b417ca05626e7e4f5981d",
            "8faf24e049c54b0783486db00d43b143",
            "edf5c155161e4eb69ef5fb0d887aadab",
            "1c5f032efda04d2ea5cbca43f12cd367",
            "8a5f655ba18a4a6b87f65709fe6f828c",
            "6ef7c9375dec495290a4fccc6a474c30",
            "989484f70e844d78a2dcccda89dd5d6e",
            "70a0dfd6f737417fb8d1769fb164852b",
            "48d8f54f05434de1b38d18037bc2081a",
            "157752e0fd944350b18696e52526d8a8",
            "b3dd0d31e77847f091ff60f58315dbf9",
            "7117ea7e3c8641af91661d13dfcf7b03",
            "3949019778934fa881513e0adbedbb41",
            "56ff606c0fdb47d3800fb7c4a5fe69cc",
            "48a95f678d3a46ad94dfa677ae743c20",
            "ccc7da5f4f79419cbb8384311d6d5877"
          ]
        },
        "id": "vV7mWIL_Neaf",
        "outputId": "2ad05bde-8e99-4738-8bea-c43ad8bfeaa1"
      },
      "execution_count": 2,
      "outputs": [
        {
          "output_type": "display_data",
          "data": {
            "text/plain": [
              "VBox(children=(HTML(value='<center> <img\\nsrc=https://huggingface.co/front/assets/huggingface_logo-noborder.sv…"
            ],
            "application/vnd.jupyter.widget-view+json": {
              "version_major": 2,
              "version_minor": 0,
              "model_id": "098e7843cae24951adb7c87307c895cf"
            }
          },
          "metadata": {}
        }
      ]
    },
    {
      "cell_type": "markdown",
      "source": [
        "# Dataset and Tokenizer Preparation"
      ],
      "metadata": {
        "id": "RAt0CXEYOACa"
      }
    },
    {
      "cell_type": "code",
      "source": [
        "!pip install datasets"
      ],
      "metadata": {
        "colab": {
          "base_uri": "https://localhost:8080/"
        },
        "id": "30alfiC8OEqP",
        "outputId": "2aaa42f8-1157-4b40-f5d6-5eb863d9b2c5"
      },
      "execution_count": 4,
      "outputs": [
        {
          "output_type": "stream",
          "name": "stdout",
          "text": [
            "Collecting datasets\n",
            "  Downloading datasets-2.21.0-py3-none-any.whl.metadata (21 kB)\n",
            "Requirement already satisfied: filelock in /usr/local/lib/python3.10/dist-packages (from datasets) (3.15.4)\n",
            "Requirement already satisfied: numpy>=1.17 in /usr/local/lib/python3.10/dist-packages (from datasets) (1.26.4)\n",
            "Collecting pyarrow>=15.0.0 (from datasets)\n",
            "  Downloading pyarrow-17.0.0-cp310-cp310-manylinux_2_28_x86_64.whl.metadata (3.3 kB)\n",
            "Collecting dill<0.3.9,>=0.3.0 (from datasets)\n",
            "  Downloading dill-0.3.8-py3-none-any.whl.metadata (10 kB)\n",
            "Requirement already satisfied: pandas in /usr/local/lib/python3.10/dist-packages (from datasets) (2.1.4)\n",
            "Requirement already satisfied: requests>=2.32.2 in /usr/local/lib/python3.10/dist-packages (from datasets) (2.32.3)\n",
            "Requirement already satisfied: tqdm>=4.66.3 in /usr/local/lib/python3.10/dist-packages (from datasets) (4.66.5)\n",
            "Collecting xxhash (from datasets)\n",
            "  Downloading xxhash-3.5.0-cp310-cp310-manylinux_2_17_x86_64.manylinux2014_x86_64.whl.metadata (12 kB)\n",
            "Collecting multiprocess (from datasets)\n",
            "  Downloading multiprocess-0.70.16-py310-none-any.whl.metadata (7.2 kB)\n",
            "Requirement already satisfied: fsspec<=2024.6.1,>=2023.1.0 in /usr/local/lib/python3.10/dist-packages (from fsspec[http]<=2024.6.1,>=2023.1.0->datasets) (2024.6.1)\n",
            "Requirement already satisfied: aiohttp in /usr/local/lib/python3.10/dist-packages (from datasets) (3.10.2)\n",
            "Requirement already satisfied: huggingface-hub>=0.21.2 in /usr/local/lib/python3.10/dist-packages (from datasets) (0.23.5)\n",
            "Requirement already satisfied: packaging in /usr/local/lib/python3.10/dist-packages (from datasets) (24.1)\n",
            "Requirement already satisfied: pyyaml>=5.1 in /usr/local/lib/python3.10/dist-packages (from datasets) (6.0.2)\n",
            "Requirement already satisfied: aiohappyeyeballs>=2.3.0 in /usr/local/lib/python3.10/dist-packages (from aiohttp->datasets) (2.3.5)\n",
            "Requirement already satisfied: aiosignal>=1.1.2 in /usr/local/lib/python3.10/dist-packages (from aiohttp->datasets) (1.3.1)\n",
            "Requirement already satisfied: attrs>=17.3.0 in /usr/local/lib/python3.10/dist-packages (from aiohttp->datasets) (24.2.0)\n",
            "Requirement already satisfied: frozenlist>=1.1.1 in /usr/local/lib/python3.10/dist-packages (from aiohttp->datasets) (1.4.1)\n",
            "Requirement already satisfied: multidict<7.0,>=4.5 in /usr/local/lib/python3.10/dist-packages (from aiohttp->datasets) (6.0.5)\n",
            "Requirement already satisfied: yarl<2.0,>=1.0 in /usr/local/lib/python3.10/dist-packages (from aiohttp->datasets) (1.9.4)\n",
            "Requirement already satisfied: async-timeout<5.0,>=4.0 in /usr/local/lib/python3.10/dist-packages (from aiohttp->datasets) (4.0.3)\n",
            "Requirement already satisfied: typing-extensions>=3.7.4.3 in /usr/local/lib/python3.10/dist-packages (from huggingface-hub>=0.21.2->datasets) (4.12.2)\n",
            "Requirement already satisfied: charset-normalizer<4,>=2 in /usr/local/lib/python3.10/dist-packages (from requests>=2.32.2->datasets) (3.3.2)\n",
            "Requirement already satisfied: idna<4,>=2.5 in /usr/local/lib/python3.10/dist-packages (from requests>=2.32.2->datasets) (3.7)\n",
            "Requirement already satisfied: urllib3<3,>=1.21.1 in /usr/local/lib/python3.10/dist-packages (from requests>=2.32.2->datasets) (2.0.7)\n",
            "Requirement already satisfied: certifi>=2017.4.17 in /usr/local/lib/python3.10/dist-packages (from requests>=2.32.2->datasets) (2024.7.4)\n",
            "Requirement already satisfied: python-dateutil>=2.8.2 in /usr/local/lib/python3.10/dist-packages (from pandas->datasets) (2.8.2)\n",
            "Requirement already satisfied: pytz>=2020.1 in /usr/local/lib/python3.10/dist-packages (from pandas->datasets) (2024.1)\n",
            "Requirement already satisfied: tzdata>=2022.1 in /usr/local/lib/python3.10/dist-packages (from pandas->datasets) (2024.1)\n",
            "Requirement already satisfied: six>=1.5 in /usr/local/lib/python3.10/dist-packages (from python-dateutil>=2.8.2->pandas->datasets) (1.16.0)\n",
            "Downloading datasets-2.21.0-py3-none-any.whl (527 kB)\n",
            "\u001b[2K   \u001b[90m━━━━━━━━━━━━━━━━━━━━━━━━━━━━━━━━━━━━━━━━\u001b[0m \u001b[32m527.3/527.3 kB\u001b[0m \u001b[31m31.7 MB/s\u001b[0m eta \u001b[36m0:00:00\u001b[0m\n",
            "\u001b[?25hDownloading dill-0.3.8-py3-none-any.whl (116 kB)\n",
            "\u001b[2K   \u001b[90m━━━━━━━━━━━━━━━━━━━━━━━━━━━━━━━━━━━━━━━━\u001b[0m \u001b[32m116.3/116.3 kB\u001b[0m \u001b[31m7.2 MB/s\u001b[0m eta \u001b[36m0:00:00\u001b[0m\n",
            "\u001b[?25hDownloading pyarrow-17.0.0-cp310-cp310-manylinux_2_28_x86_64.whl (39.9 MB)\n",
            "\u001b[2K   \u001b[90m━━━━━━━━━━━━━━━━━━━━━━━━━━━━━━━━━━━━━━━━\u001b[0m \u001b[32m39.9/39.9 MB\u001b[0m \u001b[31m17.9 MB/s\u001b[0m eta \u001b[36m0:00:00\u001b[0m\n",
            "\u001b[?25hDownloading multiprocess-0.70.16-py310-none-any.whl (134 kB)\n",
            "\u001b[2K   \u001b[90m━━━━━━━━━━━━━━━━━━━━━━━━━━━━━━━━━━━━━━━━\u001b[0m \u001b[32m134.8/134.8 kB\u001b[0m \u001b[31m8.6 MB/s\u001b[0m eta \u001b[36m0:00:00\u001b[0m\n",
            "\u001b[?25hDownloading xxhash-3.5.0-cp310-cp310-manylinux_2_17_x86_64.manylinux2014_x86_64.whl (194 kB)\n",
            "\u001b[2K   \u001b[90m━━━━━━━━━━━━━━━━━━━━━━━━━━━━━━━━━━━━━━━━\u001b[0m \u001b[32m194.1/194.1 kB\u001b[0m \u001b[31m16.0 MB/s\u001b[0m eta \u001b[36m0:00:00\u001b[0m\n",
            "\u001b[?25hInstalling collected packages: xxhash, pyarrow, dill, multiprocess, datasets\n",
            "  Attempting uninstall: pyarrow\n",
            "    Found existing installation: pyarrow 14.0.2\n",
            "    Uninstalling pyarrow-14.0.2:\n",
            "      Successfully uninstalled pyarrow-14.0.2\n",
            "\u001b[31mERROR: pip's dependency resolver does not currently take into account all the packages that are installed. This behaviour is the source of the following dependency conflicts.\n",
            "cudf-cu12 24.4.1 requires pyarrow<15.0.0a0,>=14.0.1, but you have pyarrow 17.0.0 which is incompatible.\n",
            "ibis-framework 8.0.0 requires pyarrow<16,>=2, but you have pyarrow 17.0.0 which is incompatible.\u001b[0m\u001b[31m\n",
            "\u001b[0mSuccessfully installed datasets-2.21.0 dill-0.3.8 multiprocess-0.70.16 pyarrow-17.0.0 xxhash-3.5.0\n"
          ]
        }
      ]
    },
    {
      "cell_type": "code",
      "source": [
        "from transformers import DataCollatorWithPadding\n",
        "\n",
        "data_collator = DataCollatorWithPadding(tokenizer=tokenizer)"
      ],
      "metadata": {
        "id": "zKKcfe4QOblR"
      },
      "execution_count": 6,
      "outputs": []
    },
    {
      "cell_type": "code",
      "source": [
        "from datasets import load_dataset\n",
        "from transformers import AutoTokenizer, AutoModelForSequenceClassification, Trainer, TrainingArguments, DataCollatorWithPadding\n",
        "from sklearn.metrics import accuracy_score, precision_recall_fscore_support\n",
        "\n",
        "# Load a sample dataset (e.g., GLUE MRPC)\n",
        "dataset = load_dataset(\"glue\", \"mrpc\")\n",
        "\n",
        "# Initialize the tokenizer\n",
        "tokenizer = AutoTokenizer.from_pretrained(\"bert-base-uncased\")\n",
        "\n",
        "# Tokenize the dataset\n",
        "def tokenize_function(examples):\n",
        "    return tokenizer(examples[\"sentence1\"], examples[\"sentence2\"], truncation=True)\n",
        "\n",
        "tokenized_datasets = dataset.map(tokenize_function, batched=True)\n",
        "\n",
        "# Data collator for dynamic padding\n",
        "data_collator = DataCollatorWithPadding(tokenizer=tokenizer)\n",
        "\n",
        "# Define hyperparameter search space using Optuna\n",
        "def optuna_hp_space(trial):\n",
        "    return {\n",
        "        \"learning_rate\": trial.suggest_float(\"learning_rate\", 1e-6, 5e-5, log=True),\n",
        "        \"per_device_train_batch_size\": trial.suggest_categorical(\"per_device_train_batch_size\", [16, 32, 64, 128]),\n",
        "        \"num_train_epochs\": trial.suggest_int(\"num_train_epochs\", 2, 5),\n",
        "        \"weight_decay\": trial.suggest_float(\"weight_decay\", 0.0, 0.3),\n",
        "        \"warmup_steps\": trial.suggest_int(\"warmup_steps\", 0, 1000),\n",
        "        \"adam_beta1\": trial.suggest_float(\"adam_beta1\", 0.85, 0.95),\n",
        "        \"adam_beta2\": trial.suggest_float(\"adam_beta2\", 0.95, 0.999),\n",
        "        \"adam_epsilon\": trial.suggest_float(\"adam_epsilon\", 1e-8, 1e-6),\n",
        "    }\n",
        "\n",
        "# Model initialization function\n",
        "def model_init():\n",
        "    return AutoModelForSequenceClassification.from_pretrained(\"bert-base-uncased\", num_labels=2)\n",
        "\n",
        "# Define the compute metrics function\n",
        "def compute_metrics(p):\n",
        "    predictions, labels = p\n",
        "    preds = predictions.argmax(-1)\n",
        "    acc = accuracy_score(labels, preds)\n",
        "    precision, recall, f1, _ = precision_recall_fscore_support(labels, preds, average='binary')\n",
        "    return {\n",
        "        'eval_accuracy': acc,  # Use eval_accuracy to match the expected key\n",
        "        'eval_f1': f1,\n",
        "        'eval_precision': precision,\n",
        "        'eval_recall': recall\n",
        "    }\n",
        "\n",
        "# Training arguments\n",
        "training_args = TrainingArguments(\n",
        "    output_dir=\"./results\",\n",
        "    evaluation_strategy=\"epoch\",\n",
        "    save_strategy=\"epoch\",\n",
        "    learning_rate=2e-5,\n",
        "    per_device_train_batch_size=16,\n",
        "    per_device_eval_batch_size=16,\n",
        "    num_train_epochs=3,\n",
        "    weight_decay=0.01,\n",
        "    logging_dir='./logs',\n",
        "    logging_steps=10,\n",
        "    fp16=True,  # Mixed precision training\n",
        "    load_best_model_at_end=True,\n",
        "    metric_for_best_model=\"eval_accuracy\",  # Updated to match the key\n",
        "    greater_is_better=True,\n",
        ")\n",
        "\n",
        "# Initialize the Trainer\n",
        "trainer = Trainer(\n",
        "    model_init=model_init,\n",
        "    args=training_args,\n",
        "    train_dataset=tokenized_datasets[\"train\"],\n",
        "    eval_dataset=tokenized_datasets[\"validation\"],\n",
        "    tokenizer=tokenizer,\n",
        "    data_collator=data_collator,\n",
        "    compute_metrics=compute_metrics,\n",
        ")\n",
        "\n",
        "# Define the compute objective function\n",
        "def compute_objective(metrics):\n",
        "    return metrics['eval_accuracy'], -metrics['eval_loss']  # Updated keys to 'eval_accuracy'\n",
        "\n",
        "# Perform hyperparameter search\n",
        "best_trials = trainer.hyperparameter_search(\n",
        "    direction=[\"maximize\", \"minimize\"],\n",
        "    backend=\"optuna\",\n",
        "    hp_space=optuna_hp_space,\n",
        "    n_trials=30,\n",
        "    compute_objective=compute_objective,\n",
        ")\n"
      ],
      "metadata": {
        "colab": {
          "base_uri": "https://localhost:8080/",
          "height": 1000,
          "referenced_widgets": [
            "885769e8301c45a8bee5e0f3091af8fe",
            "3ac9d9c2160d47fb88da2bd74e19e48f",
            "8332a4bbe7a94bff8cc6529145011fc7",
            "bfa05c111ddf45278f269d80808903ed",
            "f34723a9ede640cb8ab22654f6d6e4e5",
            "1f4c6096f9824b49a326ee8a2484c23f",
            "24975d3eafbf4be9bc614ee8e89028e5",
            "afc7436c5e804d3c9613f302fa4585dc",
            "a249fa8dc886441995db4138f316225a",
            "6e4ec4d3cc5c4036a2d349d3e5437691",
            "44e84c8a63754e10b5d75412cac1b044",
            "7cbfce0633c447d8a428167102913d5e",
            "8d6a9ffb14674efeb11b30329b98c3be",
            "e01f5db0946e44a39b6d2b746ee1a0f2",
            "296c7f7654b34e89a7af829732fe5222",
            "362a77b3b9cd4f079ced3fcb69bcbcc9",
            "21f6c790e93a4dcab05cb1255a1a7e0f",
            "6298d9252d374b7db02194725c7f741d",
            "ae52553b276b4715a73e8e1768caa4d0",
            "87d2ba43f54340c8bf55ee4a2045f784",
            "35f60b69b271447c86923ef606aaf440",
            "a6c01cc83a584210adc4ac99fa1c9dc6",
            "12a8f2bfb0444234a257eb589ca26bfd",
            "eb0f385fff1f412f9e327dc09d2b60e2",
            "97431c4a7895466caec147758bb6afc1",
            "2634ee79b32141b5bb761e04f953f86e",
            "c935f2441ba54010a578b8cecc906cff",
            "ea039547522c4b3c876e557ac9415281",
            "9ef1c9ab341742d4aefae6387528a89f",
            "9f88c3cfb34147ea9f8d528a3c5ab052",
            "d14eb8b5d38340baa69191a64d5578d1",
            "ee400630bbbc4d8eb63ced0e1ab67910",
            "eb63fd72e503478ba60b47ae5c327fea",
            "1aed54ee90d441e98a220c99af3afb65",
            "40eefc5dcdcd46529e7869686ff3d4d5",
            "25b496dc63bb498aafa66880d1d9f602",
            "9d798ead8c344b2eadfd5a6231d607db",
            "55796ffc811c4daba0a0c76a2b93716e",
            "c6d4a94fc23148ad9fa6c4a50e1751aa",
            "1802234fb6194b808ea75ffcc63c40fa",
            "b37de1a414714f5c94b4eb383cffcc72",
            "d5d0bdf924ec438a999d251f46342fa5",
            "ed9cdfcd2e5744f380bbb24238d1a839",
            "922dfce589884dd5b12b82829d19c3f8",
            "8f81a9ead0ca4eb69caa6883a09c1d41",
            "c7c5bf179b514aaf883d6439df124e44",
            "241a509806914173a406b2e866bb5c4f",
            "fd06ad6512ec435c9b0d3b438f70cb72",
            "81a17f3d833942a19fa6dbb1597ffadd",
            "d0ad69de628e4eaab4c84e6a23f8de81",
            "6670e90788b54415a5e2f760fc77446e",
            "b3b325d6ff094a6e8291f0057f42923d",
            "e7cadf0b4499431b9530603e4ea26049",
            "a77d60a87c5349cc8b6aace00ea395b2",
            "9e0b43b5b43341ac829707bc69b378e1",
            "7eaa93a6a8cd41f7a82b48e3f6d89090",
            "b65195fd4225404f81780c43d7f998df",
            "f20513ae0a3345f984c77303791da5a0",
            "d15c8af422904cb3b7cdda16cc147221",
            "0ea2e30938334123b9a391611e44208e",
            "c509b6c95cfd444a9b1c0c2eddeaba8c",
            "2302129587234ecfaf496edc29c41cd6",
            "3e91081eb141494eb06a366ae4081f75",
            "44839fb93e26401e8d4550647b8f13ed",
            "11fc9a847ae24abda69a027c4c8a5478",
            "fe6107e72b4c43019be801d441312af1",
            "4d027d8deb1248128d9d42dd564e5b4c",
            "bcaa548b68cf4dceb19659a32c432ff5",
            "f51a2867bce84a1990e441b0c1076508",
            "9c225daeee36488f826307058cc0bed4",
            "7b8054ebe5d14785a64a94bdb14b5e44",
            "9cecc4d9681a4001bcc4fcb1ebe79f4e",
            "e65b550e29404deca2f70da34e374684",
            "daa864a7a0fa442196d859209e944bb5",
            "53cb4aa0415b4c19898ce88db114a80a",
            "676807b14345441990a4e316d9caedca",
            "25bfcb92bd914da78278fe995ac0edc0",
            "fd76cfb7d37f4296be09c47f9158f276",
            "4ed4c5e2160c42548ae9071255668429",
            "b93d340a231f40f8b0490c043b2604d5",
            "0dce22c822534212adf212329b928544",
            "75c53332c493440e843a0da977e3bd86",
            "6753699b217d40a9b2ea7d9a00281f67",
            "f55e3bbd18fc4e21a2e6acaaf1310738",
            "3887fc94915e44ec8a351bfbb6ce105f",
            "255df2ed4e2c401097dbd6cb895a5ca6",
            "f8ceb5686378408b8d0a2f467010b7f4",
            "9072e54d9fc64c05ac2a64b5e6f2a52e"
          ]
        },
        "id": "8AKZIbOlUYxa",
        "outputId": "4a8a358e-a645-4496-d9f3-70818fd5eea9"
      },
      "execution_count": 11,
      "outputs": [
        {
          "output_type": "stream",
          "name": "stderr",
          "text": [
            "/usr/local/lib/python3.10/dist-packages/transformers/training_args.py:1494: FutureWarning: `evaluation_strategy` is deprecated and will be removed in version 4.46 of 🤗 Transformers. Use `eval_strategy` instead\n",
            "  warnings.warn(\n",
            "Some weights of BertForSequenceClassification were not initialized from the model checkpoint at bert-base-uncased and are newly initialized: ['classifier.bias', 'classifier.weight']\n",
            "You should probably TRAIN this model on a down-stream task to be able to use it for predictions and inference.\n",
            "[I 2024-08-17 17:14:54,049] A new study created in memory with name: no-name-1dc12001-8aa9-4d27-92c4-5d23c3b6da75\n",
            "Some weights of BertForSequenceClassification were not initialized from the model checkpoint at bert-base-uncased and are newly initialized: ['classifier.bias', 'classifier.weight']\n",
            "You should probably TRAIN this model on a down-stream task to be able to use it for predictions and inference.\n"
          ]
        },
        {
          "output_type": "display_data",
          "data": {
            "text/plain": [
              "VBox(children=(Label(value='0.003 MB of 0.003 MB uploaded\\r'), FloatProgress(value=1.0, max=1.0)))"
            ],
            "application/vnd.jupyter.widget-view+json": {
              "version_major": 2,
              "version_minor": 0,
              "model_id": "885769e8301c45a8bee5e0f3091af8fe"
            }
          },
          "metadata": {}
        },
        {
          "output_type": "display_data",
          "data": {
            "text/plain": [
              "<IPython.core.display.HTML object>"
            ],
            "text/html": [
              "<style>\n",
              "    table.wandb td:nth-child(1) { padding: 0 10px; text-align: left ; width: auto;} td:nth-child(2) {text-align: left ; width: 100%}\n",
              "    .wandb-row { display: flex; flex-direction: row; flex-wrap: wrap; justify-content: flex-start; width: 100% }\n",
              "    .wandb-col { display: flex; flex-direction: column; flex-basis: 100%; flex: 1; padding: 10px; }\n",
              "    </style>\n",
              "<div class=\"wandb-row\"><div class=\"wandb-col\"><h3>Run history:</h3><br/><table class=\"wandb\"><tr><td>eval/accuracy</td><td>▁</td></tr><tr><td>eval/f1</td><td>▁</td></tr><tr><td>eval/loss</td><td>▁</td></tr><tr><td>eval/precision</td><td>▁</td></tr><tr><td>eval/recall</td><td>▁</td></tr><tr><td>eval/runtime</td><td>▁</td></tr><tr><td>eval/samples_per_second</td><td>▁</td></tr><tr><td>eval/steps_per_second</td><td>▁</td></tr><tr><td>train/epoch</td><td>▁▂▄▅▇█</td></tr><tr><td>train/global_step</td><td>▁▂▄▅▇█</td></tr><tr><td>train/grad_norm</td><td>▆▃█▁▆</td></tr><tr><td>train/learning_rate</td><td>▁▃▄▆█</td></tr><tr><td>train/loss</td><td>█▇▁▃▂</td></tr></table><br/></div><div class=\"wandb-col\"><h3>Run summary:</h3><br/><table class=\"wandb\"><tr><td>eval/accuracy</td><td>0.68382</td></tr><tr><td>eval/f1</td><td>0.81223</td></tr><tr><td>eval/loss</td><td>0.63274</td></tr><tr><td>eval/precision</td><td>0.68382</td></tr><tr><td>eval/recall</td><td>1.0</td></tr><tr><td>eval/runtime</td><td>0.7785</td></tr><tr><td>eval/samples_per_second</td><td>524.104</td></tr><tr><td>eval/steps_per_second</td><td>33.399</td></tr><tr><td>train/epoch</td><td>1.0</td></tr><tr><td>train/global_step</td><td>58</td></tr><tr><td>train/grad_norm</td><td>3.22198</td></tr><tr><td>train/learning_rate</td><td>0.0</td></tr><tr><td>train/loss</td><td>0.6368</td></tr></table><br/></div></div>"
            ]
          },
          "metadata": {}
        },
        {
          "output_type": "display_data",
          "data": {
            "text/plain": [
              "<IPython.core.display.HTML object>"
            ],
            "text/html": [
              " View run <strong style=\"color:#cdcd00\">glorious-jazz-2</strong> at: <a href='https://wandb.ai/neurafusionai-independent-researcher/huggingface/runs/tvgsbdvx' target=\"_blank\">https://wandb.ai/neurafusionai-independent-researcher/huggingface/runs/tvgsbdvx</a><br/> View project at: <a href='https://wandb.ai/neurafusionai-independent-researcher/huggingface' target=\"_blank\">https://wandb.ai/neurafusionai-independent-researcher/huggingface</a><br/>Synced 5 W&B file(s), 0 media file(s), 1 artifact file(s) and 0 other file(s)"
            ]
          },
          "metadata": {}
        },
        {
          "output_type": "display_data",
          "data": {
            "text/plain": [
              "<IPython.core.display.HTML object>"
            ],
            "text/html": [
              "Find logs at: <code>./wandb/run-20240817_171043-tvgsbdvx/logs</code>"
            ]
          },
          "metadata": {}
        },
        {
          "output_type": "display_data",
          "data": {
            "text/plain": [
              "<IPython.core.display.HTML object>"
            ],
            "text/html": [
              "The new W&B backend becomes opt-out in version 0.18.0; try it out with `wandb.require(\"core\")`! See https://wandb.me/wandb-core for more information."
            ]
          },
          "metadata": {}
        },
        {
          "output_type": "display_data",
          "data": {
            "text/plain": [
              "<IPython.core.display.HTML object>"
            ],
            "text/html": [
              "Tracking run with wandb version 0.17.7"
            ]
          },
          "metadata": {}
        },
        {
          "output_type": "display_data",
          "data": {
            "text/plain": [
              "<IPython.core.display.HTML object>"
            ],
            "text/html": [
              "Run data is saved locally in <code>/content/wandb/run-20240817_171504-5i4msxcq</code>"
            ]
          },
          "metadata": {}
        },
        {
          "output_type": "display_data",
          "data": {
            "text/plain": [
              "<IPython.core.display.HTML object>"
            ],
            "text/html": [
              "Syncing run <strong><a href='https://wandb.ai/neurafusionai-independent-researcher/huggingface/runs/5i4msxcq' target=\"_blank\">magic-valley-3</a></strong> to <a href='https://wandb.ai/neurafusionai-independent-researcher/huggingface' target=\"_blank\">Weights & Biases</a> (<a href='https://wandb.me/run' target=\"_blank\">docs</a>)<br/>"
            ]
          },
          "metadata": {}
        },
        {
          "output_type": "display_data",
          "data": {
            "text/plain": [
              "<IPython.core.display.HTML object>"
            ],
            "text/html": [
              " View project at <a href='https://wandb.ai/neurafusionai-independent-researcher/huggingface' target=\"_blank\">https://wandb.ai/neurafusionai-independent-researcher/huggingface</a>"
            ]
          },
          "metadata": {}
        },
        {
          "output_type": "display_data",
          "data": {
            "text/plain": [
              "<IPython.core.display.HTML object>"
            ],
            "text/html": [
              " View run at <a href='https://wandb.ai/neurafusionai-independent-researcher/huggingface/runs/5i4msxcq' target=\"_blank\">https://wandb.ai/neurafusionai-independent-researcher/huggingface/runs/5i4msxcq</a>"
            ]
          },
          "metadata": {}
        },
        {
          "output_type": "display_data",
          "data": {
            "text/plain": [
              "<IPython.core.display.HTML object>"
            ],
            "text/html": [
              "\n",
              "    <div>\n",
              "      \n",
              "      <progress value='460' max='460' style='width:300px; height:20px; vertical-align: middle;'></progress>\n",
              "      [460/460 02:18, Epoch 4/4]\n",
              "    </div>\n",
              "    <table border=\"1\" class=\"dataframe\">\n",
              "  <thead>\n",
              " <tr style=\"text-align: left;\">\n",
              "      <th>Epoch</th>\n",
              "      <th>Training Loss</th>\n",
              "      <th>Validation Loss</th>\n",
              "      <th>Accuracy</th>\n",
              "      <th>F1</th>\n",
              "      <th>Precision</th>\n",
              "      <th>Recall</th>\n",
              "    </tr>\n",
              "  </thead>\n",
              "  <tbody>\n",
              "    <tr>\n",
              "      <td>1</td>\n",
              "      <td>0.623000</td>\n",
              "      <td>0.631814</td>\n",
              "      <td>0.683824</td>\n",
              "      <td>0.812227</td>\n",
              "      <td>0.683824</td>\n",
              "      <td>1.000000</td>\n",
              "    </tr>\n",
              "    <tr>\n",
              "      <td>2</td>\n",
              "      <td>0.656100</td>\n",
              "      <td>0.625009</td>\n",
              "      <td>0.683824</td>\n",
              "      <td>0.812227</td>\n",
              "      <td>0.683824</td>\n",
              "      <td>1.000000</td>\n",
              "    </tr>\n",
              "    <tr>\n",
              "      <td>3</td>\n",
              "      <td>0.609600</td>\n",
              "      <td>0.605749</td>\n",
              "      <td>0.698529</td>\n",
              "      <td>0.819383</td>\n",
              "      <td>0.694030</td>\n",
              "      <td>1.000000</td>\n",
              "    </tr>\n",
              "    <tr>\n",
              "      <td>4</td>\n",
              "      <td>0.604700</td>\n",
              "      <td>0.572884</td>\n",
              "      <td>0.718137</td>\n",
              "      <td>0.826546</td>\n",
              "      <td>0.713542</td>\n",
              "      <td>0.982079</td>\n",
              "    </tr>\n",
              "  </tbody>\n",
              "</table><p>"
            ]
          },
          "metadata": {}
        },
        {
          "output_type": "stream",
          "name": "stderr",
          "text": [
            "[I 2024-08-17 17:17:29,793] Trial 0 finished with values: [0.7181372549019608, -0.5728837847709656] and parameters: {'learning_rate': 4.118339785565431e-06, 'per_device_train_batch_size': 32, 'num_train_epochs': 4, 'weight_decay': 0.26376794248191376, 'warmup_steps': 950, 'adam_beta1': 0.8781879039544453, 'adam_beta2': 0.9797709985105187, 'adam_epsilon': 4.770765310151834e-07}. \n",
            "Some weights of BertForSequenceClassification were not initialized from the model checkpoint at bert-base-uncased and are newly initialized: ['classifier.bias', 'classifier.weight']\n",
            "You should probably TRAIN this model on a down-stream task to be able to use it for predictions and inference.\n"
          ]
        },
        {
          "output_type": "display_data",
          "data": {
            "text/plain": [
              "VBox(children=(Label(value='0.003 MB of 0.003 MB uploaded\\r'), FloatProgress(value=1.0, max=1.0)))"
            ],
            "application/vnd.jupyter.widget-view+json": {
              "version_major": 2,
              "version_minor": 0,
              "model_id": "a249fa8dc886441995db4138f316225a"
            }
          },
          "metadata": {}
        },
        {
          "output_type": "display_data",
          "data": {
            "text/plain": [
              "<IPython.core.display.HTML object>"
            ],
            "text/html": [
              "<style>\n",
              "    table.wandb td:nth-child(1) { padding: 0 10px; text-align: left ; width: auto;} td:nth-child(2) {text-align: left ; width: 100%}\n",
              "    .wandb-row { display: flex; flex-direction: row; flex-wrap: wrap; justify-content: flex-start; width: 100% }\n",
              "    .wandb-col { display: flex; flex-direction: column; flex-basis: 100%; flex: 1; padding: 10px; }\n",
              "    </style>\n",
              "<div class=\"wandb-row\"><div class=\"wandb-col\"><h3>Run history:</h3><br/><table class=\"wandb\"><tr><td>eval/accuracy</td><td>▁▁▄█</td></tr><tr><td>eval/f1</td><td>▁▁▄█</td></tr><tr><td>eval/loss</td><td>█▇▅▁</td></tr><tr><td>eval/precision</td><td>▁▁▃█</td></tr><tr><td>eval/recall</td><td>███▁</td></tr><tr><td>eval/runtime</td><td>▂▁█▄</td></tr><tr><td>eval/samples_per_second</td><td>▇█▁▅</td></tr><tr><td>eval/steps_per_second</td><td>▇█▁▅</td></tr><tr><td>train/epoch</td><td>▁▁▁▁▂▂▂▂▃▃▃▃▃▃▃▄▄▄▄▄▅▅▅▅▅▆▆▆▆▆▆▇▇▇▇▇████</td></tr><tr><td>train/global_step</td><td>▁▁▁▁▂▂▂▂▃▃▃▃▃▃▃▄▄▄▄▄▅▅▅▅▅▆▆▆▆▆▆▇▇▇▇▇████</td></tr><tr><td>train/grad_norm</td><td>▁▇▂▁▃▇▅▃▄▂▃▄▄▃▃▄▇▅▁▃▅▂▂▆▁▄█▄▃▂▄▄▄▃▅▃▃▃▂▁</td></tr><tr><td>train/learning_rate</td><td>▁▁▁▁▂▂▂▂▂▃▃▃▃▃▄▄▄▄▄▄▅▅▅▅▅▅▆▆▆▆▆▇▇▇▇▇████</td></tr><tr><td>train/loss</td><td>█▇▇▆▅▄▅▆▇▅▇▆▆▆▇▆▄▅▇▅▅▆▄▅▆▄▅▅▄▄▃▃▃▂▃▃▃▂▂▁</td></tr></table><br/></div><div class=\"wandb-col\"><h3>Run summary:</h3><br/><table class=\"wandb\"><tr><td>eval/accuracy</td><td>0.71814</td></tr><tr><td>eval/f1</td><td>0.82655</td></tr><tr><td>eval/loss</td><td>0.57288</td></tr><tr><td>eval/precision</td><td>0.71354</td></tr><tr><td>eval/recall</td><td>0.98208</td></tr><tr><td>eval/runtime</td><td>0.646</td></tr><tr><td>eval/samples_per_second</td><td>631.6</td></tr><tr><td>eval/steps_per_second</td><td>40.249</td></tr><tr><td>total_flos</td><td>601695928061040.0</td></tr><tr><td>train/epoch</td><td>4.0</td></tr><tr><td>train/global_step</td><td>460</td></tr><tr><td>train/grad_norm</td><td>4.06786</td></tr><tr><td>train/learning_rate</td><td>0.0</td></tr><tr><td>train/loss</td><td>0.6047</td></tr><tr><td>train_loss</td><td>0.62603</td></tr><tr><td>train_runtime</td><td>153.3905</td></tr><tr><td>train_samples_per_second</td><td>95.651</td></tr><tr><td>train_steps_per_second</td><td>2.999</td></tr></table><br/></div></div>"
            ]
          },
          "metadata": {}
        },
        {
          "output_type": "display_data",
          "data": {
            "text/plain": [
              "<IPython.core.display.HTML object>"
            ],
            "text/html": [
              " View run <strong style=\"color:#cdcd00\">magic-valley-3</strong> at: <a href='https://wandb.ai/neurafusionai-independent-researcher/huggingface/runs/5i4msxcq' target=\"_blank\">https://wandb.ai/neurafusionai-independent-researcher/huggingface/runs/5i4msxcq</a><br/> View project at: <a href='https://wandb.ai/neurafusionai-independent-researcher/huggingface' target=\"_blank\">https://wandb.ai/neurafusionai-independent-researcher/huggingface</a><br/>Synced 5 W&B file(s), 0 media file(s), 1 artifact file(s) and 0 other file(s)"
            ]
          },
          "metadata": {}
        },
        {
          "output_type": "display_data",
          "data": {
            "text/plain": [
              "<IPython.core.display.HTML object>"
            ],
            "text/html": [
              "Find logs at: <code>./wandb/run-20240817_171504-5i4msxcq/logs</code>"
            ]
          },
          "metadata": {}
        },
        {
          "output_type": "display_data",
          "data": {
            "text/plain": [
              "<IPython.core.display.HTML object>"
            ],
            "text/html": [
              "The new W&B backend becomes opt-out in version 0.18.0; try it out with `wandb.require(\"core\")`! See https://wandb.me/wandb-core for more information."
            ]
          },
          "metadata": {}
        },
        {
          "output_type": "display_data",
          "data": {
            "text/plain": [
              "<IPython.core.display.HTML object>"
            ],
            "text/html": [
              "Tracking run with wandb version 0.17.7"
            ]
          },
          "metadata": {}
        },
        {
          "output_type": "display_data",
          "data": {
            "text/plain": [
              "<IPython.core.display.HTML object>"
            ],
            "text/html": [
              "Run data is saved locally in <code>/content/wandb/run-20240817_171736-mwv0r2tt</code>"
            ]
          },
          "metadata": {}
        },
        {
          "output_type": "display_data",
          "data": {
            "text/plain": [
              "<IPython.core.display.HTML object>"
            ],
            "text/html": [
              "Syncing run <strong><a href='https://wandb.ai/neurafusionai-independent-researcher/huggingface/runs/mwv0r2tt' target=\"_blank\">major-glitter-4</a></strong> to <a href='https://wandb.ai/neurafusionai-independent-researcher/huggingface' target=\"_blank\">Weights & Biases</a> (<a href='https://wandb.me/run' target=\"_blank\">docs</a>)<br/>"
            ]
          },
          "metadata": {}
        },
        {
          "output_type": "display_data",
          "data": {
            "text/plain": [
              "<IPython.core.display.HTML object>"
            ],
            "text/html": [
              " View project at <a href='https://wandb.ai/neurafusionai-independent-researcher/huggingface' target=\"_blank\">https://wandb.ai/neurafusionai-independent-researcher/huggingface</a>"
            ]
          },
          "metadata": {}
        },
        {
          "output_type": "display_data",
          "data": {
            "text/plain": [
              "<IPython.core.display.HTML object>"
            ],
            "text/html": [
              " View run at <a href='https://wandb.ai/neurafusionai-independent-researcher/huggingface/runs/mwv0r2tt' target=\"_blank\">https://wandb.ai/neurafusionai-independent-researcher/huggingface/runs/mwv0r2tt</a>"
            ]
          },
          "metadata": {}
        },
        {
          "output_type": "display_data",
          "data": {
            "text/plain": [
              "<IPython.core.display.HTML object>"
            ],
            "text/html": [
              "\n",
              "    <div>\n",
              "      \n",
              "      <progress value='87' max='87' style='width:300px; height:20px; vertical-align: middle;'></progress>\n",
              "      [87/87 02:36, Epoch 3/3]\n",
              "    </div>\n",
              "    <table border=\"1\" class=\"dataframe\">\n",
              "  <thead>\n",
              " <tr style=\"text-align: left;\">\n",
              "      <th>Epoch</th>\n",
              "      <th>Training Loss</th>\n",
              "      <th>Validation Loss</th>\n",
              "      <th>Accuracy</th>\n",
              "      <th>F1</th>\n",
              "      <th>Precision</th>\n",
              "      <th>Recall</th>\n",
              "    </tr>\n",
              "  </thead>\n",
              "  <tbody>\n",
              "    <tr>\n",
              "      <td>1</td>\n",
              "      <td>0.638900</td>\n",
              "      <td>0.633866</td>\n",
              "      <td>0.683824</td>\n",
              "      <td>0.812227</td>\n",
              "      <td>0.683824</td>\n",
              "      <td>1.000000</td>\n",
              "    </tr>\n",
              "    <tr>\n",
              "      <td>2</td>\n",
              "      <td>0.646000</td>\n",
              "      <td>0.632774</td>\n",
              "      <td>0.683824</td>\n",
              "      <td>0.812227</td>\n",
              "      <td>0.683824</td>\n",
              "      <td>1.000000</td>\n",
              "    </tr>\n",
              "    <tr>\n",
              "      <td>3</td>\n",
              "      <td>0.644400</td>\n",
              "      <td>0.631079</td>\n",
              "      <td>0.683824</td>\n",
              "      <td>0.812227</td>\n",
              "      <td>0.683824</td>\n",
              "      <td>1.000000</td>\n",
              "    </tr>\n",
              "  </tbody>\n",
              "</table><p>"
            ]
          },
          "metadata": {}
        },
        {
          "output_type": "stream",
          "name": "stderr",
          "text": [
            "[I 2024-08-17 17:20:17,203] Trial 1 finished with values: [0.6838235294117647, -0.6310789585113525] and parameters: {'learning_rate': 1.3822527080660204e-06, 'per_device_train_batch_size': 128, 'num_train_epochs': 3, 'weight_decay': 0.07483969270760625, 'warmup_steps': 240, 'adam_beta1': 0.9338721868620969, 'adam_beta2': 0.9726610099601721, 'adam_epsilon': 5.799327781624079e-08}. \n",
            "Some weights of BertForSequenceClassification were not initialized from the model checkpoint at bert-base-uncased and are newly initialized: ['classifier.bias', 'classifier.weight']\n",
            "You should probably TRAIN this model on a down-stream task to be able to use it for predictions and inference.\n"
          ]
        },
        {
          "output_type": "display_data",
          "data": {
            "text/plain": [
              "VBox(children=(Label(value='0.003 MB of 0.003 MB uploaded\\r'), FloatProgress(value=1.0, max=1.0)))"
            ],
            "application/vnd.jupyter.widget-view+json": {
              "version_major": 2,
              "version_minor": 0,
              "model_id": "21f6c790e93a4dcab05cb1255a1a7e0f"
            }
          },
          "metadata": {}
        },
        {
          "output_type": "display_data",
          "data": {
            "text/plain": [
              "<IPython.core.display.HTML object>"
            ],
            "text/html": [
              "<style>\n",
              "    table.wandb td:nth-child(1) { padding: 0 10px; text-align: left ; width: auto;} td:nth-child(2) {text-align: left ; width: 100%}\n",
              "    .wandb-row { display: flex; flex-direction: row; flex-wrap: wrap; justify-content: flex-start; width: 100% }\n",
              "    .wandb-col { display: flex; flex-direction: column; flex-basis: 100%; flex: 1; padding: 10px; }\n",
              "    </style>\n",
              "<div class=\"wandb-row\"><div class=\"wandb-col\"><h3>Run history:</h3><br/><table class=\"wandb\"><tr><td>eval/accuracy</td><td>▁▁▁</td></tr><tr><td>eval/f1</td><td>▁▁▁</td></tr><tr><td>eval/loss</td><td>█▅▁</td></tr><tr><td>eval/precision</td><td>▁▁▁</td></tr><tr><td>eval/recall</td><td>▁▁▁</td></tr><tr><td>eval/runtime</td><td>▁▆█</td></tr><tr><td>eval/samples_per_second</td><td>█▃▁</td></tr><tr><td>eval/steps_per_second</td><td>█▃▁</td></tr><tr><td>train/epoch</td><td>▁▂▃▃▄▅▅▆▆▇██</td></tr><tr><td>train/global_step</td><td>▁▂▃▃▄▅▅▆▆▇██</td></tr><tr><td>train/grad_norm</td><td>▁▃▅▃█▃▁▂</td></tr><tr><td>train/learning_rate</td><td>▁▂▃▄▅▆▇█</td></tr><tr><td>train/loss</td><td>█▁▂▂▄▅▃▄</td></tr></table><br/></div><div class=\"wandb-col\"><h3>Run summary:</h3><br/><table class=\"wandb\"><tr><td>eval/accuracy</td><td>0.68382</td></tr><tr><td>eval/f1</td><td>0.81223</td></tr><tr><td>eval/loss</td><td>0.63108</td></tr><tr><td>eval/precision</td><td>0.68382</td></tr><tr><td>eval/recall</td><td>1.0</td></tr><tr><td>eval/runtime</td><td>1.1083</td></tr><tr><td>eval/samples_per_second</td><td>368.133</td></tr><tr><td>eval/steps_per_second</td><td>23.459</td></tr><tr><td>total_flos</td><td>492778228917600.0</td></tr><tr><td>train/epoch</td><td>3.0</td></tr><tr><td>train/global_step</td><td>87</td></tr><tr><td>train/grad_norm</td><td>1.43669</td></tr><tr><td>train/learning_rate</td><td>0.0</td></tr><tr><td>train/loss</td><td>0.6444</td></tr><tr><td>train_loss</td><td>0.64435</td></tr><tr><td>train_runtime</td><td>166.1098</td></tr><tr><td>train_samples_per_second</td><td>66.245</td></tr><tr><td>train_steps_per_second</td><td>0.524</td></tr></table><br/></div></div>"
            ]
          },
          "metadata": {}
        },
        {
          "output_type": "display_data",
          "data": {
            "text/plain": [
              "<IPython.core.display.HTML object>"
            ],
            "text/html": [
              " View run <strong style=\"color:#cdcd00\">major-glitter-4</strong> at: <a href='https://wandb.ai/neurafusionai-independent-researcher/huggingface/runs/mwv0r2tt' target=\"_blank\">https://wandb.ai/neurafusionai-independent-researcher/huggingface/runs/mwv0r2tt</a><br/> View project at: <a href='https://wandb.ai/neurafusionai-independent-researcher/huggingface' target=\"_blank\">https://wandb.ai/neurafusionai-independent-researcher/huggingface</a><br/>Synced 5 W&B file(s), 0 media file(s), 1 artifact file(s) and 0 other file(s)"
            ]
          },
          "metadata": {}
        },
        {
          "output_type": "display_data",
          "data": {
            "text/plain": [
              "<IPython.core.display.HTML object>"
            ],
            "text/html": [
              "Find logs at: <code>./wandb/run-20240817_171736-mwv0r2tt/logs</code>"
            ]
          },
          "metadata": {}
        },
        {
          "output_type": "display_data",
          "data": {
            "text/plain": [
              "<IPython.core.display.HTML object>"
            ],
            "text/html": [
              "The new W&B backend becomes opt-out in version 0.18.0; try it out with `wandb.require(\"core\")`! See https://wandb.me/wandb-core for more information."
            ]
          },
          "metadata": {}
        },
        {
          "output_type": "display_data",
          "data": {
            "text/plain": [
              "<IPython.core.display.HTML object>"
            ],
            "text/html": [
              "Tracking run with wandb version 0.17.7"
            ]
          },
          "metadata": {}
        },
        {
          "output_type": "display_data",
          "data": {
            "text/plain": [
              "<IPython.core.display.HTML object>"
            ],
            "text/html": [
              "Run data is saved locally in <code>/content/wandb/run-20240817_172027-61v5kbm4</code>"
            ]
          },
          "metadata": {}
        },
        {
          "output_type": "display_data",
          "data": {
            "text/plain": [
              "<IPython.core.display.HTML object>"
            ],
            "text/html": [
              "Syncing run <strong><a href='https://wandb.ai/neurafusionai-independent-researcher/huggingface/runs/61v5kbm4' target=\"_blank\">sparkling-planet-5</a></strong> to <a href='https://wandb.ai/neurafusionai-independent-researcher/huggingface' target=\"_blank\">Weights & Biases</a> (<a href='https://wandb.me/run' target=\"_blank\">docs</a>)<br/>"
            ]
          },
          "metadata": {}
        },
        {
          "output_type": "display_data",
          "data": {
            "text/plain": [
              "<IPython.core.display.HTML object>"
            ],
            "text/html": [
              " View project at <a href='https://wandb.ai/neurafusionai-independent-researcher/huggingface' target=\"_blank\">https://wandb.ai/neurafusionai-independent-researcher/huggingface</a>"
            ]
          },
          "metadata": {}
        },
        {
          "output_type": "display_data",
          "data": {
            "text/plain": [
              "<IPython.core.display.HTML object>"
            ],
            "text/html": [
              " View run at <a href='https://wandb.ai/neurafusionai-independent-researcher/huggingface/runs/61v5kbm4' target=\"_blank\">https://wandb.ai/neurafusionai-independent-researcher/huggingface/runs/61v5kbm4</a>"
            ]
          },
          "metadata": {}
        },
        {
          "output_type": "display_data",
          "data": {
            "text/plain": [
              "<IPython.core.display.HTML object>"
            ],
            "text/html": [
              "\n",
              "    <div>\n",
              "      \n",
              "      <progress value='460' max='460' style='width:300px; height:20px; vertical-align: middle;'></progress>\n",
              "      [460/460 03:27, Epoch 4/4]\n",
              "    </div>\n",
              "    <table border=\"1\" class=\"dataframe\">\n",
              "  <thead>\n",
              " <tr style=\"text-align: left;\">\n",
              "      <th>Epoch</th>\n",
              "      <th>Training Loss</th>\n",
              "      <th>Validation Loss</th>\n",
              "      <th>Accuracy</th>\n",
              "      <th>F1</th>\n",
              "      <th>Precision</th>\n",
              "      <th>Recall</th>\n",
              "    </tr>\n",
              "  </thead>\n",
              "  <tbody>\n",
              "    <tr>\n",
              "      <td>1</td>\n",
              "      <td>0.619500</td>\n",
              "      <td>0.627992</td>\n",
              "      <td>0.683824</td>\n",
              "      <td>0.812227</td>\n",
              "      <td>0.683824</td>\n",
              "      <td>1.000000</td>\n",
              "    </tr>\n",
              "    <tr>\n",
              "      <td>2</td>\n",
              "      <td>0.622500</td>\n",
              "      <td>0.597822</td>\n",
              "      <td>0.710784</td>\n",
              "      <td>0.825444</td>\n",
              "      <td>0.702771</td>\n",
              "      <td>1.000000</td>\n",
              "    </tr>\n",
              "    <tr>\n",
              "      <td>3</td>\n",
              "      <td>0.536200</td>\n",
              "      <td>0.527837</td>\n",
              "      <td>0.754902</td>\n",
              "      <td>0.840256</td>\n",
              "      <td>0.757925</td>\n",
              "      <td>0.942652</td>\n",
              "    </tr>\n",
              "    <tr>\n",
              "      <td>4</td>\n",
              "      <td>0.524200</td>\n",
              "      <td>0.494555</td>\n",
              "      <td>0.781863</td>\n",
              "      <td>0.851913</td>\n",
              "      <td>0.795031</td>\n",
              "      <td>0.917563</td>\n",
              "    </tr>\n",
              "  </tbody>\n",
              "</table><p>"
            ]
          },
          "metadata": {}
        },
        {
          "output_type": "stream",
          "name": "stderr",
          "text": [
            "[I 2024-08-17 17:23:59,064] Trial 2 finished with values: [0.7818627450980392, -0.49455514550209045] and parameters: {'learning_rate': 9.581848577824506e-06, 'per_device_train_batch_size': 32, 'num_train_epochs': 4, 'weight_decay': 0.26016556090758075, 'warmup_steps': 815, 'adam_beta1': 0.9107376339877128, 'adam_beta2': 0.9776396348176597, 'adam_epsilon': 6.467848437745865e-07}. \n",
            "Some weights of BertForSequenceClassification were not initialized from the model checkpoint at bert-base-uncased and are newly initialized: ['classifier.bias', 'classifier.weight']\n",
            "You should probably TRAIN this model on a down-stream task to be able to use it for predictions and inference.\n"
          ]
        },
        {
          "output_type": "display_data",
          "data": {
            "text/plain": [
              "VBox(children=(Label(value='0.003 MB of 0.024 MB uploaded\\r'), FloatProgress(value=0.12222043184015469, max=1.…"
            ],
            "application/vnd.jupyter.widget-view+json": {
              "version_major": 2,
              "version_minor": 0,
              "model_id": "97431c4a7895466caec147758bb6afc1"
            }
          },
          "metadata": {}
        },
        {
          "output_type": "display_data",
          "data": {
            "text/plain": [
              "<IPython.core.display.HTML object>"
            ],
            "text/html": [
              "<style>\n",
              "    table.wandb td:nth-child(1) { padding: 0 10px; text-align: left ; width: auto;} td:nth-child(2) {text-align: left ; width: 100%}\n",
              "    .wandb-row { display: flex; flex-direction: row; flex-wrap: wrap; justify-content: flex-start; width: 100% }\n",
              "    .wandb-col { display: flex; flex-direction: column; flex-basis: 100%; flex: 1; padding: 10px; }\n",
              "    </style>\n",
              "<div class=\"wandb-row\"><div class=\"wandb-col\"><h3>Run history:</h3><br/><table class=\"wandb\"><tr><td>eval/accuracy</td><td>▁▃▆█</td></tr><tr><td>eval/f1</td><td>▁▃▆█</td></tr><tr><td>eval/loss</td><td>█▆▃▁</td></tr><tr><td>eval/precision</td><td>▁▂▆█</td></tr><tr><td>eval/recall</td><td>██▃▁</td></tr><tr><td>eval/runtime</td><td>█▆▁▃</td></tr><tr><td>eval/samples_per_second</td><td>▁▃█▅</td></tr><tr><td>eval/steps_per_second</td><td>▁▃█▅</td></tr><tr><td>train/epoch</td><td>▁▁▁▁▂▂▂▂▃▃▃▃▃▃▃▄▄▄▄▄▅▅▅▅▅▆▆▆▆▆▆▇▇▇▇▇████</td></tr><tr><td>train/global_step</td><td>▁▁▁▁▂▂▂▂▃▃▃▃▃▃▃▄▄▄▄▄▅▅▅▅▅▆▆▆▆▆▆▇▇▇▇▇████</td></tr><tr><td>train/grad_norm</td><td>▁█▂▁▃█▆▂▄▁▃▄▃▂▂▄▇▅▁▃▅▂▂▅▂▄▆▂▂▃▃▃▃▄▃▃▃▄▆▃</td></tr><tr><td>train/learning_rate</td><td>▁▁▁▁▂▂▂▂▂▃▃▃▃▃▄▄▄▄▄▄▅▅▅▅▅▅▆▆▆▆▆▇▇▇▇▇████</td></tr><tr><td>train/loss</td><td>█▇█▇▇▆▆▇▇▆▇▇▇▇▇▆▆▆▆▅▅▅▄▄▅▄▅▄▃▃▂▁▁▂▂▂▁▁▁▁</td></tr></table><br/></div><div class=\"wandb-col\"><h3>Run summary:</h3><br/><table class=\"wandb\"><tr><td>eval/accuracy</td><td>0.78186</td></tr><tr><td>eval/f1</td><td>0.85191</td></tr><tr><td>eval/loss</td><td>0.49456</td></tr><tr><td>eval/precision</td><td>0.79503</td></tr><tr><td>eval/recall</td><td>0.91756</td></tr><tr><td>eval/runtime</td><td>0.6791</td></tr><tr><td>eval/samples_per_second</td><td>600.758</td></tr><tr><td>eval/steps_per_second</td><td>38.284</td></tr><tr><td>total_flos</td><td>601695928061040.0</td></tr><tr><td>train/epoch</td><td>4.0</td></tr><tr><td>train/global_step</td><td>460</td></tr><tr><td>train/grad_norm</td><td>5.31417</td></tr><tr><td>train/learning_rate</td><td>1e-05</td></tr><tr><td>train/loss</td><td>0.5242</td></tr><tr><td>train_loss</td><td>0.58547</td></tr><tr><td>train_runtime</td><td>218.3545</td></tr><tr><td>train_samples_per_second</td><td>67.193</td></tr><tr><td>train_steps_per_second</td><td>2.107</td></tr></table><br/></div></div>"
            ]
          },
          "metadata": {}
        },
        {
          "output_type": "display_data",
          "data": {
            "text/plain": [
              "<IPython.core.display.HTML object>"
            ],
            "text/html": [
              " View run <strong style=\"color:#cdcd00\">sparkling-planet-5</strong> at: <a href='https://wandb.ai/neurafusionai-independent-researcher/huggingface/runs/61v5kbm4' target=\"_blank\">https://wandb.ai/neurafusionai-independent-researcher/huggingface/runs/61v5kbm4</a><br/> View project at: <a href='https://wandb.ai/neurafusionai-independent-researcher/huggingface' target=\"_blank\">https://wandb.ai/neurafusionai-independent-researcher/huggingface</a><br/>Synced 5 W&B file(s), 0 media file(s), 1 artifact file(s) and 0 other file(s)"
            ]
          },
          "metadata": {}
        },
        {
          "output_type": "display_data",
          "data": {
            "text/plain": [
              "<IPython.core.display.HTML object>"
            ],
            "text/html": [
              "Find logs at: <code>./wandb/run-20240817_172027-61v5kbm4/logs</code>"
            ]
          },
          "metadata": {}
        },
        {
          "output_type": "display_data",
          "data": {
            "text/plain": [
              "<IPython.core.display.HTML object>"
            ],
            "text/html": [
              "The new W&B backend becomes opt-out in version 0.18.0; try it out with `wandb.require(\"core\")`! See https://wandb.me/wandb-core for more information."
            ]
          },
          "metadata": {}
        },
        {
          "output_type": "display_data",
          "data": {
            "text/plain": [
              "<IPython.core.display.HTML object>"
            ],
            "text/html": [
              "Tracking run with wandb version 0.17.7"
            ]
          },
          "metadata": {}
        },
        {
          "output_type": "display_data",
          "data": {
            "text/plain": [
              "<IPython.core.display.HTML object>"
            ],
            "text/html": [
              "Run data is saved locally in <code>/content/wandb/run-20240817_172405-j9i8yvn8</code>"
            ]
          },
          "metadata": {}
        },
        {
          "output_type": "display_data",
          "data": {
            "text/plain": [
              "<IPython.core.display.HTML object>"
            ],
            "text/html": [
              "Syncing run <strong><a href='https://wandb.ai/neurafusionai-independent-researcher/huggingface/runs/j9i8yvn8' target=\"_blank\">silvery-frog-6</a></strong> to <a href='https://wandb.ai/neurafusionai-independent-researcher/huggingface' target=\"_blank\">Weights & Biases</a> (<a href='https://wandb.me/run' target=\"_blank\">docs</a>)<br/>"
            ]
          },
          "metadata": {}
        },
        {
          "output_type": "display_data",
          "data": {
            "text/plain": [
              "<IPython.core.display.HTML object>"
            ],
            "text/html": [
              " View project at <a href='https://wandb.ai/neurafusionai-independent-researcher/huggingface' target=\"_blank\">https://wandb.ai/neurafusionai-independent-researcher/huggingface</a>"
            ]
          },
          "metadata": {}
        },
        {
          "output_type": "display_data",
          "data": {
            "text/plain": [
              "<IPython.core.display.HTML object>"
            ],
            "text/html": [
              " View run at <a href='https://wandb.ai/neurafusionai-independent-researcher/huggingface/runs/j9i8yvn8' target=\"_blank\">https://wandb.ai/neurafusionai-independent-researcher/huggingface/runs/j9i8yvn8</a>"
            ]
          },
          "metadata": {}
        },
        {
          "output_type": "display_data",
          "data": {
            "text/plain": [
              "<IPython.core.display.HTML object>"
            ],
            "text/html": [
              "\n",
              "    <div>\n",
              "      \n",
              "      <progress value='174' max='174' style='width:300px; height:20px; vertical-align: middle;'></progress>\n",
              "      [174/174 03:35, Epoch 3/3]\n",
              "    </div>\n",
              "    <table border=\"1\" class=\"dataframe\">\n",
              "  <thead>\n",
              " <tr style=\"text-align: left;\">\n",
              "      <th>Epoch</th>\n",
              "      <th>Training Loss</th>\n",
              "      <th>Validation Loss</th>\n",
              "      <th>Accuracy</th>\n",
              "      <th>F1</th>\n",
              "      <th>Precision</th>\n",
              "      <th>Recall</th>\n",
              "    </tr>\n",
              "  </thead>\n",
              "  <tbody>\n",
              "    <tr>\n",
              "      <td>1</td>\n",
              "      <td>0.636900</td>\n",
              "      <td>0.632757</td>\n",
              "      <td>0.683824</td>\n",
              "      <td>0.812227</td>\n",
              "      <td>0.683824</td>\n",
              "      <td>1.000000</td>\n",
              "    </tr>\n",
              "    <tr>\n",
              "      <td>2</td>\n",
              "      <td>0.636900</td>\n",
              "      <td>0.628186</td>\n",
              "      <td>0.683824</td>\n",
              "      <td>0.812227</td>\n",
              "      <td>0.683824</td>\n",
              "      <td>1.000000</td>\n",
              "    </tr>\n",
              "    <tr>\n",
              "      <td>3</td>\n",
              "      <td>0.625000</td>\n",
              "      <td>0.619465</td>\n",
              "      <td>0.683824</td>\n",
              "      <td>0.812227</td>\n",
              "      <td>0.683824</td>\n",
              "      <td>1.000000</td>\n",
              "    </tr>\n",
              "  </tbody>\n",
              "</table><p>"
            ]
          },
          "metadata": {}
        },
        {
          "output_type": "stream",
          "name": "stderr",
          "text": [
            "[I 2024-08-17 17:27:46,796] Trial 3 finished with values: [0.6838235294117647, -0.6194649338722229] and parameters: {'learning_rate': 3.5681199085414747e-06, 'per_device_train_batch_size': 64, 'num_train_epochs': 3, 'weight_decay': 0.17934320085696323, 'warmup_steps': 424, 'adam_beta1': 0.944413963421004, 'adam_beta2': 0.9956507057778214, 'adam_epsilon': 9.89682270267017e-07}. \n",
            "Some weights of BertForSequenceClassification were not initialized from the model checkpoint at bert-base-uncased and are newly initialized: ['classifier.bias', 'classifier.weight']\n",
            "You should probably TRAIN this model on a down-stream task to be able to use it for predictions and inference.\n"
          ]
        },
        {
          "output_type": "display_data",
          "data": {
            "text/plain": [
              "VBox(children=(Label(value='0.003 MB of 0.024 MB uploaded\\r'), FloatProgress(value=0.12219983883964544, max=1.…"
            ],
            "application/vnd.jupyter.widget-view+json": {
              "version_major": 2,
              "version_minor": 0,
              "model_id": "eb63fd72e503478ba60b47ae5c327fea"
            }
          },
          "metadata": {}
        },
        {
          "output_type": "display_data",
          "data": {
            "text/plain": [
              "<IPython.core.display.HTML object>"
            ],
            "text/html": [
              "<style>\n",
              "    table.wandb td:nth-child(1) { padding: 0 10px; text-align: left ; width: auto;} td:nth-child(2) {text-align: left ; width: 100%}\n",
              "    .wandb-row { display: flex; flex-direction: row; flex-wrap: wrap; justify-content: flex-start; width: 100% }\n",
              "    .wandb-col { display: flex; flex-direction: column; flex-basis: 100%; flex: 1; padding: 10px; }\n",
              "    </style>\n",
              "<div class=\"wandb-row\"><div class=\"wandb-col\"><h3>Run history:</h3><br/><table class=\"wandb\"><tr><td>eval/accuracy</td><td>▁▁▁</td></tr><tr><td>eval/f1</td><td>▁▁▁</td></tr><tr><td>eval/loss</td><td>█▆▁</td></tr><tr><td>eval/precision</td><td>▁▁▁</td></tr><tr><td>eval/recall</td><td>▁▁▁</td></tr><tr><td>eval/runtime</td><td>▅▁█</td></tr><tr><td>eval/samples_per_second</td><td>▃█▁</td></tr><tr><td>eval/steps_per_second</td><td>▃█▁</td></tr><tr><td>train/epoch</td><td>▁▁▂▂▃▃▃▄▄▄▅▅▆▆▆▇▇▇███</td></tr><tr><td>train/global_step</td><td>▁▁▂▂▃▃▃▄▄▄▅▅▆▆▆▇▇▇███</td></tr><tr><td>train/grad_norm</td><td>▅▂▆▁▅▁█▄▃▃▄▃▂▁▂▃▁</td></tr><tr><td>train/learning_rate</td><td>▁▁▂▂▃▃▄▄▄▅▅▆▆▇▇██</td></tr><tr><td>train/loss</td><td>█▇▂▄▃▃▃▃▇▄▃▅▃▄▃▁▁</td></tr></table><br/></div><div class=\"wandb-col\"><h3>Run summary:</h3><br/><table class=\"wandb\"><tr><td>eval/accuracy</td><td>0.68382</td></tr><tr><td>eval/f1</td><td>0.81223</td></tr><tr><td>eval/loss</td><td>0.61946</td></tr><tr><td>eval/precision</td><td>0.68382</td></tr><tr><td>eval/recall</td><td>1.0</td></tr><tr><td>eval/runtime</td><td>0.7638</td></tr><tr><td>eval/samples_per_second</td><td>534.177</td></tr><tr><td>eval/steps_per_second</td><td>34.041</td></tr><tr><td>total_flos</td><td>471223677929280.0</td></tr><tr><td>train/epoch</td><td>3.0</td></tr><tr><td>train/global_step</td><td>174</td></tr><tr><td>train/grad_norm</td><td>0.99755</td></tr><tr><td>train/learning_rate</td><td>0.0</td></tr><tr><td>train/loss</td><td>0.625</td></tr><tr><td>train_loss</td><td>0.6388</td></tr><tr><td>train_runtime</td><td>226.4958</td></tr><tr><td>train_samples_per_second</td><td>48.584</td></tr><tr><td>train_steps_per_second</td><td>0.768</td></tr></table><br/></div></div>"
            ]
          },
          "metadata": {}
        },
        {
          "output_type": "display_data",
          "data": {
            "text/plain": [
              "<IPython.core.display.HTML object>"
            ],
            "text/html": [
              " View run <strong style=\"color:#cdcd00\">silvery-frog-6</strong> at: <a href='https://wandb.ai/neurafusionai-independent-researcher/huggingface/runs/j9i8yvn8' target=\"_blank\">https://wandb.ai/neurafusionai-independent-researcher/huggingface/runs/j9i8yvn8</a><br/> View project at: <a href='https://wandb.ai/neurafusionai-independent-researcher/huggingface' target=\"_blank\">https://wandb.ai/neurafusionai-independent-researcher/huggingface</a><br/>Synced 5 W&B file(s), 0 media file(s), 1 artifact file(s) and 0 other file(s)"
            ]
          },
          "metadata": {}
        },
        {
          "output_type": "display_data",
          "data": {
            "text/plain": [
              "<IPython.core.display.HTML object>"
            ],
            "text/html": [
              "Find logs at: <code>./wandb/run-20240817_172405-j9i8yvn8/logs</code>"
            ]
          },
          "metadata": {}
        },
        {
          "output_type": "display_data",
          "data": {
            "text/plain": [
              "<IPython.core.display.HTML object>"
            ],
            "text/html": [
              "The new W&B backend becomes opt-out in version 0.18.0; try it out with `wandb.require(\"core\")`! See https://wandb.me/wandb-core for more information."
            ]
          },
          "metadata": {}
        },
        {
          "output_type": "display_data",
          "data": {
            "text/plain": [
              "<IPython.core.display.HTML object>"
            ],
            "text/html": [
              "Tracking run with wandb version 0.17.7"
            ]
          },
          "metadata": {}
        },
        {
          "output_type": "display_data",
          "data": {
            "text/plain": [
              "<IPython.core.display.HTML object>"
            ],
            "text/html": [
              "Run data is saved locally in <code>/content/wandb/run-20240817_172752-u8c4nfcb</code>"
            ]
          },
          "metadata": {}
        },
        {
          "output_type": "display_data",
          "data": {
            "text/plain": [
              "<IPython.core.display.HTML object>"
            ],
            "text/html": [
              "Syncing run <strong><a href='https://wandb.ai/neurafusionai-independent-researcher/huggingface/runs/u8c4nfcb' target=\"_blank\">sunny-galaxy-7</a></strong> to <a href='https://wandb.ai/neurafusionai-independent-researcher/huggingface' target=\"_blank\">Weights & Biases</a> (<a href='https://wandb.me/run' target=\"_blank\">docs</a>)<br/>"
            ]
          },
          "metadata": {}
        },
        {
          "output_type": "display_data",
          "data": {
            "text/plain": [
              "<IPython.core.display.HTML object>"
            ],
            "text/html": [
              " View project at <a href='https://wandb.ai/neurafusionai-independent-researcher/huggingface' target=\"_blank\">https://wandb.ai/neurafusionai-independent-researcher/huggingface</a>"
            ]
          },
          "metadata": {}
        },
        {
          "output_type": "display_data",
          "data": {
            "text/plain": [
              "<IPython.core.display.HTML object>"
            ],
            "text/html": [
              " View run at <a href='https://wandb.ai/neurafusionai-independent-researcher/huggingface/runs/u8c4nfcb' target=\"_blank\">https://wandb.ai/neurafusionai-independent-researcher/huggingface/runs/u8c4nfcb</a>"
            ]
          },
          "metadata": {}
        },
        {
          "output_type": "display_data",
          "data": {
            "text/plain": [
              "<IPython.core.display.HTML object>"
            ],
            "text/html": [
              "\n",
              "    <div>\n",
              "      \n",
              "      <progress value='460' max='460' style='width:300px; height:20px; vertical-align: middle;'></progress>\n",
              "      [460/460 02:00, Epoch 2/2]\n",
              "    </div>\n",
              "    <table border=\"1\" class=\"dataframe\">\n",
              "  <thead>\n",
              " <tr style=\"text-align: left;\">\n",
              "      <th>Epoch</th>\n",
              "      <th>Training Loss</th>\n",
              "      <th>Validation Loss</th>\n",
              "      <th>Accuracy</th>\n",
              "      <th>F1</th>\n",
              "      <th>Precision</th>\n",
              "      <th>Recall</th>\n",
              "    </tr>\n",
              "  </thead>\n",
              "  <tbody>\n",
              "    <tr>\n",
              "      <td>1</td>\n",
              "      <td>0.630200</td>\n",
              "      <td>0.592575</td>\n",
              "      <td>0.705882</td>\n",
              "      <td>0.822485</td>\n",
              "      <td>0.700252</td>\n",
              "      <td>0.996416</td>\n",
              "    </tr>\n",
              "    <tr>\n",
              "      <td>2</td>\n",
              "      <td>0.464100</td>\n",
              "      <td>0.493142</td>\n",
              "      <td>0.779412</td>\n",
              "      <td>0.855769</td>\n",
              "      <td>0.773913</td>\n",
              "      <td>0.956989</td>\n",
              "    </tr>\n",
              "  </tbody>\n",
              "</table><p>"
            ]
          },
          "metadata": {}
        },
        {
          "output_type": "stream",
          "name": "stderr",
          "text": [
            "[I 2024-08-17 17:29:59,625] Trial 4 finished with values: [0.7794117647058824, -0.4931420683860779] and parameters: {'learning_rate': 1.3535863845359953e-05, 'per_device_train_batch_size': 16, 'num_train_epochs': 2, 'weight_decay': 0.07374936641211507, 'warmup_steps': 742, 'adam_beta1': 0.858126096820504, 'adam_beta2': 0.9586894510415558, 'adam_epsilon': 2.0444298016756184e-07}. \n",
            "Some weights of BertForSequenceClassification were not initialized from the model checkpoint at bert-base-uncased and are newly initialized: ['classifier.bias', 'classifier.weight']\n",
            "You should probably TRAIN this model on a down-stream task to be able to use it for predictions and inference.\n"
          ]
        },
        {
          "output_type": "display_data",
          "data": {
            "text/plain": [
              "VBox(children=(Label(value='0.003 MB of 0.003 MB uploaded\\r'), FloatProgress(value=1.0, max=1.0)))"
            ],
            "application/vnd.jupyter.widget-view+json": {
              "version_major": 2,
              "version_minor": 0,
              "model_id": "b37de1a414714f5c94b4eb383cffcc72"
            }
          },
          "metadata": {}
        },
        {
          "output_type": "display_data",
          "data": {
            "text/plain": [
              "<IPython.core.display.HTML object>"
            ],
            "text/html": [
              "<style>\n",
              "    table.wandb td:nth-child(1) { padding: 0 10px; text-align: left ; width: auto;} td:nth-child(2) {text-align: left ; width: 100%}\n",
              "    .wandb-row { display: flex; flex-direction: row; flex-wrap: wrap; justify-content: flex-start; width: 100% }\n",
              "    .wandb-col { display: flex; flex-direction: column; flex-basis: 100%; flex: 1; padding: 10px; }\n",
              "    </style>\n",
              "<div class=\"wandb-row\"><div class=\"wandb-col\"><h3>Run history:</h3><br/><table class=\"wandb\"><tr><td>eval/accuracy</td><td>▁█</td></tr><tr><td>eval/f1</td><td>▁█</td></tr><tr><td>eval/loss</td><td>█▁</td></tr><tr><td>eval/precision</td><td>▁█</td></tr><tr><td>eval/recall</td><td>█▁</td></tr><tr><td>eval/runtime</td><td>▁█</td></tr><tr><td>eval/samples_per_second</td><td>█▁</td></tr><tr><td>eval/steps_per_second</td><td>█▁</td></tr><tr><td>train/epoch</td><td>▁▁▁▁▂▂▂▂▂▃▃▃▃▃▄▄▄▄▄▄▅▅▅▅▅▆▆▆▆▆▆▇▇▇▇█████</td></tr><tr><td>train/global_step</td><td>▁▁▁▁▂▂▂▂▂▃▃▃▃▃▄▄▄▄▄▄▅▅▅▅▅▆▆▆▆▆▆▇▇▇▇█████</td></tr><tr><td>train/grad_norm</td><td>▁▂▄▆▂▃▁▅▁▃▆▂▁▅▂▅▂▄█▂▄▂▂▄▃▃▃▃▂▃▄▃▄▆▅▅▆▅█▅</td></tr><tr><td>train/learning_rate</td><td>▁▁▁▁▂▂▂▂▂▃▃▃▃▃▄▄▄▄▄▄▅▅▅▅▅▅▆▆▆▆▆▇▇▇▇▇████</td></tr><tr><td>train/loss</td><td>▇█▇███▇▇▇▆▆▆▆▇▆▆▇▇▆▆▅▆▅▅▄▅▅▄▅▄▃▄▃▃▁▅▃▃▃▅</td></tr></table><br/></div><div class=\"wandb-col\"><h3>Run summary:</h3><br/><table class=\"wandb\"><tr><td>eval/accuracy</td><td>0.77941</td></tr><tr><td>eval/f1</td><td>0.85577</td></tr><tr><td>eval/loss</td><td>0.49314</td></tr><tr><td>eval/precision</td><td>0.77391</td></tr><tr><td>eval/recall</td><td>0.95699</td></tr><tr><td>eval/runtime</td><td>0.8269</td></tr><tr><td>eval/samples_per_second</td><td>493.385</td></tr><tr><td>eval/steps_per_second</td><td>31.441</td></tr><tr><td>total_flos</td><td>285847550542320.0</td></tr><tr><td>train/epoch</td><td>2.0</td></tr><tr><td>train/global_step</td><td>460</td></tr><tr><td>train/grad_norm</td><td>11.07144</td></tr><tr><td>train/learning_rate</td><td>1e-05</td></tr><tr><td>train/loss</td><td>0.4641</td></tr><tr><td>train_loss</td><td>0.58817</td></tr><tr><td>train_runtime</td><td>131.5366</td></tr><tr><td>train_samples_per_second</td><td>55.772</td></tr><tr><td>train_steps_per_second</td><td>3.497</td></tr></table><br/></div></div>"
            ]
          },
          "metadata": {}
        },
        {
          "output_type": "display_data",
          "data": {
            "text/plain": [
              "<IPython.core.display.HTML object>"
            ],
            "text/html": [
              " View run <strong style=\"color:#cdcd00\">sunny-galaxy-7</strong> at: <a href='https://wandb.ai/neurafusionai-independent-researcher/huggingface/runs/u8c4nfcb' target=\"_blank\">https://wandb.ai/neurafusionai-independent-researcher/huggingface/runs/u8c4nfcb</a><br/> View project at: <a href='https://wandb.ai/neurafusionai-independent-researcher/huggingface' target=\"_blank\">https://wandb.ai/neurafusionai-independent-researcher/huggingface</a><br/>Synced 5 W&B file(s), 0 media file(s), 1 artifact file(s) and 0 other file(s)"
            ]
          },
          "metadata": {}
        },
        {
          "output_type": "display_data",
          "data": {
            "text/plain": [
              "<IPython.core.display.HTML object>"
            ],
            "text/html": [
              "Find logs at: <code>./wandb/run-20240817_172752-u8c4nfcb/logs</code>"
            ]
          },
          "metadata": {}
        },
        {
          "output_type": "display_data",
          "data": {
            "text/plain": [
              "<IPython.core.display.HTML object>"
            ],
            "text/html": [
              "The new W&B backend becomes opt-out in version 0.18.0; try it out with `wandb.require(\"core\")`! See https://wandb.me/wandb-core for more information."
            ]
          },
          "metadata": {}
        },
        {
          "output_type": "display_data",
          "data": {
            "text/plain": [
              "<IPython.core.display.HTML object>"
            ],
            "text/html": [
              "Tracking run with wandb version 0.17.7"
            ]
          },
          "metadata": {}
        },
        {
          "output_type": "display_data",
          "data": {
            "text/plain": [
              "<IPython.core.display.HTML object>"
            ],
            "text/html": [
              "Run data is saved locally in <code>/content/wandb/run-20240817_173007-6biodgo7</code>"
            ]
          },
          "metadata": {}
        },
        {
          "output_type": "display_data",
          "data": {
            "text/plain": [
              "<IPython.core.display.HTML object>"
            ],
            "text/html": [
              "Syncing run <strong><a href='https://wandb.ai/neurafusionai-independent-researcher/huggingface/runs/6biodgo7' target=\"_blank\">elated-frog-8</a></strong> to <a href='https://wandb.ai/neurafusionai-independent-researcher/huggingface' target=\"_blank\">Weights & Biases</a> (<a href='https://wandb.me/run' target=\"_blank\">docs</a>)<br/>"
            ]
          },
          "metadata": {}
        },
        {
          "output_type": "display_data",
          "data": {
            "text/plain": [
              "<IPython.core.display.HTML object>"
            ],
            "text/html": [
              " View project at <a href='https://wandb.ai/neurafusionai-independent-researcher/huggingface' target=\"_blank\">https://wandb.ai/neurafusionai-independent-researcher/huggingface</a>"
            ]
          },
          "metadata": {}
        },
        {
          "output_type": "display_data",
          "data": {
            "text/plain": [
              "<IPython.core.display.HTML object>"
            ],
            "text/html": [
              " View run at <a href='https://wandb.ai/neurafusionai-independent-researcher/huggingface/runs/6biodgo7' target=\"_blank\">https://wandb.ai/neurafusionai-independent-researcher/huggingface/runs/6biodgo7</a>"
            ]
          },
          "metadata": {}
        },
        {
          "output_type": "display_data",
          "data": {
            "text/plain": [
              "<IPython.core.display.HTML object>"
            ],
            "text/html": [
              "\n",
              "    <div>\n",
              "      \n",
              "      <progress value='174' max='174' style='width:300px; height:20px; vertical-align: middle;'></progress>\n",
              "      [174/174 02:14, Epoch 3/3]\n",
              "    </div>\n",
              "    <table border=\"1\" class=\"dataframe\">\n",
              "  <thead>\n",
              " <tr style=\"text-align: left;\">\n",
              "      <th>Epoch</th>\n",
              "      <th>Training Loss</th>\n",
              "      <th>Validation Loss</th>\n",
              "      <th>Accuracy</th>\n",
              "      <th>F1</th>\n",
              "      <th>Precision</th>\n",
              "      <th>Recall</th>\n",
              "    </tr>\n",
              "  </thead>\n",
              "  <tbody>\n",
              "    <tr>\n",
              "      <td>1</td>\n",
              "      <td>0.631300</td>\n",
              "      <td>0.623126</td>\n",
              "      <td>0.683824</td>\n",
              "      <td>0.812227</td>\n",
              "      <td>0.683824</td>\n",
              "      <td>1.000000</td>\n",
              "    </tr>\n",
              "    <tr>\n",
              "      <td>2</td>\n",
              "      <td>0.591300</td>\n",
              "      <td>0.569158</td>\n",
              "      <td>0.710784</td>\n",
              "      <td>0.822289</td>\n",
              "      <td>0.709091</td>\n",
              "      <td>0.978495</td>\n",
              "    </tr>\n",
              "    <tr>\n",
              "      <td>3</td>\n",
              "      <td>0.509800</td>\n",
              "      <td>0.501211</td>\n",
              "      <td>0.776961</td>\n",
              "      <td>0.849587</td>\n",
              "      <td>0.788344</td>\n",
              "      <td>0.921147</td>\n",
              "    </tr>\n",
              "  </tbody>\n",
              "</table><p>"
            ]
          },
          "metadata": {}
        },
        {
          "output_type": "stream",
          "name": "stderr",
          "text": [
            "[I 2024-08-17 17:32:29,085] Trial 5 finished with values: [0.7769607843137255, -0.5012105107307434] and parameters: {'learning_rate': 1.7014171128310554e-05, 'per_device_train_batch_size': 64, 'num_train_epochs': 3, 'weight_decay': 0.23086106504524295, 'warmup_steps': 264, 'adam_beta1': 0.9453461409208453, 'adam_beta2': 0.9525897546659557, 'adam_epsilon': 3.4397981219870016e-07}. \n",
            "Some weights of BertForSequenceClassification were not initialized from the model checkpoint at bert-base-uncased and are newly initialized: ['classifier.bias', 'classifier.weight']\n",
            "You should probably TRAIN this model on a down-stream task to be able to use it for predictions and inference.\n"
          ]
        },
        {
          "output_type": "display_data",
          "data": {
            "text/plain": [
              "VBox(children=(Label(value='0.003 MB of 0.014 MB uploaded\\r'), FloatProgress(value=0.20992181554002629, max=1.…"
            ],
            "application/vnd.jupyter.widget-view+json": {
              "version_major": 2,
              "version_minor": 0,
              "model_id": "81a17f3d833942a19fa6dbb1597ffadd"
            }
          },
          "metadata": {}
        },
        {
          "output_type": "display_data",
          "data": {
            "text/plain": [
              "<IPython.core.display.HTML object>"
            ],
            "text/html": [
              "<style>\n",
              "    table.wandb td:nth-child(1) { padding: 0 10px; text-align: left ; width: auto;} td:nth-child(2) {text-align: left ; width: 100%}\n",
              "    .wandb-row { display: flex; flex-direction: row; flex-wrap: wrap; justify-content: flex-start; width: 100% }\n",
              "    .wandb-col { display: flex; flex-direction: column; flex-basis: 100%; flex: 1; padding: 10px; }\n",
              "    </style>\n",
              "<div class=\"wandb-row\"><div class=\"wandb-col\"><h3>Run history:</h3><br/><table class=\"wandb\"><tr><td>eval/accuracy</td><td>▁▃█</td></tr><tr><td>eval/f1</td><td>▁▃█</td></tr><tr><td>eval/loss</td><td>█▅▁</td></tr><tr><td>eval/precision</td><td>▁▃█</td></tr><tr><td>eval/recall</td><td>█▆▁</td></tr><tr><td>eval/runtime</td><td>▃▁█</td></tr><tr><td>eval/samples_per_second</td><td>▆█▁</td></tr><tr><td>eval/steps_per_second</td><td>▆█▁</td></tr><tr><td>train/epoch</td><td>▁▁▂▂▃▃▃▄▄▄▅▅▆▆▆▇▇▇███</td></tr><tr><td>train/global_step</td><td>▁▁▂▂▃▃▃▄▄▄▅▅▆▆▆▇▇▇███</td></tr><tr><td>train/grad_norm</td><td>▇▃█▂▅▁█▃▄▇▄▂▄▄▅▆▅</td></tr><tr><td>train/learning_rate</td><td>▁▁▂▂▃▃▄▄▄▅▅▆▆▇▇██</td></tr><tr><td>train/loss</td><td>██▇▇▇▇▆▆▆▅▅▅▃▃▂▁▁</td></tr></table><br/></div><div class=\"wandb-col\"><h3>Run summary:</h3><br/><table class=\"wandb\"><tr><td>eval/accuracy</td><td>0.77696</td></tr><tr><td>eval/f1</td><td>0.84959</td></tr><tr><td>eval/loss</td><td>0.50121</td></tr><tr><td>eval/precision</td><td>0.78834</td></tr><tr><td>eval/recall</td><td>0.92115</td></tr><tr><td>eval/runtime</td><td>0.6657</td></tr><tr><td>eval/samples_per_second</td><td>612.867</td></tr><tr><td>eval/steps_per_second</td><td>39.055</td></tr><tr><td>total_flos</td><td>471223677929280.0</td></tr><tr><td>train/epoch</td><td>3.0</td></tr><tr><td>train/global_step</td><td>174</td></tr><tr><td>train/grad_norm</td><td>2.40975</td></tr><tr><td>train/learning_rate</td><td>1e-05</td></tr><tr><td>train/loss</td><td>0.5098</td></tr><tr><td>train_loss</td><td>0.59181</td></tr><tr><td>train_runtime</td><td>147.9902</td></tr><tr><td>train_samples_per_second</td><td>74.356</td></tr><tr><td>train_steps_per_second</td><td>1.176</td></tr></table><br/></div></div>"
            ]
          },
          "metadata": {}
        },
        {
          "output_type": "display_data",
          "data": {
            "text/plain": [
              "<IPython.core.display.HTML object>"
            ],
            "text/html": [
              " View run <strong style=\"color:#cdcd00\">elated-frog-8</strong> at: <a href='https://wandb.ai/neurafusionai-independent-researcher/huggingface/runs/6biodgo7' target=\"_blank\">https://wandb.ai/neurafusionai-independent-researcher/huggingface/runs/6biodgo7</a><br/> View project at: <a href='https://wandb.ai/neurafusionai-independent-researcher/huggingface' target=\"_blank\">https://wandb.ai/neurafusionai-independent-researcher/huggingface</a><br/>Synced 5 W&B file(s), 0 media file(s), 1 artifact file(s) and 0 other file(s)"
            ]
          },
          "metadata": {}
        },
        {
          "output_type": "display_data",
          "data": {
            "text/plain": [
              "<IPython.core.display.HTML object>"
            ],
            "text/html": [
              "Find logs at: <code>./wandb/run-20240817_173007-6biodgo7/logs</code>"
            ]
          },
          "metadata": {}
        },
        {
          "output_type": "display_data",
          "data": {
            "text/plain": [
              "<IPython.core.display.HTML object>"
            ],
            "text/html": [
              "The new W&B backend becomes opt-out in version 0.18.0; try it out with `wandb.require(\"core\")`! See https://wandb.me/wandb-core for more information."
            ]
          },
          "metadata": {}
        },
        {
          "output_type": "display_data",
          "data": {
            "text/plain": [
              "<IPython.core.display.HTML object>"
            ],
            "text/html": [
              "Tracking run with wandb version 0.17.7"
            ]
          },
          "metadata": {}
        },
        {
          "output_type": "display_data",
          "data": {
            "text/plain": [
              "<IPython.core.display.HTML object>"
            ],
            "text/html": [
              "Run data is saved locally in <code>/content/wandb/run-20240817_173234-1a8uljvg</code>"
            ]
          },
          "metadata": {}
        },
        {
          "output_type": "display_data",
          "data": {
            "text/plain": [
              "<IPython.core.display.HTML object>"
            ],
            "text/html": [
              "Syncing run <strong><a href='https://wandb.ai/neurafusionai-independent-researcher/huggingface/runs/1a8uljvg' target=\"_blank\">tough-sea-9</a></strong> to <a href='https://wandb.ai/neurafusionai-independent-researcher/huggingface' target=\"_blank\">Weights & Biases</a> (<a href='https://wandb.me/run' target=\"_blank\">docs</a>)<br/>"
            ]
          },
          "metadata": {}
        },
        {
          "output_type": "display_data",
          "data": {
            "text/plain": [
              "<IPython.core.display.HTML object>"
            ],
            "text/html": [
              " View project at <a href='https://wandb.ai/neurafusionai-independent-researcher/huggingface' target=\"_blank\">https://wandb.ai/neurafusionai-independent-researcher/huggingface</a>"
            ]
          },
          "metadata": {}
        },
        {
          "output_type": "display_data",
          "data": {
            "text/plain": [
              "<IPython.core.display.HTML object>"
            ],
            "text/html": [
              " View run at <a href='https://wandb.ai/neurafusionai-independent-researcher/huggingface/runs/1a8uljvg' target=\"_blank\">https://wandb.ai/neurafusionai-independent-researcher/huggingface/runs/1a8uljvg</a>"
            ]
          },
          "metadata": {}
        },
        {
          "output_type": "display_data",
          "data": {
            "text/plain": [
              "<IPython.core.display.HTML object>"
            ],
            "text/html": [
              "\n",
              "    <div>\n",
              "      \n",
              "      <progress value='87' max='87' style='width:300px; height:20px; vertical-align: middle;'></progress>\n",
              "      [87/87 01:23, Epoch 3/3]\n",
              "    </div>\n",
              "    <table border=\"1\" class=\"dataframe\">\n",
              "  <thead>\n",
              " <tr style=\"text-align: left;\">\n",
              "      <th>Epoch</th>\n",
              "      <th>Training Loss</th>\n",
              "      <th>Validation Loss</th>\n",
              "      <th>Accuracy</th>\n",
              "      <th>F1</th>\n",
              "      <th>Precision</th>\n",
              "      <th>Recall</th>\n",
              "    </tr>\n",
              "  </thead>\n",
              "  <tbody>\n",
              "    <tr>\n",
              "      <td>1</td>\n",
              "      <td>0.638600</td>\n",
              "      <td>0.632875</td>\n",
              "      <td>0.683824</td>\n",
              "      <td>0.812227</td>\n",
              "      <td>0.683824</td>\n",
              "      <td>1.000000</td>\n",
              "    </tr>\n",
              "    <tr>\n",
              "      <td>2</td>\n",
              "      <td>0.643800</td>\n",
              "      <td>0.629160</td>\n",
              "      <td>0.683824</td>\n",
              "      <td>0.812227</td>\n",
              "      <td>0.683824</td>\n",
              "      <td>1.000000</td>\n",
              "    </tr>\n",
              "    <tr>\n",
              "      <td>3</td>\n",
              "      <td>0.637600</td>\n",
              "      <td>0.622441</td>\n",
              "      <td>0.683824</td>\n",
              "      <td>0.812227</td>\n",
              "      <td>0.683824</td>\n",
              "      <td>1.000000</td>\n",
              "    </tr>\n",
              "  </tbody>\n",
              "</table><p>"
            ]
          },
          "metadata": {}
        },
        {
          "output_type": "stream",
          "name": "stderr",
          "text": [
            "[I 2024-08-17 17:34:05,017] Trial 6 finished with values: [0.6838235294117647, -0.6224406957626343] and parameters: {'learning_rate': 2.0687130104840723e-05, 'per_device_train_batch_size': 128, 'num_train_epochs': 3, 'weight_decay': 0.2266209764312428, 'warmup_steps': 963, 'adam_beta1': 0.8728752686845095, 'adam_beta2': 0.9776277741482087, 'adam_epsilon': 2.537780370321811e-07}. \n",
            "Some weights of BertForSequenceClassification were not initialized from the model checkpoint at bert-base-uncased and are newly initialized: ['classifier.bias', 'classifier.weight']\n",
            "You should probably TRAIN this model on a down-stream task to be able to use it for predictions and inference.\n"
          ]
        },
        {
          "output_type": "display_data",
          "data": {
            "text/plain": [
              "VBox(children=(Label(value='0.003 MB of 0.003 MB uploaded\\r'), FloatProgress(value=1.0, max=1.0)))"
            ],
            "application/vnd.jupyter.widget-view+json": {
              "version_major": 2,
              "version_minor": 0,
              "model_id": "b65195fd4225404f81780c43d7f998df"
            }
          },
          "metadata": {}
        },
        {
          "output_type": "display_data",
          "data": {
            "text/plain": [
              "<IPython.core.display.HTML object>"
            ],
            "text/html": [
              "<style>\n",
              "    table.wandb td:nth-child(1) { padding: 0 10px; text-align: left ; width: auto;} td:nth-child(2) {text-align: left ; width: 100%}\n",
              "    .wandb-row { display: flex; flex-direction: row; flex-wrap: wrap; justify-content: flex-start; width: 100% }\n",
              "    .wandb-col { display: flex; flex-direction: column; flex-basis: 100%; flex: 1; padding: 10px; }\n",
              "    </style>\n",
              "<div class=\"wandb-row\"><div class=\"wandb-col\"><h3>Run history:</h3><br/><table class=\"wandb\"><tr><td>eval/accuracy</td><td>▁▁▁</td></tr><tr><td>eval/f1</td><td>▁▁▁</td></tr><tr><td>eval/loss</td><td>█▆▁</td></tr><tr><td>eval/precision</td><td>▁▁▁</td></tr><tr><td>eval/recall</td><td>▁▁▁</td></tr><tr><td>eval/runtime</td><td>▁█▄</td></tr><tr><td>eval/samples_per_second</td><td>█▁▅</td></tr><tr><td>eval/steps_per_second</td><td>█▁▅</td></tr><tr><td>train/epoch</td><td>▁▂▃▃▄▅▅▆▆▇██</td></tr><tr><td>train/global_step</td><td>▁▂▃▃▄▅▅▆▆▇██</td></tr><tr><td>train/grad_norm</td><td>▁▃▅▃█▃▁▂</td></tr><tr><td>train/learning_rate</td><td>▁▂▃▄▅▆▇█</td></tr><tr><td>train/loss</td><td>█▁▂▂▄▄▁▁</td></tr></table><br/></div><div class=\"wandb-col\"><h3>Run summary:</h3><br/><table class=\"wandb\"><tr><td>eval/accuracy</td><td>0.68382</td></tr><tr><td>eval/f1</td><td>0.81223</td></tr><tr><td>eval/loss</td><td>0.62244</td></tr><tr><td>eval/precision</td><td>0.68382</td></tr><tr><td>eval/recall</td><td>1.0</td></tr><tr><td>eval/runtime</td><td>0.6547</td></tr><tr><td>eval/samples_per_second</td><td>623.179</td></tr><tr><td>eval/steps_per_second</td><td>39.712</td></tr><tr><td>total_flos</td><td>492778228917600.0</td></tr><tr><td>train/epoch</td><td>3.0</td></tr><tr><td>train/global_step</td><td>87</td></tr><tr><td>train/grad_norm</td><td>1.11712</td></tr><tr><td>train/learning_rate</td><td>0.0</td></tr><tr><td>train/loss</td><td>0.6376</td></tr><tr><td>train_loss</td><td>0.6414</td></tr><tr><td>train_runtime</td><td>94.6936</td></tr><tr><td>train_samples_per_second</td><td>116.206</td></tr><tr><td>train_steps_per_second</td><td>0.919</td></tr></table><br/></div></div>"
            ]
          },
          "metadata": {}
        },
        {
          "output_type": "display_data",
          "data": {
            "text/plain": [
              "<IPython.core.display.HTML object>"
            ],
            "text/html": [
              " View run <strong style=\"color:#cdcd00\">tough-sea-9</strong> at: <a href='https://wandb.ai/neurafusionai-independent-researcher/huggingface/runs/1a8uljvg' target=\"_blank\">https://wandb.ai/neurafusionai-independent-researcher/huggingface/runs/1a8uljvg</a><br/> View project at: <a href='https://wandb.ai/neurafusionai-independent-researcher/huggingface' target=\"_blank\">https://wandb.ai/neurafusionai-independent-researcher/huggingface</a><br/>Synced 5 W&B file(s), 0 media file(s), 1 artifact file(s) and 0 other file(s)"
            ]
          },
          "metadata": {}
        },
        {
          "output_type": "display_data",
          "data": {
            "text/plain": [
              "<IPython.core.display.HTML object>"
            ],
            "text/html": [
              "Find logs at: <code>./wandb/run-20240817_173234-1a8uljvg/logs</code>"
            ]
          },
          "metadata": {}
        },
        {
          "output_type": "display_data",
          "data": {
            "text/plain": [
              "<IPython.core.display.HTML object>"
            ],
            "text/html": [
              "The new W&B backend becomes opt-out in version 0.18.0; try it out with `wandb.require(\"core\")`! See https://wandb.me/wandb-core for more information."
            ]
          },
          "metadata": {}
        },
        {
          "output_type": "display_data",
          "data": {
            "text/plain": [
              "<IPython.core.display.HTML object>"
            ],
            "text/html": [
              "Tracking run with wandb version 0.17.7"
            ]
          },
          "metadata": {}
        },
        {
          "output_type": "display_data",
          "data": {
            "text/plain": [
              "<IPython.core.display.HTML object>"
            ],
            "text/html": [
              "Run data is saved locally in <code>/content/wandb/run-20240817_173412-e8422xq8</code>"
            ]
          },
          "metadata": {}
        },
        {
          "output_type": "display_data",
          "data": {
            "text/plain": [
              "<IPython.core.display.HTML object>"
            ],
            "text/html": [
              "Syncing run <strong><a href='https://wandb.ai/neurafusionai-independent-researcher/huggingface/runs/e8422xq8' target=\"_blank\">eternal-firefly-10</a></strong> to <a href='https://wandb.ai/neurafusionai-independent-researcher/huggingface' target=\"_blank\">Weights & Biases</a> (<a href='https://wandb.me/run' target=\"_blank\">docs</a>)<br/>"
            ]
          },
          "metadata": {}
        },
        {
          "output_type": "display_data",
          "data": {
            "text/plain": [
              "<IPython.core.display.HTML object>"
            ],
            "text/html": [
              " View project at <a href='https://wandb.ai/neurafusionai-independent-researcher/huggingface' target=\"_blank\">https://wandb.ai/neurafusionai-independent-researcher/huggingface</a>"
            ]
          },
          "metadata": {}
        },
        {
          "output_type": "display_data",
          "data": {
            "text/plain": [
              "<IPython.core.display.HTML object>"
            ],
            "text/html": [
              " View run at <a href='https://wandb.ai/neurafusionai-independent-researcher/huggingface/runs/e8422xq8' target=\"_blank\">https://wandb.ai/neurafusionai-independent-researcher/huggingface/runs/e8422xq8</a>"
            ]
          },
          "metadata": {}
        },
        {
          "output_type": "display_data",
          "data": {
            "text/plain": [
              "<IPython.core.display.HTML object>"
            ],
            "text/html": [
              "\n",
              "    <div>\n",
              "      \n",
              "      <progress value='174' max='174' style='width:300px; height:20px; vertical-align: middle;'></progress>\n",
              "      [174/174 01:27, Epoch 3/3]\n",
              "    </div>\n",
              "    <table border=\"1\" class=\"dataframe\">\n",
              "  <thead>\n",
              " <tr style=\"text-align: left;\">\n",
              "      <th>Epoch</th>\n",
              "      <th>Training Loss</th>\n",
              "      <th>Validation Loss</th>\n",
              "      <th>Accuracy</th>\n",
              "      <th>F1</th>\n",
              "      <th>Precision</th>\n",
              "      <th>Recall</th>\n",
              "    </tr>\n",
              "  </thead>\n",
              "  <tbody>\n",
              "    <tr>\n",
              "      <td>1</td>\n",
              "      <td>0.548200</td>\n",
              "      <td>0.518942</td>\n",
              "      <td>0.781863</td>\n",
              "      <td>0.859400</td>\n",
              "      <td>0.768362</td>\n",
              "      <td>0.974910</td>\n",
              "    </tr>\n",
              "    <tr>\n",
              "      <td>2</td>\n",
              "      <td>0.436500</td>\n",
              "      <td>0.452725</td>\n",
              "      <td>0.801471</td>\n",
              "      <td>0.864322</td>\n",
              "      <td>0.811321</td>\n",
              "      <td>0.924731</td>\n",
              "    </tr>\n",
              "    <tr>\n",
              "      <td>3</td>\n",
              "      <td>0.380800</td>\n",
              "      <td>0.457086</td>\n",
              "      <td>0.813725</td>\n",
              "      <td>0.876623</td>\n",
              "      <td>0.801187</td>\n",
              "      <td>0.967742</td>\n",
              "    </tr>\n",
              "  </tbody>\n",
              "</table><p>"
            ]
          },
          "metadata": {}
        },
        {
          "output_type": "stream",
          "name": "stderr",
          "text": [
            "[I 2024-08-17 17:35:46,687] Trial 7 finished with values: [0.8137254901960784, -0.4570862352848053] and parameters: {'learning_rate': 1.895171965499263e-05, 'per_device_train_batch_size': 64, 'num_train_epochs': 3, 'weight_decay': 0.2618385177615284, 'warmup_steps': 2, 'adam_beta1': 0.8910196866111151, 'adam_beta2': 0.9533054384261485, 'adam_epsilon': 4.489915581356935e-07}. \n",
            "Some weights of BertForSequenceClassification were not initialized from the model checkpoint at bert-base-uncased and are newly initialized: ['classifier.bias', 'classifier.weight']\n",
            "You should probably TRAIN this model on a down-stream task to be able to use it for predictions and inference.\n"
          ]
        },
        {
          "output_type": "display_data",
          "data": {
            "text/plain": [
              "VBox(children=(Label(value='0.003 MB of 0.003 MB uploaded\\r'), FloatProgress(value=1.0, max=1.0)))"
            ],
            "application/vnd.jupyter.widget-view+json": {
              "version_major": 2,
              "version_minor": 0,
              "model_id": "11fc9a847ae24abda69a027c4c8a5478"
            }
          },
          "metadata": {}
        },
        {
          "output_type": "display_data",
          "data": {
            "text/plain": [
              "<IPython.core.display.HTML object>"
            ],
            "text/html": [
              "<style>\n",
              "    table.wandb td:nth-child(1) { padding: 0 10px; text-align: left ; width: auto;} td:nth-child(2) {text-align: left ; width: 100%}\n",
              "    .wandb-row { display: flex; flex-direction: row; flex-wrap: wrap; justify-content: flex-start; width: 100% }\n",
              "    .wandb-col { display: flex; flex-direction: column; flex-basis: 100%; flex: 1; padding: 10px; }\n",
              "    </style>\n",
              "<div class=\"wandb-row\"><div class=\"wandb-col\"><h3>Run history:</h3><br/><table class=\"wandb\"><tr><td>eval/accuracy</td><td>▁▅█</td></tr><tr><td>eval/f1</td><td>▁▃█</td></tr><tr><td>eval/loss</td><td>█▁▁</td></tr><tr><td>eval/precision</td><td>▁█▆</td></tr><tr><td>eval/recall</td><td>█▁▇</td></tr><tr><td>eval/runtime</td><td>▁█▅</td></tr><tr><td>eval/samples_per_second</td><td>█▁▄</td></tr><tr><td>eval/steps_per_second</td><td>█▁▄</td></tr><tr><td>train/epoch</td><td>▁▁▂▂▃▃▃▄▄▄▅▅▆▆▆▇▇▇███</td></tr><tr><td>train/global_step</td><td>▁▁▂▂▃▃▃▄▄▄▅▅▆▆▆▇▇▇███</td></tr><tr><td>train/grad_norm</td><td>▃▁▂▁▂▂▂▃▃▂▃▄▃▄▅█▄</td></tr><tr><td>train/learning_rate</td><td>██▇▇▆▆▅▅▄▄▄▃▃▂▂▁▁</td></tr><tr><td>train/loss</td><td>█▇▆▆▆▅▄▃▄▃▃▃▂▂▁▁▂</td></tr></table><br/></div><div class=\"wandb-col\"><h3>Run summary:</h3><br/><table class=\"wandb\"><tr><td>eval/accuracy</td><td>0.81373</td></tr><tr><td>eval/f1</td><td>0.87662</td></tr><tr><td>eval/loss</td><td>0.45709</td></tr><tr><td>eval/precision</td><td>0.80119</td></tr><tr><td>eval/recall</td><td>0.96774</td></tr><tr><td>eval/runtime</td><td>0.6942</td></tr><tr><td>eval/samples_per_second</td><td>587.704</td></tr><tr><td>eval/steps_per_second</td><td>37.452</td></tr><tr><td>total_flos</td><td>471223677929280.0</td></tr><tr><td>train/epoch</td><td>3.0</td></tr><tr><td>train/global_step</td><td>174</td></tr><tr><td>train/grad_norm</td><td>3.71254</td></tr><tr><td>train/learning_rate</td><td>0.0</td></tr><tr><td>train/loss</td><td>0.3808</td></tr><tr><td>train_loss</td><td>0.46827</td></tr><tr><td>train_runtime</td><td>100.0605</td></tr><tr><td>train_samples_per_second</td><td>109.973</td></tr><tr><td>train_steps_per_second</td><td>1.739</td></tr></table><br/></div></div>"
            ]
          },
          "metadata": {}
        },
        {
          "output_type": "display_data",
          "data": {
            "text/plain": [
              "<IPython.core.display.HTML object>"
            ],
            "text/html": [
              " View run <strong style=\"color:#cdcd00\">eternal-firefly-10</strong> at: <a href='https://wandb.ai/neurafusionai-independent-researcher/huggingface/runs/e8422xq8' target=\"_blank\">https://wandb.ai/neurafusionai-independent-researcher/huggingface/runs/e8422xq8</a><br/> View project at: <a href='https://wandb.ai/neurafusionai-independent-researcher/huggingface' target=\"_blank\">https://wandb.ai/neurafusionai-independent-researcher/huggingface</a><br/>Synced 5 W&B file(s), 0 media file(s), 1 artifact file(s) and 0 other file(s)"
            ]
          },
          "metadata": {}
        },
        {
          "output_type": "display_data",
          "data": {
            "text/plain": [
              "<IPython.core.display.HTML object>"
            ],
            "text/html": [
              "Find logs at: <code>./wandb/run-20240817_173412-e8422xq8/logs</code>"
            ]
          },
          "metadata": {}
        },
        {
          "output_type": "display_data",
          "data": {
            "text/plain": [
              "<IPython.core.display.HTML object>"
            ],
            "text/html": [
              "The new W&B backend becomes opt-out in version 0.18.0; try it out with `wandb.require(\"core\")`! See https://wandb.me/wandb-core for more information."
            ]
          },
          "metadata": {}
        },
        {
          "output_type": "display_data",
          "data": {
            "text/plain": [
              "<IPython.core.display.HTML object>"
            ],
            "text/html": [
              "Tracking run with wandb version 0.17.7"
            ]
          },
          "metadata": {}
        },
        {
          "output_type": "display_data",
          "data": {
            "text/plain": [
              "<IPython.core.display.HTML object>"
            ],
            "text/html": [
              "Run data is saved locally in <code>/content/wandb/run-20240817_173553-qi6llniu</code>"
            ]
          },
          "metadata": {}
        },
        {
          "output_type": "display_data",
          "data": {
            "text/plain": [
              "<IPython.core.display.HTML object>"
            ],
            "text/html": [
              "Syncing run <strong><a href='https://wandb.ai/neurafusionai-independent-researcher/huggingface/runs/qi6llniu' target=\"_blank\">fast-firefly-11</a></strong> to <a href='https://wandb.ai/neurafusionai-independent-researcher/huggingface' target=\"_blank\">Weights & Biases</a> (<a href='https://wandb.me/run' target=\"_blank\">docs</a>)<br/>"
            ]
          },
          "metadata": {}
        },
        {
          "output_type": "display_data",
          "data": {
            "text/plain": [
              "<IPython.core.display.HTML object>"
            ],
            "text/html": [
              " View project at <a href='https://wandb.ai/neurafusionai-independent-researcher/huggingface' target=\"_blank\">https://wandb.ai/neurafusionai-independent-researcher/huggingface</a>"
            ]
          },
          "metadata": {}
        },
        {
          "output_type": "display_data",
          "data": {
            "text/plain": [
              "<IPython.core.display.HTML object>"
            ],
            "text/html": [
              " View run at <a href='https://wandb.ai/neurafusionai-independent-researcher/huggingface/runs/qi6llniu' target=\"_blank\">https://wandb.ai/neurafusionai-independent-researcher/huggingface/runs/qi6llniu</a>"
            ]
          },
          "metadata": {}
        },
        {
          "output_type": "display_data",
          "data": {
            "text/plain": [
              "<IPython.core.display.HTML object>"
            ],
            "text/html": [
              "\n",
              "    <div>\n",
              "      \n",
              "      <progress value='290' max='290' style='width:300px; height:20px; vertical-align: middle;'></progress>\n",
              "      [290/290 02:10, Epoch 5/5]\n",
              "    </div>\n",
              "    <table border=\"1\" class=\"dataframe\">\n",
              "  <thead>\n",
              " <tr style=\"text-align: left;\">\n",
              "      <th>Epoch</th>\n",
              "      <th>Training Loss</th>\n",
              "      <th>Validation Loss</th>\n",
              "      <th>Accuracy</th>\n",
              "      <th>F1</th>\n",
              "      <th>Precision</th>\n",
              "      <th>Recall</th>\n",
              "    </tr>\n",
              "  </thead>\n",
              "  <tbody>\n",
              "    <tr>\n",
              "      <td>1</td>\n",
              "      <td>0.575100</td>\n",
              "      <td>0.516589</td>\n",
              "      <td>0.769608</td>\n",
              "      <td>0.846405</td>\n",
              "      <td>0.777778</td>\n",
              "      <td>0.928315</td>\n",
              "    </tr>\n",
              "    <tr>\n",
              "      <td>2</td>\n",
              "      <td>0.432000</td>\n",
              "      <td>0.381254</td>\n",
              "      <td>0.823529</td>\n",
              "      <td>0.880000</td>\n",
              "      <td>0.822430</td>\n",
              "      <td>0.946237</td>\n",
              "    </tr>\n",
              "    <tr>\n",
              "      <td>3</td>\n",
              "      <td>0.253100</td>\n",
              "      <td>0.375909</td>\n",
              "      <td>0.850490</td>\n",
              "      <td>0.893543</td>\n",
              "      <td>0.870748</td>\n",
              "      <td>0.917563</td>\n",
              "    </tr>\n",
              "    <tr>\n",
              "      <td>4</td>\n",
              "      <td>0.129300</td>\n",
              "      <td>0.459946</td>\n",
              "      <td>0.862745</td>\n",
              "      <td>0.902098</td>\n",
              "      <td>0.880546</td>\n",
              "      <td>0.924731</td>\n",
              "    </tr>\n",
              "    <tr>\n",
              "      <td>5</td>\n",
              "      <td>0.051700</td>\n",
              "      <td>0.517843</td>\n",
              "      <td>0.865196</td>\n",
              "      <td>0.904679</td>\n",
              "      <td>0.875839</td>\n",
              "      <td>0.935484</td>\n",
              "    </tr>\n",
              "  </tbody>\n",
              "</table><p>"
            ]
          },
          "metadata": {}
        },
        {
          "output_type": "stream",
          "name": "stderr",
          "text": [
            "[I 2024-08-17 17:38:11,546] Trial 8 finished with values: [0.8651960784313726, -0.51784348487854] and parameters: {'learning_rate': 3.722716461837092e-05, 'per_device_train_batch_size': 64, 'num_train_epochs': 5, 'weight_decay': 0.0524292158501917, 'warmup_steps': 81, 'adam_beta1': 0.9301979228239061, 'adam_beta2': 0.9960105651477281, 'adam_epsilon': 5.261004882305294e-07}. \n",
            "Some weights of BertForSequenceClassification were not initialized from the model checkpoint at bert-base-uncased and are newly initialized: ['classifier.bias', 'classifier.weight']\n",
            "You should probably TRAIN this model on a down-stream task to be able to use it for predictions and inference.\n"
          ]
        },
        {
          "output_type": "display_data",
          "data": {
            "text/plain": [
              "VBox(children=(Label(value='0.003 MB of 0.003 MB uploaded\\r'), FloatProgress(value=1.0, max=1.0)))"
            ],
            "application/vnd.jupyter.widget-view+json": {
              "version_major": 2,
              "version_minor": 0,
              "model_id": "e65b550e29404deca2f70da34e374684"
            }
          },
          "metadata": {}
        },
        {
          "output_type": "display_data",
          "data": {
            "text/plain": [
              "<IPython.core.display.HTML object>"
            ],
            "text/html": [
              "<style>\n",
              "    table.wandb td:nth-child(1) { padding: 0 10px; text-align: left ; width: auto;} td:nth-child(2) {text-align: left ; width: 100%}\n",
              "    .wandb-row { display: flex; flex-direction: row; flex-wrap: wrap; justify-content: flex-start; width: 100% }\n",
              "    .wandb-col { display: flex; flex-direction: column; flex-basis: 100%; flex: 1; padding: 10px; }\n",
              "    </style>\n",
              "<div class=\"wandb-row\"><div class=\"wandb-col\"><h3>Run history:</h3><br/><table class=\"wandb\"><tr><td>eval/accuracy</td><td>▁▅▇██</td></tr><tr><td>eval/f1</td><td>▁▅▇██</td></tr><tr><td>eval/loss</td><td>█▁▁▅█</td></tr><tr><td>eval/precision</td><td>▁▄▇██</td></tr><tr><td>eval/recall</td><td>▄█▁▃▅</td></tr><tr><td>eval/runtime</td><td>█▄▁▅▄</td></tr><tr><td>eval/samples_per_second</td><td>▁▄█▃▄</td></tr><tr><td>eval/steps_per_second</td><td>▁▄█▃▄</td></tr><tr><td>train/epoch</td><td>▁▁▁▂▂▂▂▂▃▃▃▄▄▄▄▄▅▅▅▅▅▅▆▆▆▇▇▇▇▇▇████</td></tr><tr><td>train/global_step</td><td>▁▁▁▂▂▂▂▃▃▃▃▃▄▄▄▄▅▅▅▅▅▅▆▆▆▇▇▇▇▇▇████</td></tr><tr><td>train/grad_norm</td><td>▂▁▂▁▁▂▂▅▄▄▃▂▃▅▂▅▃▃▂▄▄▃▄▆█▃▁▁▁</td></tr><tr><td>train/learning_rate</td><td>▂▃▄▄▅▆▇██▇▇▇▆▆▆▅▅▅▄▄▄▃▃▃▂▂▂▁▁</td></tr><tr><td>train/loss</td><td>███▇▇▇▆▅▆▅▅▄▃▃▃▃▃▂▁▂▂▁▂▁▁▁▁▁▁</td></tr></table><br/></div><div class=\"wandb-col\"><h3>Run summary:</h3><br/><table class=\"wandb\"><tr><td>eval/accuracy</td><td>0.8652</td></tr><tr><td>eval/f1</td><td>0.90468</td></tr><tr><td>eval/loss</td><td>0.51784</td></tr><tr><td>eval/precision</td><td>0.87584</td></tr><tr><td>eval/recall</td><td>0.93548</td></tr><tr><td>eval/runtime</td><td>0.7011</td></tr><tr><td>eval/samples_per_second</td><td>581.908</td></tr><tr><td>eval/steps_per_second</td><td>37.082</td></tr><tr><td>total_flos</td><td>787069999892880.0</td></tr><tr><td>train/epoch</td><td>5.0</td></tr><tr><td>train/global_step</td><td>290</td></tr><tr><td>train/grad_norm</td><td>1.77203</td></tr><tr><td>train/learning_rate</td><td>0.0</td></tr><tr><td>train/loss</td><td>0.0517</td></tr><tr><td>train_loss</td><td>0.28994</td></tr><tr><td>train_runtime</td><td>143.3265</td></tr><tr><td>train_samples_per_second</td><td>127.96</td></tr><tr><td>train_steps_per_second</td><td>2.023</td></tr></table><br/></div></div>"
            ]
          },
          "metadata": {}
        },
        {
          "output_type": "display_data",
          "data": {
            "text/plain": [
              "<IPython.core.display.HTML object>"
            ],
            "text/html": [
              " View run <strong style=\"color:#cdcd00\">fast-firefly-11</strong> at: <a href='https://wandb.ai/neurafusionai-independent-researcher/huggingface/runs/qi6llniu' target=\"_blank\">https://wandb.ai/neurafusionai-independent-researcher/huggingface/runs/qi6llniu</a><br/> View project at: <a href='https://wandb.ai/neurafusionai-independent-researcher/huggingface' target=\"_blank\">https://wandb.ai/neurafusionai-independent-researcher/huggingface</a><br/>Synced 5 W&B file(s), 0 media file(s), 1 artifact file(s) and 0 other file(s)"
            ]
          },
          "metadata": {}
        },
        {
          "output_type": "display_data",
          "data": {
            "text/plain": [
              "<IPython.core.display.HTML object>"
            ],
            "text/html": [
              "Find logs at: <code>./wandb/run-20240817_173553-qi6llniu/logs</code>"
            ]
          },
          "metadata": {}
        },
        {
          "output_type": "display_data",
          "data": {
            "text/plain": [
              "<IPython.core.display.HTML object>"
            ],
            "text/html": [
              "The new W&B backend becomes opt-out in version 0.18.0; try it out with `wandb.require(\"core\")`! See https://wandb.me/wandb-core for more information."
            ]
          },
          "metadata": {}
        },
        {
          "output_type": "display_data",
          "data": {
            "text/plain": [
              "<IPython.core.display.HTML object>"
            ],
            "text/html": [
              "Tracking run with wandb version 0.17.7"
            ]
          },
          "metadata": {}
        },
        {
          "output_type": "display_data",
          "data": {
            "text/plain": [
              "<IPython.core.display.HTML object>"
            ],
            "text/html": [
              "Run data is saved locally in <code>/content/wandb/run-20240817_173819-nx7m2au2</code>"
            ]
          },
          "metadata": {}
        },
        {
          "output_type": "display_data",
          "data": {
            "text/plain": [
              "<IPython.core.display.HTML object>"
            ],
            "text/html": [
              "Syncing run <strong><a href='https://wandb.ai/neurafusionai-independent-researcher/huggingface/runs/nx7m2au2' target=\"_blank\">sweet-vortex-12</a></strong> to <a href='https://wandb.ai/neurafusionai-independent-researcher/huggingface' target=\"_blank\">Weights & Biases</a> (<a href='https://wandb.me/run' target=\"_blank\">docs</a>)<br/>"
            ]
          },
          "metadata": {}
        },
        {
          "output_type": "display_data",
          "data": {
            "text/plain": [
              "<IPython.core.display.HTML object>"
            ],
            "text/html": [
              " View project at <a href='https://wandb.ai/neurafusionai-independent-researcher/huggingface' target=\"_blank\">https://wandb.ai/neurafusionai-independent-researcher/huggingface</a>"
            ]
          },
          "metadata": {}
        },
        {
          "output_type": "display_data",
          "data": {
            "text/plain": [
              "<IPython.core.display.HTML object>"
            ],
            "text/html": [
              " View run at <a href='https://wandb.ai/neurafusionai-independent-researcher/huggingface/runs/nx7m2au2' target=\"_blank\">https://wandb.ai/neurafusionai-independent-researcher/huggingface/runs/nx7m2au2</a>"
            ]
          },
          "metadata": {}
        },
        {
          "output_type": "display_data",
          "data": {
            "text/plain": [
              "<IPython.core.display.HTML object>"
            ],
            "text/html": [
              "\n",
              "    <div>\n",
              "      \n",
              "      <progress value='575' max='575' style='width:300px; height:20px; vertical-align: middle;'></progress>\n",
              "      [575/575 02:42, Epoch 5/5]\n",
              "    </div>\n",
              "    <table border=\"1\" class=\"dataframe\">\n",
              "  <thead>\n",
              " <tr style=\"text-align: left;\">\n",
              "      <th>Epoch</th>\n",
              "      <th>Training Loss</th>\n",
              "      <th>Validation Loss</th>\n",
              "      <th>Accuracy</th>\n",
              "      <th>F1</th>\n",
              "      <th>Precision</th>\n",
              "      <th>Recall</th>\n",
              "    </tr>\n",
              "  </thead>\n",
              "  <tbody>\n",
              "    <tr>\n",
              "      <td>1</td>\n",
              "      <td>0.610100</td>\n",
              "      <td>0.612310</td>\n",
              "      <td>0.688725</td>\n",
              "      <td>0.814599</td>\n",
              "      <td>0.687192</td>\n",
              "      <td>1.000000</td>\n",
              "    </tr>\n",
              "    <tr>\n",
              "      <td>2</td>\n",
              "      <td>0.562000</td>\n",
              "      <td>0.520512</td>\n",
              "      <td>0.757353</td>\n",
              "      <td>0.831919</td>\n",
              "      <td>0.790323</td>\n",
              "      <td>0.878136</td>\n",
              "    </tr>\n",
              "    <tr>\n",
              "      <td>3</td>\n",
              "      <td>0.428300</td>\n",
              "      <td>0.460064</td>\n",
              "      <td>0.823529</td>\n",
              "      <td>0.882736</td>\n",
              "      <td>0.808955</td>\n",
              "      <td>0.971326</td>\n",
              "    </tr>\n",
              "    <tr>\n",
              "      <td>4</td>\n",
              "      <td>0.349600</td>\n",
              "      <td>0.418026</td>\n",
              "      <td>0.833333</td>\n",
              "      <td>0.884354</td>\n",
              "      <td>0.841424</td>\n",
              "      <td>0.931900</td>\n",
              "    </tr>\n",
              "    <tr>\n",
              "      <td>5</td>\n",
              "      <td>0.154400</td>\n",
              "      <td>0.444557</td>\n",
              "      <td>0.840686</td>\n",
              "      <td>0.889267</td>\n",
              "      <td>0.847403</td>\n",
              "      <td>0.935484</td>\n",
              "    </tr>\n",
              "  </tbody>\n",
              "</table><p>"
            ]
          },
          "metadata": {}
        },
        {
          "output_type": "stream",
          "name": "stderr",
          "text": [
            "[I 2024-08-17 17:41:05,661] Trial 9 finished with values: [0.8406862745098039, -0.44455745816230774] and parameters: {'learning_rate': 1.3620355058286144e-05, 'per_device_train_batch_size': 32, 'num_train_epochs': 5, 'weight_decay': 0.08580047449414488, 'warmup_steps': 373, 'adam_beta1': 0.9454178792245931, 'adam_beta2': 0.9719137109853347, 'adam_epsilon': 9.885785491580137e-07}. \n",
            "Some weights of BertForSequenceClassification were not initialized from the model checkpoint at bert-base-uncased and are newly initialized: ['classifier.bias', 'classifier.weight']\n",
            "You should probably TRAIN this model on a down-stream task to be able to use it for predictions and inference.\n"
          ]
        },
        {
          "output_type": "display_data",
          "data": {
            "text/plain": [
              "VBox(children=(Label(value='0.003 MB of 0.024 MB uploaded\\r'), FloatProgress(value=0.11890112474036917, max=1.…"
            ],
            "application/vnd.jupyter.widget-view+json": {
              "version_major": 2,
              "version_minor": 0,
              "model_id": "0dce22c822534212adf212329b928544"
            }
          },
          "metadata": {}
        },
        {
          "output_type": "display_data",
          "data": {
            "text/plain": [
              "<IPython.core.display.HTML object>"
            ],
            "text/html": [
              "<style>\n",
              "    table.wandb td:nth-child(1) { padding: 0 10px; text-align: left ; width: auto;} td:nth-child(2) {text-align: left ; width: 100%}\n",
              "    .wandb-row { display: flex; flex-direction: row; flex-wrap: wrap; justify-content: flex-start; width: 100% }\n",
              "    .wandb-col { display: flex; flex-direction: column; flex-basis: 100%; flex: 1; padding: 10px; }\n",
              "    </style>\n",
              "<div class=\"wandb-row\"><div class=\"wandb-col\"><h3>Run history:</h3><br/><table class=\"wandb\"><tr><td>eval/accuracy</td><td>▁▄▇██</td></tr><tr><td>eval/f1</td><td>▁▃▇██</td></tr><tr><td>eval/loss</td><td>█▅▃▁▂</td></tr><tr><td>eval/precision</td><td>▁▆▆██</td></tr><tr><td>eval/recall</td><td>█▁▆▄▄</td></tr><tr><td>eval/runtime</td><td>▅▁▂▁█</td></tr><tr><td>eval/samples_per_second</td><td>▄█▆█▁</td></tr><tr><td>eval/steps_per_second</td><td>▄█▆█▁</td></tr><tr><td>train/epoch</td><td>▁▁▁▁▂▂▂▂▂▃▃▃▃▃▄▄▄▄▄▄▅▅▅▅▅▅▆▆▆▆▆▇▇▇▇▇████</td></tr><tr><td>train/global_step</td><td>▁▁▁▁▂▂▂▂▂▃▃▃▃▃▄▄▄▄▄▄▅▅▅▅▅▅▆▆▆▆▆▇▇▇▇▇████</td></tr><tr><td>train/grad_norm</td><td>▁▄▁▂▄▁▁▁▂▂▁▁▂▃▂▃▃▄▂▂▂▄▂▄▂▃▃▄▅▃▄▄█▄▂▂▄▄▇▄</td></tr><tr><td>train/learning_rate</td><td>▁▁▁▂▂▂▃▃▃▃▄▄▄▅▅▅▅▆▆▆▇▇▇█████▇▇▆▅▅▄▄▃▃▂▂▁</td></tr><tr><td>train/loss</td><td>███▇▇█▇▇█▇▇▇▇▆▇▆▇▆▅▅▅▅▅▅▄▃▃▃▄▃▃▄▄▂▂▂▂▂▁▁</td></tr></table><br/></div><div class=\"wandb-col\"><h3>Run summary:</h3><br/><table class=\"wandb\"><tr><td>eval/accuracy</td><td>0.84069</td></tr><tr><td>eval/f1</td><td>0.88927</td></tr><tr><td>eval/loss</td><td>0.44456</td></tr><tr><td>eval/precision</td><td>0.8474</td></tr><tr><td>eval/recall</td><td>0.93548</td></tr><tr><td>eval/runtime</td><td>0.6411</td></tr><tr><td>eval/samples_per_second</td><td>636.415</td></tr><tr><td>eval/steps_per_second</td><td>40.556</td></tr><tr><td>total_flos</td><td>752339340585360.0</td></tr><tr><td>train/epoch</td><td>5.0</td></tr><tr><td>train/global_step</td><td>575</td></tr><tr><td>train/grad_norm</td><td>7.65756</td></tr><tr><td>train/learning_rate</td><td>0.0</td></tr><tr><td>train/loss</td><td>0.1544</td></tr><tr><td>train_loss</td><td>0.44259</td></tr><tr><td>train_runtime</td><td>172.6203</td></tr><tr><td>train_samples_per_second</td><td>106.245</td></tr><tr><td>train_steps_per_second</td><td>3.331</td></tr></table><br/></div></div>"
            ]
          },
          "metadata": {}
        },
        {
          "output_type": "display_data",
          "data": {
            "text/plain": [
              "<IPython.core.display.HTML object>"
            ],
            "text/html": [
              " View run <strong style=\"color:#cdcd00\">sweet-vortex-12</strong> at: <a href='https://wandb.ai/neurafusionai-independent-researcher/huggingface/runs/nx7m2au2' target=\"_blank\">https://wandb.ai/neurafusionai-independent-researcher/huggingface/runs/nx7m2au2</a><br/> View project at: <a href='https://wandb.ai/neurafusionai-independent-researcher/huggingface' target=\"_blank\">https://wandb.ai/neurafusionai-independent-researcher/huggingface</a><br/>Synced 5 W&B file(s), 0 media file(s), 1 artifact file(s) and 0 other file(s)"
            ]
          },
          "metadata": {}
        },
        {
          "output_type": "display_data",
          "data": {
            "text/plain": [
              "<IPython.core.display.HTML object>"
            ],
            "text/html": [
              "Find logs at: <code>./wandb/run-20240817_173819-nx7m2au2/logs</code>"
            ]
          },
          "metadata": {}
        },
        {
          "output_type": "display_data",
          "data": {
            "text/plain": [
              "<IPython.core.display.HTML object>"
            ],
            "text/html": [
              "The new W&B backend becomes opt-out in version 0.18.0; try it out with `wandb.require(\"core\")`! See https://wandb.me/wandb-core for more information."
            ]
          },
          "metadata": {}
        },
        {
          "output_type": "display_data",
          "data": {
            "text/plain": [
              "<IPython.core.display.HTML object>"
            ],
            "text/html": [
              "Tracking run with wandb version 0.17.7"
            ]
          },
          "metadata": {}
        },
        {
          "output_type": "display_data",
          "data": {
            "text/plain": [
              "<IPython.core.display.HTML object>"
            ],
            "text/html": [
              "Run data is saved locally in <code>/content/wandb/run-20240817_174110-ir641xer</code>"
            ]
          },
          "metadata": {}
        },
        {
          "output_type": "display_data",
          "data": {
            "text/plain": [
              "<IPython.core.display.HTML object>"
            ],
            "text/html": [
              "Syncing run <strong><a href='https://wandb.ai/neurafusionai-independent-researcher/huggingface/runs/ir641xer' target=\"_blank\">jolly-glade-13</a></strong> to <a href='https://wandb.ai/neurafusionai-independent-researcher/huggingface' target=\"_blank\">Weights & Biases</a> (<a href='https://wandb.me/run' target=\"_blank\">docs</a>)<br/>"
            ]
          },
          "metadata": {}
        },
        {
          "output_type": "display_data",
          "data": {
            "text/plain": [
              "<IPython.core.display.HTML object>"
            ],
            "text/html": [
              " View project at <a href='https://wandb.ai/neurafusionai-independent-researcher/huggingface' target=\"_blank\">https://wandb.ai/neurafusionai-independent-researcher/huggingface</a>"
            ]
          },
          "metadata": {}
        },
        {
          "output_type": "display_data",
          "data": {
            "text/plain": [
              "<IPython.core.display.HTML object>"
            ],
            "text/html": [
              " View run at <a href='https://wandb.ai/neurafusionai-independent-researcher/huggingface/runs/ir641xer' target=\"_blank\">https://wandb.ai/neurafusionai-independent-researcher/huggingface/runs/ir641xer</a>"
            ]
          },
          "metadata": {}
        },
        {
          "output_type": "display_data",
          "data": {
            "text/plain": [
              "<IPython.core.display.HTML object>"
            ],
            "text/html": [
              "\n",
              "    <div>\n",
              "      \n",
              "      <progress value='30' max='116' style='width:300px; height:20px; vertical-align: middle;'></progress>\n",
              "      [ 30/116 00:12 < 00:38, 2.21 it/s, Epoch 1/4]\n",
              "    </div>\n",
              "    <table border=\"1\" class=\"dataframe\">\n",
              "  <thead>\n",
              " <tr style=\"text-align: left;\">\n",
              "      <th>Epoch</th>\n",
              "      <th>Training Loss</th>\n",
              "      <th>Validation Loss</th>\n",
              "      <th>Accuracy</th>\n",
              "      <th>F1</th>\n",
              "      <th>Precision</th>\n",
              "      <th>Recall</th>\n",
              "    </tr>\n",
              "  </thead>\n",
              "  <tbody>\n",
              "    <tr>\n",
              "      <td>1</td>\n",
              "      <td>0.638200</td>\n",
              "      <td>0.631367</td>\n",
              "      <td>0.683824</td>\n",
              "      <td>0.812227</td>\n",
              "      <td>0.683824</td>\n",
              "      <td>1.000000</td>\n",
              "    </tr>\n",
              "  </tbody>\n",
              "</table><p>"
            ]
          },
          "metadata": {}
        },
        {
          "output_type": "stream",
          "name": "stderr",
          "text": [
            "[W 2024-08-17 17:41:39,751] Trial 10 failed with parameters: {'learning_rate': 4.430063139865743e-05, 'per_device_train_batch_size': 128, 'num_train_epochs': 4, 'weight_decay': 0.19235299327019909, 'warmup_steps': 928, 'adam_beta1': 0.8848491982870554, 'adam_beta2': 0.9813990432150074, 'adam_epsilon': 8.932868143681129e-07} because of the following error: RuntimeError('[enforce fail at inline_container.cc:595] . unexpected pos 506098688 vs 506098576').\n",
            "Traceback (most recent call last):\n",
            "  File \"/usr/local/lib/python3.10/dist-packages/torch/serialization.py\", line 628, in save\n",
            "    _save(obj, opened_zipfile, pickle_module, pickle_protocol, _disable_byteorder_record)\n",
            "  File \"/usr/local/lib/python3.10/dist-packages/torch/serialization.py\", line 862, in _save\n",
            "    zip_file.write_record(name, storage, num_bytes)\n",
            "RuntimeError: [enforce fail at inline_container.cc:764] . PytorchStreamWriter failed writing file data/200: file write failed\n",
            "\n",
            "During handling of the above exception, another exception occurred:\n",
            "\n",
            "Traceback (most recent call last):\n",
            "  File \"/usr/local/lib/python3.10/dist-packages/optuna/study/_optimize.py\", line 196, in _run_trial\n",
            "    value_or_values = func(trial)\n",
            "  File \"/usr/local/lib/python3.10/dist-packages/transformers/integrations/integration_utils.py\", line 211, in _objective\n",
            "    trainer.train(resume_from_checkpoint=checkpoint, trial=trial)\n",
            "  File \"/usr/local/lib/python3.10/dist-packages/transformers/trainer.py\", line 1932, in train\n",
            "    return inner_training_loop(\n",
            "  File \"/usr/local/lib/python3.10/dist-packages/transformers/trainer.py\", line 2365, in _inner_training_loop\n",
            "    self._maybe_log_save_evaluate(tr_loss, grad_norm, model, trial, epoch, ignore_keys_for_eval)\n",
            "  File \"/usr/local/lib/python3.10/dist-packages/transformers/trainer.py\", line 2796, in _maybe_log_save_evaluate\n",
            "    self._save_checkpoint(model, trial, metrics=metrics)\n",
            "  File \"/usr/local/lib/python3.10/dist-packages/transformers/trainer.py\", line 2879, in _save_checkpoint\n",
            "    self._save_optimizer_and_scheduler(output_dir)\n",
            "  File \"/usr/local/lib/python3.10/dist-packages/transformers/trainer.py\", line 2995, in _save_optimizer_and_scheduler\n",
            "    torch.save(self.optimizer.state_dict(), os.path.join(output_dir, OPTIMIZER_NAME))\n",
            "  File \"/usr/local/lib/python3.10/dist-packages/torch/serialization.py\", line 627, in save\n",
            "    with _open_zipfile_writer(f) as opened_zipfile:\n",
            "  File \"/usr/local/lib/python3.10/dist-packages/torch/serialization.py\", line 475, in __exit__\n",
            "    self.file_like.write_end_of_file()\n",
            "RuntimeError: [enforce fail at inline_container.cc:595] . unexpected pos 506098688 vs 506098576\n",
            "[W 2024-08-17 17:41:39,756] Trial 10 failed with value None.\n"
          ]
        },
        {
          "output_type": "error",
          "ename": "RuntimeError",
          "evalue": "[enforce fail at inline_container.cc:595] . unexpected pos 506098688 vs 506098576",
          "traceback": [
            "\u001b[0;31m---------------------------------------------------------------------------\u001b[0m",
            "\u001b[0;31mRuntimeError\u001b[0m                              Traceback (most recent call last)",
            "\u001b[0;32m/usr/local/lib/python3.10/dist-packages/torch/serialization.py\u001b[0m in \u001b[0;36msave\u001b[0;34m(obj, f, pickle_module, pickle_protocol, _use_new_zipfile_serialization, _disable_byteorder_record)\u001b[0m\n\u001b[1;32m    627\u001b[0m         \u001b[0;32mwith\u001b[0m \u001b[0m_open_zipfile_writer\u001b[0m\u001b[0;34m(\u001b[0m\u001b[0mf\u001b[0m\u001b[0;34m)\u001b[0m \u001b[0;32mas\u001b[0m \u001b[0mopened_zipfile\u001b[0m\u001b[0;34m:\u001b[0m\u001b[0;34m\u001b[0m\u001b[0;34m\u001b[0m\u001b[0m\n\u001b[0;32m--> 628\u001b[0;31m             \u001b[0m_save\u001b[0m\u001b[0;34m(\u001b[0m\u001b[0mobj\u001b[0m\u001b[0;34m,\u001b[0m \u001b[0mopened_zipfile\u001b[0m\u001b[0;34m,\u001b[0m \u001b[0mpickle_module\u001b[0m\u001b[0;34m,\u001b[0m \u001b[0mpickle_protocol\u001b[0m\u001b[0;34m,\u001b[0m \u001b[0m_disable_byteorder_record\u001b[0m\u001b[0;34m)\u001b[0m\u001b[0;34m\u001b[0m\u001b[0;34m\u001b[0m\u001b[0m\n\u001b[0m\u001b[1;32m    629\u001b[0m             \u001b[0;32mreturn\u001b[0m\u001b[0;34m\u001b[0m\u001b[0;34m\u001b[0m\u001b[0m\n",
            "\u001b[0;32m/usr/local/lib/python3.10/dist-packages/torch/serialization.py\u001b[0m in \u001b[0;36m_save\u001b[0;34m(obj, zip_file, pickle_module, pickle_protocol, _disable_byteorder_record)\u001b[0m\n\u001b[1;32m    861\u001b[0m         \u001b[0mnum_bytes\u001b[0m \u001b[0;34m=\u001b[0m \u001b[0mstorage\u001b[0m\u001b[0;34m.\u001b[0m\u001b[0mnbytes\u001b[0m\u001b[0;34m(\u001b[0m\u001b[0;34m)\u001b[0m\u001b[0;34m\u001b[0m\u001b[0;34m\u001b[0m\u001b[0m\n\u001b[0;32m--> 862\u001b[0;31m         \u001b[0mzip_file\u001b[0m\u001b[0;34m.\u001b[0m\u001b[0mwrite_record\u001b[0m\u001b[0;34m(\u001b[0m\u001b[0mname\u001b[0m\u001b[0;34m,\u001b[0m \u001b[0mstorage\u001b[0m\u001b[0;34m,\u001b[0m \u001b[0mnum_bytes\u001b[0m\u001b[0;34m)\u001b[0m\u001b[0;34m\u001b[0m\u001b[0;34m\u001b[0m\u001b[0m\n\u001b[0m\u001b[1;32m    863\u001b[0m \u001b[0;34m\u001b[0m\u001b[0m\n",
            "\u001b[0;31mRuntimeError\u001b[0m: [enforce fail at inline_container.cc:764] . PytorchStreamWriter failed writing file data/200: file write failed",
            "\nDuring handling of the above exception, another exception occurred:\n",
            "\u001b[0;31mRuntimeError\u001b[0m                              Traceback (most recent call last)",
            "\u001b[0;32m<ipython-input-11-c0fd218c8e3b>\u001b[0m in \u001b[0;36m<cell line: 84>\u001b[0;34m()\u001b[0m\n\u001b[1;32m     82\u001b[0m \u001b[0;34m\u001b[0m\u001b[0m\n\u001b[1;32m     83\u001b[0m \u001b[0;31m# Perform hyperparameter search\u001b[0m\u001b[0;34m\u001b[0m\u001b[0;34m\u001b[0m\u001b[0m\n\u001b[0;32m---> 84\u001b[0;31m best_trials = trainer.hyperparameter_search(\n\u001b[0m\u001b[1;32m     85\u001b[0m     \u001b[0mdirection\u001b[0m\u001b[0;34m=\u001b[0m\u001b[0;34m[\u001b[0m\u001b[0;34m\"maximize\"\u001b[0m\u001b[0;34m,\u001b[0m \u001b[0;34m\"minimize\"\u001b[0m\u001b[0;34m]\u001b[0m\u001b[0;34m,\u001b[0m\u001b[0;34m\u001b[0m\u001b[0;34m\u001b[0m\u001b[0m\n\u001b[1;32m     86\u001b[0m     \u001b[0mbackend\u001b[0m\u001b[0;34m=\u001b[0m\u001b[0;34m\"optuna\"\u001b[0m\u001b[0;34m,\u001b[0m\u001b[0;34m\u001b[0m\u001b[0;34m\u001b[0m\u001b[0m\n",
            "\u001b[0;32m/usr/local/lib/python3.10/dist-packages/transformers/trainer.py\u001b[0m in \u001b[0;36mhyperparameter_search\u001b[0;34m(self, hp_space, compute_objective, n_trials, direction, backend, hp_name, **kwargs)\u001b[0m\n\u001b[1;32m   3204\u001b[0m         \u001b[0mself\u001b[0m\u001b[0;34m.\u001b[0m\u001b[0mcompute_objective\u001b[0m \u001b[0;34m=\u001b[0m \u001b[0mdefault_compute_objective\u001b[0m \u001b[0;32mif\u001b[0m \u001b[0mcompute_objective\u001b[0m \u001b[0;32mis\u001b[0m \u001b[0;32mNone\u001b[0m \u001b[0;32melse\u001b[0m \u001b[0mcompute_objective\u001b[0m\u001b[0;34m\u001b[0m\u001b[0;34m\u001b[0m\u001b[0m\n\u001b[1;32m   3205\u001b[0m \u001b[0;34m\u001b[0m\u001b[0m\n\u001b[0;32m-> 3206\u001b[0;31m         \u001b[0mbest_run\u001b[0m \u001b[0;34m=\u001b[0m \u001b[0mbackend_obj\u001b[0m\u001b[0;34m.\u001b[0m\u001b[0mrun\u001b[0m\u001b[0;34m(\u001b[0m\u001b[0mself\u001b[0m\u001b[0;34m,\u001b[0m \u001b[0mn_trials\u001b[0m\u001b[0;34m,\u001b[0m \u001b[0mdirection\u001b[0m\u001b[0;34m,\u001b[0m \u001b[0;34m**\u001b[0m\u001b[0mkwargs\u001b[0m\u001b[0;34m)\u001b[0m\u001b[0;34m\u001b[0m\u001b[0;34m\u001b[0m\u001b[0m\n\u001b[0m\u001b[1;32m   3207\u001b[0m \u001b[0;34m\u001b[0m\u001b[0m\n\u001b[1;32m   3208\u001b[0m         \u001b[0mself\u001b[0m\u001b[0;34m.\u001b[0m\u001b[0mhp_search_backend\u001b[0m \u001b[0;34m=\u001b[0m \u001b[0;32mNone\u001b[0m\u001b[0;34m\u001b[0m\u001b[0;34m\u001b[0m\u001b[0m\n",
            "\u001b[0;32m/usr/local/lib/python3.10/dist-packages/transformers/hyperparameter_search.py\u001b[0m in \u001b[0;36mrun\u001b[0;34m(self, trainer, n_trials, direction, **kwargs)\u001b[0m\n\u001b[1;32m     70\u001b[0m \u001b[0;34m\u001b[0m\u001b[0m\n\u001b[1;32m     71\u001b[0m     \u001b[0;32mdef\u001b[0m \u001b[0mrun\u001b[0m\u001b[0;34m(\u001b[0m\u001b[0mself\u001b[0m\u001b[0;34m,\u001b[0m \u001b[0mtrainer\u001b[0m\u001b[0;34m,\u001b[0m \u001b[0mn_trials\u001b[0m\u001b[0;34m:\u001b[0m \u001b[0mint\u001b[0m\u001b[0;34m,\u001b[0m \u001b[0mdirection\u001b[0m\u001b[0;34m:\u001b[0m \u001b[0mstr\u001b[0m\u001b[0;34m,\u001b[0m \u001b[0;34m**\u001b[0m\u001b[0mkwargs\u001b[0m\u001b[0;34m)\u001b[0m\u001b[0;34m:\u001b[0m\u001b[0;34m\u001b[0m\u001b[0;34m\u001b[0m\u001b[0m\n\u001b[0;32m---> 72\u001b[0;31m         \u001b[0;32mreturn\u001b[0m \u001b[0mrun_hp_search_optuna\u001b[0m\u001b[0;34m(\u001b[0m\u001b[0mtrainer\u001b[0m\u001b[0;34m,\u001b[0m \u001b[0mn_trials\u001b[0m\u001b[0;34m,\u001b[0m \u001b[0mdirection\u001b[0m\u001b[0;34m,\u001b[0m \u001b[0;34m**\u001b[0m\u001b[0mkwargs\u001b[0m\u001b[0;34m)\u001b[0m\u001b[0;34m\u001b[0m\u001b[0;34m\u001b[0m\u001b[0m\n\u001b[0m\u001b[1;32m     73\u001b[0m \u001b[0;34m\u001b[0m\u001b[0m\n\u001b[1;32m     74\u001b[0m     \u001b[0;32mdef\u001b[0m \u001b[0mdefault_hp_space\u001b[0m\u001b[0;34m(\u001b[0m\u001b[0mself\u001b[0m\u001b[0;34m,\u001b[0m \u001b[0mtrial\u001b[0m\u001b[0;34m)\u001b[0m\u001b[0;34m:\u001b[0m\u001b[0;34m\u001b[0m\u001b[0;34m\u001b[0m\u001b[0m\n",
            "\u001b[0;32m/usr/local/lib/python3.10/dist-packages/transformers/integrations/integration_utils.py\u001b[0m in \u001b[0;36mrun_hp_search_optuna\u001b[0;34m(trainer, n_trials, direction, **kwargs)\u001b[0m\n\u001b[1;32m    221\u001b[0m         \u001b[0mdirection\u001b[0m \u001b[0;34m=\u001b[0m \u001b[0;32mNone\u001b[0m \u001b[0;32mif\u001b[0m \u001b[0mdirections\u001b[0m \u001b[0;32mis\u001b[0m \u001b[0;32mnot\u001b[0m \u001b[0;32mNone\u001b[0m \u001b[0;32melse\u001b[0m \u001b[0mdirection\u001b[0m\u001b[0;34m\u001b[0m\u001b[0;34m\u001b[0m\u001b[0m\n\u001b[1;32m    222\u001b[0m         \u001b[0mstudy\u001b[0m \u001b[0;34m=\u001b[0m \u001b[0moptuna\u001b[0m\u001b[0;34m.\u001b[0m\u001b[0mcreate_study\u001b[0m\u001b[0;34m(\u001b[0m\u001b[0mdirection\u001b[0m\u001b[0;34m=\u001b[0m\u001b[0mdirection\u001b[0m\u001b[0;34m,\u001b[0m \u001b[0mdirections\u001b[0m\u001b[0;34m=\u001b[0m\u001b[0mdirections\u001b[0m\u001b[0;34m,\u001b[0m \u001b[0;34m**\u001b[0m\u001b[0mkwargs\u001b[0m\u001b[0;34m)\u001b[0m\u001b[0;34m\u001b[0m\u001b[0;34m\u001b[0m\u001b[0m\n\u001b[0;32m--> 223\u001b[0;31m         \u001b[0mstudy\u001b[0m\u001b[0;34m.\u001b[0m\u001b[0moptimize\u001b[0m\u001b[0;34m(\u001b[0m\u001b[0m_objective\u001b[0m\u001b[0;34m,\u001b[0m \u001b[0mn_trials\u001b[0m\u001b[0;34m=\u001b[0m\u001b[0mn_trials\u001b[0m\u001b[0;34m,\u001b[0m \u001b[0mtimeout\u001b[0m\u001b[0;34m=\u001b[0m\u001b[0mtimeout\u001b[0m\u001b[0;34m,\u001b[0m \u001b[0mn_jobs\u001b[0m\u001b[0;34m=\u001b[0m\u001b[0mn_jobs\u001b[0m\u001b[0;34m)\u001b[0m\u001b[0;34m\u001b[0m\u001b[0;34m\u001b[0m\u001b[0m\n\u001b[0m\u001b[1;32m    224\u001b[0m         \u001b[0;32mif\u001b[0m \u001b[0;32mnot\u001b[0m \u001b[0mstudy\u001b[0m\u001b[0;34m.\u001b[0m\u001b[0m_is_multi_objective\u001b[0m\u001b[0;34m(\u001b[0m\u001b[0;34m)\u001b[0m\u001b[0;34m:\u001b[0m\u001b[0;34m\u001b[0m\u001b[0;34m\u001b[0m\u001b[0m\n\u001b[1;32m    225\u001b[0m             \u001b[0mbest_trial\u001b[0m \u001b[0;34m=\u001b[0m \u001b[0mstudy\u001b[0m\u001b[0;34m.\u001b[0m\u001b[0mbest_trial\u001b[0m\u001b[0;34m\u001b[0m\u001b[0;34m\u001b[0m\u001b[0m\n",
            "\u001b[0;32m/usr/local/lib/python3.10/dist-packages/optuna/study/study.py\u001b[0m in \u001b[0;36moptimize\u001b[0;34m(self, func, n_trials, timeout, n_jobs, catch, callbacks, gc_after_trial, show_progress_bar)\u001b[0m\n\u001b[1;32m    449\u001b[0m                 \u001b[0mIf\u001b[0m \u001b[0mnested\u001b[0m \u001b[0minvocation\u001b[0m \u001b[0mof\u001b[0m \u001b[0mthis\u001b[0m \u001b[0mmethod\u001b[0m \u001b[0moccurs\u001b[0m\u001b[0;34m.\u001b[0m\u001b[0;34m\u001b[0m\u001b[0;34m\u001b[0m\u001b[0m\n\u001b[1;32m    450\u001b[0m         \"\"\"\n\u001b[0;32m--> 451\u001b[0;31m         _optimize(\n\u001b[0m\u001b[1;32m    452\u001b[0m             \u001b[0mstudy\u001b[0m\u001b[0;34m=\u001b[0m\u001b[0mself\u001b[0m\u001b[0;34m,\u001b[0m\u001b[0;34m\u001b[0m\u001b[0;34m\u001b[0m\u001b[0m\n\u001b[1;32m    453\u001b[0m             \u001b[0mfunc\u001b[0m\u001b[0;34m=\u001b[0m\u001b[0mfunc\u001b[0m\u001b[0;34m,\u001b[0m\u001b[0;34m\u001b[0m\u001b[0;34m\u001b[0m\u001b[0m\n",
            "\u001b[0;32m/usr/local/lib/python3.10/dist-packages/optuna/study/_optimize.py\u001b[0m in \u001b[0;36m_optimize\u001b[0;34m(study, func, n_trials, timeout, n_jobs, catch, callbacks, gc_after_trial, show_progress_bar)\u001b[0m\n\u001b[1;32m     60\u001b[0m     \u001b[0;32mtry\u001b[0m\u001b[0;34m:\u001b[0m\u001b[0;34m\u001b[0m\u001b[0;34m\u001b[0m\u001b[0m\n\u001b[1;32m     61\u001b[0m         \u001b[0;32mif\u001b[0m \u001b[0mn_jobs\u001b[0m \u001b[0;34m==\u001b[0m \u001b[0;36m1\u001b[0m\u001b[0;34m:\u001b[0m\u001b[0;34m\u001b[0m\u001b[0;34m\u001b[0m\u001b[0m\n\u001b[0;32m---> 62\u001b[0;31m             _optimize_sequential(\n\u001b[0m\u001b[1;32m     63\u001b[0m                 \u001b[0mstudy\u001b[0m\u001b[0;34m,\u001b[0m\u001b[0;34m\u001b[0m\u001b[0;34m\u001b[0m\u001b[0m\n\u001b[1;32m     64\u001b[0m                 \u001b[0mfunc\u001b[0m\u001b[0;34m,\u001b[0m\u001b[0;34m\u001b[0m\u001b[0;34m\u001b[0m\u001b[0m\n",
            "\u001b[0;32m/usr/local/lib/python3.10/dist-packages/optuna/study/_optimize.py\u001b[0m in \u001b[0;36m_optimize_sequential\u001b[0;34m(study, func, n_trials, timeout, catch, callbacks, gc_after_trial, reseed_sampler_rng, time_start, progress_bar)\u001b[0m\n\u001b[1;32m    157\u001b[0m \u001b[0;34m\u001b[0m\u001b[0m\n\u001b[1;32m    158\u001b[0m         \u001b[0;32mtry\u001b[0m\u001b[0;34m:\u001b[0m\u001b[0;34m\u001b[0m\u001b[0;34m\u001b[0m\u001b[0m\n\u001b[0;32m--> 159\u001b[0;31m             \u001b[0mfrozen_trial\u001b[0m \u001b[0;34m=\u001b[0m \u001b[0m_run_trial\u001b[0m\u001b[0;34m(\u001b[0m\u001b[0mstudy\u001b[0m\u001b[0;34m,\u001b[0m \u001b[0mfunc\u001b[0m\u001b[0;34m,\u001b[0m \u001b[0mcatch\u001b[0m\u001b[0;34m)\u001b[0m\u001b[0;34m\u001b[0m\u001b[0;34m\u001b[0m\u001b[0m\n\u001b[0m\u001b[1;32m    160\u001b[0m         \u001b[0;32mfinally\u001b[0m\u001b[0;34m:\u001b[0m\u001b[0;34m\u001b[0m\u001b[0;34m\u001b[0m\u001b[0m\n\u001b[1;32m    161\u001b[0m             \u001b[0;31m# The following line mitigates memory problems that can be occurred in some\u001b[0m\u001b[0;34m\u001b[0m\u001b[0;34m\u001b[0m\u001b[0m\n",
            "\u001b[0;32m/usr/local/lib/python3.10/dist-packages/optuna/study/_optimize.py\u001b[0m in \u001b[0;36m_run_trial\u001b[0;34m(study, func, catch)\u001b[0m\n\u001b[1;32m    245\u001b[0m         \u001b[0;32mand\u001b[0m \u001b[0;32mnot\u001b[0m \u001b[0misinstance\u001b[0m\u001b[0;34m(\u001b[0m\u001b[0mfunc_err\u001b[0m\u001b[0;34m,\u001b[0m \u001b[0mcatch\u001b[0m\u001b[0;34m)\u001b[0m\u001b[0;34m\u001b[0m\u001b[0;34m\u001b[0m\u001b[0m\n\u001b[1;32m    246\u001b[0m     ):\n\u001b[0;32m--> 247\u001b[0;31m         \u001b[0;32mraise\u001b[0m \u001b[0mfunc_err\u001b[0m\u001b[0;34m\u001b[0m\u001b[0;34m\u001b[0m\u001b[0m\n\u001b[0m\u001b[1;32m    248\u001b[0m     \u001b[0;32mreturn\u001b[0m \u001b[0mfrozen_trial\u001b[0m\u001b[0;34m\u001b[0m\u001b[0;34m\u001b[0m\u001b[0m\n\u001b[1;32m    249\u001b[0m \u001b[0;34m\u001b[0m\u001b[0m\n",
            "\u001b[0;32m/usr/local/lib/python3.10/dist-packages/optuna/study/_optimize.py\u001b[0m in \u001b[0;36m_run_trial\u001b[0;34m(study, func, catch)\u001b[0m\n\u001b[1;32m    194\u001b[0m     \u001b[0;32mwith\u001b[0m \u001b[0mget_heartbeat_thread\u001b[0m\u001b[0;34m(\u001b[0m\u001b[0mtrial\u001b[0m\u001b[0;34m.\u001b[0m\u001b[0m_trial_id\u001b[0m\u001b[0;34m,\u001b[0m \u001b[0mstudy\u001b[0m\u001b[0;34m.\u001b[0m\u001b[0m_storage\u001b[0m\u001b[0;34m)\u001b[0m\u001b[0;34m:\u001b[0m\u001b[0;34m\u001b[0m\u001b[0;34m\u001b[0m\u001b[0m\n\u001b[1;32m    195\u001b[0m         \u001b[0;32mtry\u001b[0m\u001b[0;34m:\u001b[0m\u001b[0;34m\u001b[0m\u001b[0;34m\u001b[0m\u001b[0m\n\u001b[0;32m--> 196\u001b[0;31m             \u001b[0mvalue_or_values\u001b[0m \u001b[0;34m=\u001b[0m \u001b[0mfunc\u001b[0m\u001b[0;34m(\u001b[0m\u001b[0mtrial\u001b[0m\u001b[0;34m)\u001b[0m\u001b[0;34m\u001b[0m\u001b[0;34m\u001b[0m\u001b[0m\n\u001b[0m\u001b[1;32m    197\u001b[0m         \u001b[0;32mexcept\u001b[0m \u001b[0mexceptions\u001b[0m\u001b[0;34m.\u001b[0m\u001b[0mTrialPruned\u001b[0m \u001b[0;32mas\u001b[0m \u001b[0me\u001b[0m\u001b[0;34m:\u001b[0m\u001b[0;34m\u001b[0m\u001b[0;34m\u001b[0m\u001b[0m\n\u001b[1;32m    198\u001b[0m             \u001b[0;31m# TODO(mamu): Handle multi-objective cases.\u001b[0m\u001b[0;34m\u001b[0m\u001b[0;34m\u001b[0m\u001b[0m\n",
            "\u001b[0;32m/usr/local/lib/python3.10/dist-packages/transformers/integrations/integration_utils.py\u001b[0m in \u001b[0;36m_objective\u001b[0;34m(trial, checkpoint_dir)\u001b[0m\n\u001b[1;32m    209\u001b[0m                 \u001b[0mtrainer\u001b[0m\u001b[0;34m.\u001b[0m\u001b[0mtrain\u001b[0m\u001b[0;34m(\u001b[0m\u001b[0mresume_from_checkpoint\u001b[0m\u001b[0;34m=\u001b[0m\u001b[0mcheckpoint\u001b[0m\u001b[0;34m)\u001b[0m\u001b[0;34m\u001b[0m\u001b[0;34m\u001b[0m\u001b[0m\n\u001b[1;32m    210\u001b[0m             \u001b[0;32melse\u001b[0m\u001b[0;34m:\u001b[0m\u001b[0;34m\u001b[0m\u001b[0;34m\u001b[0m\u001b[0m\n\u001b[0;32m--> 211\u001b[0;31m                 \u001b[0mtrainer\u001b[0m\u001b[0;34m.\u001b[0m\u001b[0mtrain\u001b[0m\u001b[0;34m(\u001b[0m\u001b[0mresume_from_checkpoint\u001b[0m\u001b[0;34m=\u001b[0m\u001b[0mcheckpoint\u001b[0m\u001b[0;34m,\u001b[0m \u001b[0mtrial\u001b[0m\u001b[0;34m=\u001b[0m\u001b[0mtrial\u001b[0m\u001b[0;34m)\u001b[0m\u001b[0;34m\u001b[0m\u001b[0;34m\u001b[0m\u001b[0m\n\u001b[0m\u001b[1;32m    212\u001b[0m             \u001b[0;31m# If there hasn't been any evaluation during the training loop.\u001b[0m\u001b[0;34m\u001b[0m\u001b[0;34m\u001b[0m\u001b[0m\n\u001b[1;32m    213\u001b[0m             \u001b[0;32mif\u001b[0m \u001b[0mgetattr\u001b[0m\u001b[0;34m(\u001b[0m\u001b[0mtrainer\u001b[0m\u001b[0;34m,\u001b[0m \u001b[0;34m\"objective\"\u001b[0m\u001b[0;34m,\u001b[0m \u001b[0;32mNone\u001b[0m\u001b[0;34m)\u001b[0m \u001b[0;32mis\u001b[0m \u001b[0;32mNone\u001b[0m\u001b[0;34m:\u001b[0m\u001b[0;34m\u001b[0m\u001b[0;34m\u001b[0m\u001b[0m\n",
            "\u001b[0;32m/usr/local/lib/python3.10/dist-packages/transformers/trainer.py\u001b[0m in \u001b[0;36mtrain\u001b[0;34m(self, resume_from_checkpoint, trial, ignore_keys_for_eval, **kwargs)\u001b[0m\n\u001b[1;32m   1930\u001b[0m                 \u001b[0mhf_hub_utils\u001b[0m\u001b[0;34m.\u001b[0m\u001b[0menable_progress_bars\u001b[0m\u001b[0;34m(\u001b[0m\u001b[0;34m)\u001b[0m\u001b[0;34m\u001b[0m\u001b[0;34m\u001b[0m\u001b[0m\n\u001b[1;32m   1931\u001b[0m         \u001b[0;32melse\u001b[0m\u001b[0;34m:\u001b[0m\u001b[0;34m\u001b[0m\u001b[0;34m\u001b[0m\u001b[0m\n\u001b[0;32m-> 1932\u001b[0;31m             return inner_training_loop(\n\u001b[0m\u001b[1;32m   1933\u001b[0m                 \u001b[0margs\u001b[0m\u001b[0;34m=\u001b[0m\u001b[0margs\u001b[0m\u001b[0;34m,\u001b[0m\u001b[0;34m\u001b[0m\u001b[0;34m\u001b[0m\u001b[0m\n\u001b[1;32m   1934\u001b[0m                 \u001b[0mresume_from_checkpoint\u001b[0m\u001b[0;34m=\u001b[0m\u001b[0mresume_from_checkpoint\u001b[0m\u001b[0;34m,\u001b[0m\u001b[0;34m\u001b[0m\u001b[0;34m\u001b[0m\u001b[0m\n",
            "\u001b[0;32m/usr/local/lib/python3.10/dist-packages/transformers/trainer.py\u001b[0m in \u001b[0;36m_inner_training_loop\u001b[0;34m(self, batch_size, args, resume_from_checkpoint, trial, ignore_keys_for_eval)\u001b[0m\n\u001b[1;32m   2363\u001b[0m \u001b[0;34m\u001b[0m\u001b[0m\n\u001b[1;32m   2364\u001b[0m             \u001b[0mself\u001b[0m\u001b[0;34m.\u001b[0m\u001b[0mcontrol\u001b[0m \u001b[0;34m=\u001b[0m \u001b[0mself\u001b[0m\u001b[0;34m.\u001b[0m\u001b[0mcallback_handler\u001b[0m\u001b[0;34m.\u001b[0m\u001b[0mon_epoch_end\u001b[0m\u001b[0;34m(\u001b[0m\u001b[0margs\u001b[0m\u001b[0;34m,\u001b[0m \u001b[0mself\u001b[0m\u001b[0;34m.\u001b[0m\u001b[0mstate\u001b[0m\u001b[0;34m,\u001b[0m \u001b[0mself\u001b[0m\u001b[0;34m.\u001b[0m\u001b[0mcontrol\u001b[0m\u001b[0;34m)\u001b[0m\u001b[0;34m\u001b[0m\u001b[0;34m\u001b[0m\u001b[0m\n\u001b[0;32m-> 2365\u001b[0;31m             \u001b[0mself\u001b[0m\u001b[0;34m.\u001b[0m\u001b[0m_maybe_log_save_evaluate\u001b[0m\u001b[0;34m(\u001b[0m\u001b[0mtr_loss\u001b[0m\u001b[0;34m,\u001b[0m \u001b[0mgrad_norm\u001b[0m\u001b[0;34m,\u001b[0m \u001b[0mmodel\u001b[0m\u001b[0;34m,\u001b[0m \u001b[0mtrial\u001b[0m\u001b[0;34m,\u001b[0m \u001b[0mepoch\u001b[0m\u001b[0;34m,\u001b[0m \u001b[0mignore_keys_for_eval\u001b[0m\u001b[0;34m)\u001b[0m\u001b[0;34m\u001b[0m\u001b[0;34m\u001b[0m\u001b[0m\n\u001b[0m\u001b[1;32m   2366\u001b[0m \u001b[0;34m\u001b[0m\u001b[0m\n\u001b[1;32m   2367\u001b[0m             \u001b[0;32mif\u001b[0m \u001b[0mDebugOption\u001b[0m\u001b[0;34m.\u001b[0m\u001b[0mTPU_METRICS_DEBUG\u001b[0m \u001b[0;32min\u001b[0m \u001b[0mself\u001b[0m\u001b[0;34m.\u001b[0m\u001b[0margs\u001b[0m\u001b[0;34m.\u001b[0m\u001b[0mdebug\u001b[0m\u001b[0;34m:\u001b[0m\u001b[0;34m\u001b[0m\u001b[0;34m\u001b[0m\u001b[0m\n",
            "\u001b[0;32m/usr/local/lib/python3.10/dist-packages/transformers/trainer.py\u001b[0m in \u001b[0;36m_maybe_log_save_evaluate\u001b[0;34m(self, tr_loss, grad_norm, model, trial, epoch, ignore_keys_for_eval)\u001b[0m\n\u001b[1;32m   2794\u001b[0m \u001b[0;34m\u001b[0m\u001b[0m\n\u001b[1;32m   2795\u001b[0m         \u001b[0;32mif\u001b[0m \u001b[0mself\u001b[0m\u001b[0;34m.\u001b[0m\u001b[0mcontrol\u001b[0m\u001b[0;34m.\u001b[0m\u001b[0mshould_save\u001b[0m\u001b[0;34m:\u001b[0m\u001b[0;34m\u001b[0m\u001b[0;34m\u001b[0m\u001b[0m\n\u001b[0;32m-> 2796\u001b[0;31m             \u001b[0mself\u001b[0m\u001b[0;34m.\u001b[0m\u001b[0m_save_checkpoint\u001b[0m\u001b[0;34m(\u001b[0m\u001b[0mmodel\u001b[0m\u001b[0;34m,\u001b[0m \u001b[0mtrial\u001b[0m\u001b[0;34m,\u001b[0m \u001b[0mmetrics\u001b[0m\u001b[0;34m=\u001b[0m\u001b[0mmetrics\u001b[0m\u001b[0;34m)\u001b[0m\u001b[0;34m\u001b[0m\u001b[0;34m\u001b[0m\u001b[0m\n\u001b[0m\u001b[1;32m   2797\u001b[0m             \u001b[0mself\u001b[0m\u001b[0;34m.\u001b[0m\u001b[0mcontrol\u001b[0m \u001b[0;34m=\u001b[0m \u001b[0mself\u001b[0m\u001b[0;34m.\u001b[0m\u001b[0mcallback_handler\u001b[0m\u001b[0;34m.\u001b[0m\u001b[0mon_save\u001b[0m\u001b[0;34m(\u001b[0m\u001b[0mself\u001b[0m\u001b[0;34m.\u001b[0m\u001b[0margs\u001b[0m\u001b[0;34m,\u001b[0m \u001b[0mself\u001b[0m\u001b[0;34m.\u001b[0m\u001b[0mstate\u001b[0m\u001b[0;34m,\u001b[0m \u001b[0mself\u001b[0m\u001b[0;34m.\u001b[0m\u001b[0mcontrol\u001b[0m\u001b[0;34m)\u001b[0m\u001b[0;34m\u001b[0m\u001b[0;34m\u001b[0m\u001b[0m\n\u001b[1;32m   2798\u001b[0m \u001b[0;34m\u001b[0m\u001b[0m\n",
            "\u001b[0;32m/usr/local/lib/python3.10/dist-packages/transformers/trainer.py\u001b[0m in \u001b[0;36m_save_checkpoint\u001b[0;34m(self, model, trial, metrics)\u001b[0m\n\u001b[1;32m   2877\u001b[0m         \u001b[0;32mif\u001b[0m \u001b[0;32mnot\u001b[0m \u001b[0mself\u001b[0m\u001b[0;34m.\u001b[0m\u001b[0margs\u001b[0m\u001b[0;34m.\u001b[0m\u001b[0msave_only_model\u001b[0m\u001b[0;34m:\u001b[0m\u001b[0;34m\u001b[0m\u001b[0;34m\u001b[0m\u001b[0m\n\u001b[1;32m   2878\u001b[0m             \u001b[0;31m# Save optimizer and scheduler\u001b[0m\u001b[0;34m\u001b[0m\u001b[0;34m\u001b[0m\u001b[0m\n\u001b[0;32m-> 2879\u001b[0;31m             \u001b[0mself\u001b[0m\u001b[0;34m.\u001b[0m\u001b[0m_save_optimizer_and_scheduler\u001b[0m\u001b[0;34m(\u001b[0m\u001b[0moutput_dir\u001b[0m\u001b[0;34m)\u001b[0m\u001b[0;34m\u001b[0m\u001b[0;34m\u001b[0m\u001b[0m\n\u001b[0m\u001b[1;32m   2880\u001b[0m             \u001b[0;31m# Save RNG state\u001b[0m\u001b[0;34m\u001b[0m\u001b[0;34m\u001b[0m\u001b[0m\n\u001b[1;32m   2881\u001b[0m             \u001b[0mself\u001b[0m\u001b[0;34m.\u001b[0m\u001b[0m_save_rng_state\u001b[0m\u001b[0;34m(\u001b[0m\u001b[0moutput_dir\u001b[0m\u001b[0;34m)\u001b[0m\u001b[0;34m\u001b[0m\u001b[0;34m\u001b[0m\u001b[0m\n",
            "\u001b[0;32m/usr/local/lib/python3.10/dist-packages/transformers/trainer.py\u001b[0m in \u001b[0;36m_save_optimizer_and_scheduler\u001b[0;34m(self, output_dir)\u001b[0m\n\u001b[1;32m   2993\u001b[0m         \u001b[0;32melif\u001b[0m \u001b[0mself\u001b[0m\u001b[0;34m.\u001b[0m\u001b[0margs\u001b[0m\u001b[0;34m.\u001b[0m\u001b[0mshould_save\u001b[0m\u001b[0;34m:\u001b[0m\u001b[0;34m\u001b[0m\u001b[0;34m\u001b[0m\u001b[0m\n\u001b[1;32m   2994\u001b[0m             \u001b[0;31m# deepspeed.save_checkpoint above saves model/optim/sched\u001b[0m\u001b[0;34m\u001b[0m\u001b[0;34m\u001b[0m\u001b[0m\n\u001b[0;32m-> 2995\u001b[0;31m             \u001b[0mtorch\u001b[0m\u001b[0;34m.\u001b[0m\u001b[0msave\u001b[0m\u001b[0;34m(\u001b[0m\u001b[0mself\u001b[0m\u001b[0;34m.\u001b[0m\u001b[0moptimizer\u001b[0m\u001b[0;34m.\u001b[0m\u001b[0mstate_dict\u001b[0m\u001b[0;34m(\u001b[0m\u001b[0;34m)\u001b[0m\u001b[0;34m,\u001b[0m \u001b[0mos\u001b[0m\u001b[0;34m.\u001b[0m\u001b[0mpath\u001b[0m\u001b[0;34m.\u001b[0m\u001b[0mjoin\u001b[0m\u001b[0;34m(\u001b[0m\u001b[0moutput_dir\u001b[0m\u001b[0;34m,\u001b[0m \u001b[0mOPTIMIZER_NAME\u001b[0m\u001b[0;34m)\u001b[0m\u001b[0;34m)\u001b[0m\u001b[0;34m\u001b[0m\u001b[0;34m\u001b[0m\u001b[0m\n\u001b[0m\u001b[1;32m   2996\u001b[0m \u001b[0;34m\u001b[0m\u001b[0m\n\u001b[1;32m   2997\u001b[0m         \u001b[0;31m# Save SCHEDULER & SCALER\u001b[0m\u001b[0;34m\u001b[0m\u001b[0;34m\u001b[0m\u001b[0m\n",
            "\u001b[0;32m/usr/local/lib/python3.10/dist-packages/torch/serialization.py\u001b[0m in \u001b[0;36msave\u001b[0;34m(obj, f, pickle_module, pickle_protocol, _use_new_zipfile_serialization, _disable_byteorder_record)\u001b[0m\n\u001b[1;32m    625\u001b[0m \u001b[0;34m\u001b[0m\u001b[0m\n\u001b[1;32m    626\u001b[0m     \u001b[0;32mif\u001b[0m \u001b[0m_use_new_zipfile_serialization\u001b[0m\u001b[0;34m:\u001b[0m\u001b[0;34m\u001b[0m\u001b[0;34m\u001b[0m\u001b[0m\n\u001b[0;32m--> 627\u001b[0;31m         \u001b[0;32mwith\u001b[0m \u001b[0m_open_zipfile_writer\u001b[0m\u001b[0;34m(\u001b[0m\u001b[0mf\u001b[0m\u001b[0;34m)\u001b[0m \u001b[0;32mas\u001b[0m \u001b[0mopened_zipfile\u001b[0m\u001b[0;34m:\u001b[0m\u001b[0;34m\u001b[0m\u001b[0;34m\u001b[0m\u001b[0m\n\u001b[0m\u001b[1;32m    628\u001b[0m             \u001b[0m_save\u001b[0m\u001b[0;34m(\u001b[0m\u001b[0mobj\u001b[0m\u001b[0;34m,\u001b[0m \u001b[0mopened_zipfile\u001b[0m\u001b[0;34m,\u001b[0m \u001b[0mpickle_module\u001b[0m\u001b[0;34m,\u001b[0m \u001b[0mpickle_protocol\u001b[0m\u001b[0;34m,\u001b[0m \u001b[0m_disable_byteorder_record\u001b[0m\u001b[0;34m)\u001b[0m\u001b[0;34m\u001b[0m\u001b[0;34m\u001b[0m\u001b[0m\n\u001b[1;32m    629\u001b[0m             \u001b[0;32mreturn\u001b[0m\u001b[0;34m\u001b[0m\u001b[0;34m\u001b[0m\u001b[0m\n",
            "\u001b[0;32m/usr/local/lib/python3.10/dist-packages/torch/serialization.py\u001b[0m in \u001b[0;36m__exit__\u001b[0;34m(self, *args)\u001b[0m\n\u001b[1;32m    473\u001b[0m \u001b[0;34m\u001b[0m\u001b[0m\n\u001b[1;32m    474\u001b[0m     \u001b[0;32mdef\u001b[0m \u001b[0m__exit__\u001b[0m\u001b[0;34m(\u001b[0m\u001b[0mself\u001b[0m\u001b[0;34m,\u001b[0m \u001b[0;34m*\u001b[0m\u001b[0margs\u001b[0m\u001b[0;34m)\u001b[0m \u001b[0;34m->\u001b[0m \u001b[0;32mNone\u001b[0m\u001b[0;34m:\u001b[0m\u001b[0;34m\u001b[0m\u001b[0;34m\u001b[0m\u001b[0m\n\u001b[0;32m--> 475\u001b[0;31m         \u001b[0mself\u001b[0m\u001b[0;34m.\u001b[0m\u001b[0mfile_like\u001b[0m\u001b[0;34m.\u001b[0m\u001b[0mwrite_end_of_file\u001b[0m\u001b[0;34m(\u001b[0m\u001b[0;34m)\u001b[0m\u001b[0;34m\u001b[0m\u001b[0;34m\u001b[0m\u001b[0m\n\u001b[0m\u001b[1;32m    476\u001b[0m         \u001b[0;32mif\u001b[0m \u001b[0mself\u001b[0m\u001b[0;34m.\u001b[0m\u001b[0mfile_stream\u001b[0m \u001b[0;32mis\u001b[0m \u001b[0;32mnot\u001b[0m \u001b[0;32mNone\u001b[0m\u001b[0;34m:\u001b[0m\u001b[0;34m\u001b[0m\u001b[0;34m\u001b[0m\u001b[0m\n\u001b[1;32m    477\u001b[0m             \u001b[0mself\u001b[0m\u001b[0;34m.\u001b[0m\u001b[0mfile_stream\u001b[0m\u001b[0;34m.\u001b[0m\u001b[0mclose\u001b[0m\u001b[0;34m(\u001b[0m\u001b[0;34m)\u001b[0m\u001b[0;34m\u001b[0m\u001b[0;34m\u001b[0m\u001b[0m\n",
            "\u001b[0;31mRuntimeError\u001b[0m: [enforce fail at inline_container.cc:595] . unexpected pos 506098688 vs 506098576"
          ]
        }
      ]
    },
    {
      "cell_type": "markdown",
      "source": [
        "![Screenshot from 2024-08-17 19-50-08.png](data:image/png;base64,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)"
      ],
      "metadata": {
        "id": "cp3JvB_Bditj"
      }
    },
    {
      "cell_type": "markdown",
      "source": [
        "# Model Initialization Function"
      ],
      "metadata": {
        "id": "AFSpWPA-OgHJ"
      }
    },
    {
      "cell_type": "code",
      "source": [
        "from transformers import AutoModelForSequenceClassification\n",
        "\n",
        "def model_init():\n",
        "    return AutoModelForSequenceClassification.from_pretrained(\"bert-base-uncased\", num_labels=2)\n"
      ],
      "metadata": {
        "id": "sTfQrPYYOnro"
      },
      "execution_count": null,
      "outputs": []
    },
    {
      "cell_type": "markdown",
      "source": [
        "# Training Arguments Setup"
      ],
      "metadata": {
        "id": "dlOH_qDJWMHs"
      }
    },
    {
      "cell_type": "code",
      "source": [
        "from transformers import TrainingArguments\n",
        "\n",
        "training_args = TrainingArguments(\n",
        "    output_dir=\"./results\",\n",
        "    evaluation_strategy=\"epoch\",\n",
        "    save_strategy=\"epoch\",\n",
        "    learning_rate=2e-5,\n",
        "    per_device_train_batch_size=16,\n",
        "    per_device_eval_batch_size=16,\n",
        "    num_train_epochs=3,\n",
        "    weight_decay=0.01,\n",
        "    logging_dir='./logs',\n",
        "    logging_steps=10,\n",
        "    fp16=True,  # Mixed precision for faster training\n",
        "    load_best_model_at_end=True,\n",
        "    metric_for_best_model=\"accuracy\",\n",
        "    greater_is_better=True,\n",
        ")"
      ],
      "metadata": {
        "id": "0fxUBUT_WOGn"
      },
      "execution_count": null,
      "outputs": []
    },
    {
      "cell_type": "markdown",
      "source": [
        "# Initialize Trainer and Perform Hyperparameter Search"
      ],
      "metadata": {
        "id": "MQ_Qmm5aWZCM"
      }
    },
    {
      "cell_type": "code",
      "source": [
        "from transformers import Trainer\n",
        "\n",
        "trainer = Trainer(\n",
        "    model_init=model_init,\n",
        "    args=training_args,\n",
        "    train_dataset=tokenized_datasets[\"train\"],\n",
        "    eval_dataset=tokenized_datasets[\"validation\"],\n",
        "    tokenizer=tokenizer,\n",
        "    data_collator=data_collator,\n",
        ")"
      ],
      "metadata": {
        "id": "fw3N_P25WasF"
      },
      "execution_count": null,
      "outputs": []
    },
    {
      "cell_type": "code",
      "source": [
        "best_trial = trainer.hyperparameter_search(\n",
        "    direction=\"maximize\",\n",
        "    backend=\"optuna\",\n",
        "    hp_space=optuna_hp_space,\n",
        "    n_trials=50,\n",
        "    compute_objective=lambda metrics: metrics[\"eval_accuracy\"],\n",
        ")"
      ],
      "metadata": {
        "id": "swYN3eh8WfiD"
      },
      "execution_count": null,
      "outputs": []
    },
    {
      "cell_type": "markdown",
      "source": [
        "# Distributed Training"
      ],
      "metadata": {
        "id": "dBaP8gjoWltR"
      }
    },
    {
      "cell_type": "code",
      "source": [
        "training_args = TrainingArguments(\n",
        "    output_dir=\"./results\",\n",
        "    evaluation_strategy=\"epoch\",\n",
        "    save_strategy=\"epoch\",\n",
        "    per_device_train_batch_size=16,\n",
        "    per_device_eval_batch_size=16,\n",
        "    learning_rate=best_trial.hyperparameters['learning_rate'],\n",
        "    num_train_epochs=int(best_trial.hyperparameters['num_train_epochs']),\n",
        "    weight_decay=best_trial.hyperparameters['weight_decay'],\n",
        "    logging_dir='./logs',\n",
        "    logging_steps=10,\n",
        "    fp16=True,\n",
        "    load_best_model_at_end=True,\n",
        "    metric_for_best_model=\"accuracy\",\n",
        "    greater_is_better=True,\n",
        "    # Enable Distributed Data Parallel (DDP)\n",
        "    ddp_find_unused_parameters=False,\n",
        ")"
      ],
      "metadata": {
        "id": "Eth_zkBQWiqG"
      },
      "execution_count": null,
      "outputs": []
    },
    {
      "cell_type": "code",
      "source": [],
      "metadata": {
        "id": "52nU4uWoWqBQ"
      },
      "execution_count": null,
      "outputs": []
    },
    {
      "cell_type": "markdown",
      "source": [
        "# Train Final Model with Best Hyperparameters"
      ],
      "metadata": {
        "id": "RTSGD_BWWslB"
      }
    },
    {
      "cell_type": "code",
      "source": [
        "best_model = model_init()\n",
        "best_trainer = Trainer(\n",
        "    model=best_model,\n",
        "    args=training_args,\n",
        "    train_dataset=tokenized_datasets[\"train\"],\n",
        "    eval_dataset=tokenized_datasets[\"validation\"],\n",
        "    tokenizer=tokenizer,\n",
        "    data_collator=data_collator,\n",
        ")\n",
        "\n",
        "best_trainer.train()"
      ],
      "metadata": {
        "id": "zHJC4YcaWu3a"
      },
      "execution_count": null,
      "outputs": []
    },
    {
      "cell_type": "code",
      "source": [
        "best_trainer.push_to_hub(\"bert-mrpc-optimized\")"
      ],
      "metadata": {
        "id": "CLRwpTtKWypH"
      },
      "execution_count": null,
      "outputs": []
    },
    {
      "cell_type": "code",
      "source": [
        "import wandb\n",
        "\n",
        "wandb.init(project=\"transformer-hpo\", entity=\"wandb\")"
      ],
      "metadata": {
        "id": "kFWlPvM-W2Fu"
      },
      "execution_count": null,
      "outputs": []
    },
    {
      "cell_type": "code",
      "source": [
        "trainer.add_callback(transformers.integrations.WandbCallback)"
      ],
      "metadata": {
        "id": "mjT9S0hBW5E5"
      },
      "execution_count": null,
      "outputs": []
    },
    {
      "cell_type": "code",
      "source": [],
      "metadata": {
        "id": "d2fCTP6BW72i"
      },
      "execution_count": null,
      "outputs": []
    }
  ]
}